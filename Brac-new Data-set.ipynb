{
 "cells": [
  {
   "cell_type": "code",
   "execution_count": 1,
   "metadata": {
    "ExecuteTime": {
     "end_time": "2021-09-15T10:28:47.486325Z",
     "start_time": "2021-09-15T10:28:47.372827Z"
    }
   },
   "outputs": [
    {
     "name": "stdout",
     "output_type": "stream",
     "text": [
      "Python 3.7.3\r\n"
     ]
    }
   ],
   "source": [
    "!python --version"
   ]
  },
  {
   "cell_type": "markdown",
   "metadata": {},
   "source": [
    "## Import Statements"
   ]
  },
  {
   "cell_type": "code",
   "execution_count": 8,
   "metadata": {
    "ExecuteTime": {
     "end_time": "2021-09-15T10:32:16.967281Z",
     "start_time": "2021-09-15T10:32:16.954436Z"
    }
   },
   "outputs": [],
   "source": [
    "import os\n",
    "from pydub import AudioSegment"
   ]
  },
  {
   "cell_type": "markdown",
   "metadata": {
    "ExecuteTime": {
     "end_time": "2021-08-01T10:04:55.533182Z",
     "start_time": "2021-08-01T10:04:55.530933Z"
    }
   },
   "source": [
    "## New Metadata Preparation\n"
   ]
  },
  {
   "cell_type": "code",
   "execution_count": 1,
   "metadata": {
    "ExecuteTime": {
     "end_time": "2021-08-01T10:15:50.899808Z",
     "start_time": "2021-08-01T10:15:50.893853Z"
    }
   },
   "outputs": [],
   "source": [
    "data = {}"
   ]
  },
  {
   "cell_type": "code",
   "execution_count": 3,
   "metadata": {
    "ExecuteTime": {
     "end_time": "2021-08-01T10:19:35.256709Z",
     "start_time": "2021-08-01T10:19:35.222636Z"
    }
   },
   "outputs": [
    {
     "name": "stdout",
     "output_type": "stream",
     "text": [
      "10893\n"
     ]
    }
   ],
   "source": [
    "#src_file = '/media/arif/Resource/My PC/Tutorial/PhD (Offline)/Resources/Sound Corpus/BracU Speech Data/speech_corpus.txt'\n",
    "src_file = '/mnt/resource/Tutorial/PhD (Offline)/Resources/Sound Corpus/BracU Speech Data/speech_corpus.txt'\n",
    "\n",
    "with open(src_file) as f:\n",
    "    for counter, line in enumerate(f):\n",
    "        idx, txt, trans = line.split('\\t')\n",
    "        \n",
    "        txt += '।'\n",
    "        data[idx] = (txt, txt)\n",
    "        \n",
    "    print(counter)        "
   ]
  },
  {
   "cell_type": "code",
   "execution_count": 4,
   "metadata": {
    "ExecuteTime": {
     "end_time": "2021-08-01T10:21:53.042869Z",
     "start_time": "2021-08-01T10:21:53.034823Z"
    }
   },
   "outputs": [],
   "source": [
    "src_file = '/media/arif/Resource/My PC/Tutorial/PhD (Offline)/Resources/Sound Corpus/BracU Speech Data/metadata_nsw_normalized_from_akash.csv'\n",
    "src_file = '/mnt/resource/Tutorial/PhD (Offline)/Resources/Sound Corpus/BracU Speech Data/metadata_nsw_normalized_from_akash.csv'\n",
    "\n",
    "with open(src_file) as f:\n",
    "    for counter, line in enumerate(f):\n",
    "        idx, txt, normalized = line.strip().split('|')\n",
    "        \n",
    "        data[idx] = (txt, normalized)\n",
    "        "
   ]
  },
  {
   "cell_type": "markdown",
   "metadata": {},
   "source": [
    "## Removing one-word sentences"
   ]
  },
  {
   "cell_type": "code",
   "execution_count": 9,
   "metadata": {},
   "outputs": [
    {
     "name": "stdout",
     "output_type": "stream",
     "text": [
      "Total 300 one-word sentences detected and removed.\n",
      "Size of data now: 10594\n"
     ]
    }
   ],
   "source": [
    "data_cpy = data.copy()\n",
    "one_words = 0\n",
    "for counter, (k, v) in enumerate(data_cpy.items()):\n",
    "    if len(v[0].strip().split()) == 1:\n",
    "        one_words += 1\n",
    "        del data[k]\n",
    "\n",
    "print(f'Total {one_words} one-word sentences detected and removed.')\n",
    "print(f'Size of data now: {len(data)}')"
   ]
  },
  {
   "cell_type": "markdown",
   "metadata": {},
   "source": [
    "## Abbreviation replacement\n"
   ]
  },
  {
   "cell_type": "code",
   "execution_count": 11,
   "metadata": {},
   "outputs": [
    {
     "name": "stdout",
     "output_type": "stream",
     "text": [
      "Total abbreviation rules: 20\n"
     ]
    }
   ],
   "source": [
    "abbr_rules = dict()\n",
    "with open('abbreviation_normalizer.txt') as f:\n",
    "    k = None\n",
    "    for i, line in enumerate(f):\n",
    "        if i % 2 == 0: \n",
    "            k = line.strip()\n",
    "        else:\n",
    "            abbr_rules[k] = line.strip()\n",
    "        \n",
    "print(f'Total abbreviation rules: {len(abbr_rules)}')"
   ]
  },
  {
   "cell_type": "code",
   "execution_count": 16,
   "metadata": {
    "ExecuteTime": {
     "end_time": "2021-08-01T10:41:44.662039Z",
     "start_time": "2021-08-01T10:41:44.640087Z"
    }
   },
   "outputs": [],
   "source": [
    "data_cpy = data.copy()\n",
    "for counter, (k, v) in enumerate(data_cpy.items()):\n",
    "    for (ab_k, ab_v) in abbr_rules.items():\n",
    "        if ab_k + ' ' in v[0]:\n",
    "            data[k] = (v[0], v[1].replace(ab_k, ab_v))\n",
    "\n",
    "    #if counter == 5: break"
   ]
  },
  {
   "cell_type": "code",
   "execution_count": 18,
   "metadata": {
    "ExecuteTime": {
     "end_time": "2021-08-01T10:34:49.997453Z",
     "start_time": "2021-08-01T10:34:49.928337Z"
    }
   },
   "outputs": [],
   "source": [
    "dst_file = '/media/arif/Resource/My PC/Tutorial/PhD (Offline)/Resources/Sound Corpus/BracU Speech Data/metadata_normalized.csv'\n",
    "dst_file = '/mnt/resource/Tutorial/PhD (Offline)/Resources/Sound Corpus/BracU Speech Data/metadata_normalized.csv'\n",
    "\n",
    "with open(dst_file, 'w') as f:\n",
    "    for counter, (k, v) in enumerate(data.items()):\n",
    "        #print(k + ' | ' + v[0] + ' | ' + v[1] + '\\n')       \n",
    "        f.write(k + ' | ' + v[0] + ' | ' + v[1] + '\\n')\n",
    "        #if counter == 5: break"
   ]
  },
  {
   "cell_type": "markdown",
   "metadata": {},
   "source": [
    "## WAV Durations"
   ]
  },
  {
   "cell_type": "code",
   "execution_count": 2,
   "metadata": {
    "ExecuteTime": {
     "end_time": "2021-09-15T10:29:22.739418Z",
     "start_time": "2021-09-15T10:29:22.736425Z"
    }
   },
   "outputs": [],
   "source": [
    "wavdir = '/media/arif/Resource/My PC/Tutorial/PhD (Offline)/Resources/Sound Corpus/BracU Speech Data/wavs_clipped_mono_normalized_22.05k'"
   ]
  },
  {
   "cell_type": "code",
   "execution_count": 6,
   "metadata": {
    "ExecuteTime": {
     "end_time": "2021-09-15T10:30:17.477271Z",
     "start_time": "2021-09-15T10:30:17.466187Z"
    }
   },
   "outputs": [],
   "source": [
    "wav_files = os.listdir(wavdir)"
   ]
  },
  {
   "cell_type": "code",
   "execution_count": 7,
   "metadata": {
    "ExecuteTime": {
     "end_time": "2021-09-15T10:30:26.353713Z",
     "start_time": "2021-09-15T10:30:26.345427Z"
    }
   },
   "outputs": [
    {
     "data": {
      "text/plain": [
       "10894"
      ]
     },
     "execution_count": 7,
     "metadata": {},
     "output_type": "execute_result"
    }
   ],
   "source": [
    "len(wav_files)"
   ]
  },
  {
   "cell_type": "code",
   "execution_count": 9,
   "metadata": {
    "ExecuteTime": {
     "end_time": "2021-09-15T10:36:30.966912Z",
     "start_time": "2021-09-15T10:36:30.959613Z"
    }
   },
   "outputs": [
    {
     "name": "stdout",
     "output_type": "stream",
     "text": [
      "1.8229931972789115\n",
      "8.738004535147393\n",
      "2.5360090702947846\n",
      "6.956009070294785\n",
      "7.514013605442177\n"
     ]
    }
   ],
   "source": [
    "counter = 0\n",
    "for file in wav_files:\n",
    "    audio = AudioSegment.from_wav(os.path.join(wavdir, file))\n",
    "    \n",
    "    print(audio.duration_seconds)\n",
    "    \n",
    "    counter += 1\n",
    "    if counter == 5: break"
   ]
  },
  {
   "cell_type": "code",
   "execution_count": null,
   "metadata": {},
   "outputs": [],
   "source": []
  }
 ],
 "metadata": {
  "interpreter": {
   "hash": "d70e2d321279222f1eafaf81c9747d238e011e5ae49bb51776f0b8d2bfcb65d2"
  },
  "kernelspec": {
   "display_name": "Python 3",
   "language": "python",
   "name": "python3"
  },
  "toc": {
   "base_numbering": 1,
   "nav_menu": {},
   "number_sections": true,
   "sideBar": true,
   "skip_h1_title": false,
   "title_cell": "Table of Contents",
   "title_sidebar": "Contents",
   "toc_cell": false,
   "toc_position": {},
   "toc_section_display": true,
   "toc_window_display": true
  }
 },
 "nbformat": 4,
 "nbformat_minor": 2
}
