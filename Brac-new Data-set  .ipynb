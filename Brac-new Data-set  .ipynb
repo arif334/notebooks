{
 "cells": [
  {
   "cell_type": "code",
   "execution_count": null,
   "source": [],
   "outputs": [],
   "metadata": {}
  },
  {
   "cell_type": "code",
   "execution_count": 1,
   "source": [
    "\n"
   ],
   "outputs": [],
   "metadata": {
    "ExecuteTime": {
     "end_time": "2021-08-01T10:04:55.533182Z",
     "start_time": "2021-08-01T10:04:55.530933Z"
    }
   }
  },
  {
   "cell_type": "code",
   "execution_count": 1,
   "source": [
    "data = {}"
   ],
   "outputs": [],
   "metadata": {
    "ExecuteTime": {
     "end_time": "2021-08-01T10:15:50.899808Z",
     "start_time": "2021-08-01T10:15:50.893853Z"
    }
   }
  },
  {
   "cell_type": "code",
   "execution_count": 3,
   "source": [
    "#src_file = '/media/arif/Resource/My PC/Tutorial/PhD (Offline)/Resources/Sound Corpus/BracU Speech Data/speech_corpus.txt'\n",
    "src_file = '/mnt/resource/Tutorial/PhD (Offline)/Resources/Sound Corpus/BracU Speech Data/speech_corpus.txt'\n",
    "\n",
    "with open(src_file) as f:\n",
    "    for counter, line in enumerate(f):\n",
    "        idx, txt, trans = line.split('\\t')\n",
    "        \n",
    "        txt += '।'\n",
    "        data[idx] = (txt, txt)\n",
    "        \n",
    "    print(counter)        "
   ],
   "outputs": [
    {
     "output_type": "stream",
     "name": "stdout",
     "text": [
      "10893\n"
     ]
    }
   ],
   "metadata": {
    "ExecuteTime": {
     "end_time": "2021-08-01T10:19:35.256709Z",
     "start_time": "2021-08-01T10:19:35.222636Z"
    }
   }
  },
  {
   "cell_type": "code",
   "execution_count": 4,
   "source": [
    "src_file = '/media/arif/Resource/My PC/Tutorial/PhD (Offline)/Resources/Sound Corpus/BracU Speech Data/metadata_nsw_normalized_from_akash.csv'\n",
    "src_file = '/mnt/resource/Tutorial/PhD (Offline)/Resources/Sound Corpus/BracU Speech Data/metadata_nsw_normalized_from_akash.csv'\n",
    "\n",
    "with open(src_file) as f:\n",
    "    for counter, line in enumerate(f):\n",
    "        idx, txt, normalized = line.strip().split('|')\n",
    "        \n",
    "        data[idx] = (txt, normalized)\n",
    "        "
   ],
   "outputs": [],
   "metadata": {
    "ExecuteTime": {
     "end_time": "2021-08-01T10:21:53.042869Z",
     "start_time": "2021-08-01T10:21:53.034823Z"
    }
   }
  },
  {
   "cell_type": "markdown",
   "source": [
    "## Removing one-word sentences"
   ],
   "metadata": {}
  },
  {
   "cell_type": "code",
   "execution_count": 9,
   "source": [
    "data_cpy = data.copy()\n",
    "one_words = 0\n",
    "for counter, (k, v) in enumerate(data_cpy.items()):\n",
    "    if len(v[0].strip().split()) == 1:\n",
    "        one_words += 1\n",
    "        del data[k]\n",
    "\n",
    "print(f'Total {one_words} one-word sentences detected and removed.')\n",
    "print(f'Size of data now: {len(data)}')"
   ],
   "outputs": [
    {
     "output_type": "stream",
     "name": "stdout",
     "text": [
      "Total 300 one-word sentences detected and removed.\n",
      "Size of data now: 10594\n"
     ]
    }
   ],
   "metadata": {}
  },
  {
   "cell_type": "markdown",
   "source": [
    "## Abbreviation replacement\n"
   ],
   "metadata": {}
  },
  {
   "cell_type": "code",
   "execution_count": 11,
   "source": [
    "abbr_rules = dict()\n",
    "with open('abbreviation_normalizer.txt') as f:\n",
    "    k = None\n",
    "    for i, line in enumerate(f):\n",
    "        if i % 2 == 0: \n",
    "            k = line.strip()\n",
    "        else:\n",
    "            abbr_rules[k] = line.strip()\n",
    "        \n",
    "print(f'Total abbreviation rules: {len(abbr_rules)}')"
   ],
   "outputs": [
    {
     "output_type": "stream",
     "name": "stdout",
     "text": [
      "Total abbreviation rules: 20\n"
     ]
    }
   ],
   "metadata": {}
  },
  {
   "cell_type": "code",
   "execution_count": 16,
   "source": [
    "data_cpy = data.copy()\n",
    "for counter, (k, v) in enumerate(data_cpy.items()):\n",
    "    for (ab_k, ab_v) in abbr_rules.items():\n",
    "        if ab_k + ' ' in v[0]:\n",
    "            data[k] = (v[0], v[1].replace(ab_k, ab_v))\n",
    "\n",
    "    #if counter == 5: break"
   ],
   "outputs": [],
   "metadata": {
    "ExecuteTime": {
     "end_time": "2021-08-01T10:41:44.662039Z",
     "start_time": "2021-08-01T10:41:44.640087Z"
    }
   }
  },
  {
   "cell_type": "code",
   "execution_count": 18,
   "source": [
    "dst_file = '/media/arif/Resource/My PC/Tutorial/PhD (Offline)/Resources/Sound Corpus/BracU Speech Data/metadata_normalized.csv'\n",
    "dst_file = '/mnt/resource/Tutorial/PhD (Offline)/Resources/Sound Corpus/BracU Speech Data/metadata_normalized.csv'\n",
    "\n",
    "with open(dst_file, 'w') as f:\n",
    "    for counter, (k, v) in enumerate(data.items()):\n",
    "        #print(k + ' | ' + v[0] + ' | ' + v[1] + '\\n')       \n",
    "        f.write(k + ' | ' + v[0] + ' | ' + v[1] + '\\n')\n",
    "        #if counter == 5: break"
   ],
   "outputs": [],
   "metadata": {
    "ExecuteTime": {
     "end_time": "2021-08-01T10:34:49.997453Z",
     "start_time": "2021-08-01T10:34:49.928337Z"
    }
   }
  },
  {
   "cell_type": "code",
   "execution_count": null,
   "source": [],
   "outputs": [],
   "metadata": {}
  }
 ],
 "metadata": {
  "kernelspec": {
   "name": "python3",
   "display_name": "Python 3.8.3 64-bit ('base': conda)"
  },
  "language_info": {
   "codemirror_mode": {
    "name": "ipython",
    "version": 3
   },
   "file_extension": ".py",
   "mimetype": "text/x-python",
   "name": "python",
   "nbconvert_exporter": "python",
   "pygments_lexer": "ipython3",
   "version": "3.8.3"
  },
  "toc": {
   "base_numbering": 1,
   "nav_menu": {},
   "number_sections": true,
   "sideBar": true,
   "skip_h1_title": false,
   "title_cell": "Table of Contents",
   "title_sidebar": "Contents",
   "toc_cell": false,
   "toc_position": {},
   "toc_section_display": true,
   "toc_window_display": true
  },
  "interpreter": {
   "hash": "d70e2d321279222f1eafaf81c9747d238e011e5ae49bb51776f0b8d2bfcb65d2"
  }
 },
 "nbformat": 4,
 "nbformat_minor": 2
}