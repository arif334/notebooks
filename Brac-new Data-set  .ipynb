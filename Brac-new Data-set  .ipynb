{
 "cells": [
  {
   "cell_type": "code",
   "execution_count": null,
   "metadata": {},
   "outputs": [],
   "source": []
  },
  {
   "cell_type": "code",
   "execution_count": 1,
   "metadata": {
    "ExecuteTime": {
     "end_time": "2021-08-01T10:04:55.533182Z",
     "start_time": "2021-08-01T10:04:55.530933Z"
    }
   },
   "outputs": [],
   "source": [
    "\n"
   ]
  },
  {
   "cell_type": "code",
   "execution_count": 8,
   "metadata": {
    "ExecuteTime": {
     "end_time": "2021-08-01T10:15:50.899808Z",
     "start_time": "2021-08-01T10:15:50.893853Z"
    }
   },
   "outputs": [],
   "source": [
    "data = {}"
   ]
  },
  {
   "cell_type": "code",
   "execution_count": 10,
   "metadata": {
    "ExecuteTime": {
     "end_time": "2021-08-01T10:19:35.256709Z",
     "start_time": "2021-08-01T10:19:35.222636Z"
    }
   },
   "outputs": [
    {
     "name": "stdout",
     "output_type": "stream",
     "text": [
      "10893\n"
     ]
    }
   ],
   "source": [
    "src_file = '/media/arif/Resource/My PC/Tutorial/PhD (Offline)/Resources/Sound Corpus/BracU Speech Data/speech_corpus.txt'\n",
    "\n",
    "with open(src_file) as f:\n",
    "    for counter, line in enumerate(f):\n",
    "        idx, txt, trans = line.split('\\t')\n",
    "        \n",
    "        txt += '।'\n",
    "        data[idx] = (txt, txt)\n",
    "        \n",
    "    print(counter)        "
   ]
  },
  {
   "cell_type": "code",
   "execution_count": 15,
   "metadata": {
    "ExecuteTime": {
     "end_time": "2021-08-01T10:21:53.042869Z",
     "start_time": "2021-08-01T10:21:53.034823Z"
    }
   },
   "outputs": [],
   "source": [
    "src_file = '/media/arif/Resource/My PC/Tutorial/PhD (Offline)/Resources/Sound Corpus/BracU Speech Data/metadata_nsw_normalized_from_akash.csv'\n",
    "\n",
    "with open(src_file) as f:\n",
    "    for counter, line in enumerate(f):\n",
    "        idx, txt, normalized = line.strip().split('|')\n",
    "        \n",
    "        data[idx] = (txt, normalized)\n",
    "        "
   ]
  },
  {
   "cell_type": "code",
   "execution_count": 27,
   "metadata": {
    "ExecuteTime": {
     "end_time": "2021-08-01T10:41:44.662039Z",
     "start_time": "2021-08-01T10:41:44.640087Z"
    }
   },
   "outputs": [
    {
     "name": "stdout",
     "output_type": "stream",
     "text": [
      "কথা হয় রাজবাড়ীগামী এমএস পরিবহনের যাত্রী মোঃ মাসুদ আলীর সঙ্গে।\n",
      "৬ মে সন্ধ্যায় গিয়ে দেখা যায়, মোঃ ইসমাইল ও খোদেজা বেগম ঘুমিয়ে আছেন হাসপাতালের নিচতলায় অন্ধকারাচ্ছন্ন করিডোরের এক কোণে।\n",
      "স্থানীয়ভাবে ডাক্তার’ হিসেবে পরিচিত ব্রাহ্মণবাড়িয়া সদর হাসপাতালের এমএলএসএস মোঃ মোবারক হোসেন, জাকির হোসেন ও সিভিল সার্জন অফিসের অফিস সহকারী শফিকুল ইসলাম এই চক্রের অন্যতম সদস্য।\n",
      "হাসপাতাল রোডের ওষুধ ব্যবসায়ী মোঃ মিজান জানান, ব্রাহ্মণবাড়িয়া শহরকে এখন ওষুধের  শহরই বলা চলে।\n",
      "কলাপাড়ার টিয়াখালীর মোঃ চান মিয়া বেপারী (৬০) উপজেলা প্রশাসনের এক কর্মকর্তার কাছে সত্য ঘটনা বললে উল্টো তাকে মারধর করে মিথ্যা মামলা দিয়ে জেলে পাঠানো হয়েছিল।\n",
      "মোঃ নুরুল আলম, উপজেলা নির্বাহী অফিসার, কুলিয়ার চর, কিশোরগঞ্জ।\n"
     ]
    }
   ],
   "source": [
    "data_cpy = data.copy()\n",
    "for counter, (k, v) in enumerate(data_cpy.items()):\n",
    "        if len(v[0].strip().split()) == 1:\n",
    "            del data[k]\n",
    "        \n",
    "        if \"মোঃ \" in v[0]:\n",
    "            print(v[0])\n",
    "        #if counter == 5: break"
   ]
  },
  {
   "cell_type": "code",
   "execution_count": 25,
   "metadata": {
    "ExecuteTime": {
     "end_time": "2021-08-01T10:34:49.997453Z",
     "start_time": "2021-08-01T10:34:49.928337Z"
    }
   },
   "outputs": [
    {
     "name": "stdout",
     "output_type": "stream",
     "text": [
      "Total 301 one-word sentences.\n",
      "10593 sentences written.\n"
     ]
    }
   ],
   "source": [
    "dst_file = '/media/arif/Resource/My PC/Tutorial/PhD (Offline)/Resources/Sound Corpus/BracU Speech Data/metadata_normalized.csv'\n",
    "\n",
    "one_words = 0\n",
    "with open(dst_file, 'w') as f:\n",
    "    for counter, (k, v) in enumerate(data.items()):\n",
    "        if len(v[0].strip().split()) == 1:\n",
    "            one_words += 1\n",
    "            continue\n",
    "        \n",
    "        f.write(k + ' | ' + v[0] + ' | ' + v[1] + '\\n')\n",
    "        #if counter == 5: break\n",
    "        \n",
    "    print(f'Total {one_words} one-word sentences.')\n",
    "    print(f'{counter - one_words + 1} sentences written.')"
   ]
  },
  {
   "cell_type": "code",
   "execution_count": null,
   "metadata": {},
   "outputs": [],
   "source": []
  }
 ],
 "metadata": {
  "kernelspec": {
   "display_name": "Python 3.8.5 64-bit",
   "language": "python",
   "name": "python385jvsc74a57bd031f2aee4e71d21fbe5cf8b01ff0e069b9275f58929596ceb00d14d90e3e16cd6"
  },
  "language_info": {
   "codemirror_mode": {
    "name": "ipython",
    "version": 3
   },
   "file_extension": ".py",
   "mimetype": "text/x-python",
   "name": "python",
   "nbconvert_exporter": "python",
   "pygments_lexer": "ipython3",
   "version": "3.8.10"
  },
  "toc": {
   "base_numbering": 1,
   "nav_menu": {},
   "number_sections": true,
   "sideBar": true,
   "skip_h1_title": false,
   "title_cell": "Table of Contents",
   "title_sidebar": "Contents",
   "toc_cell": false,
   "toc_position": {},
   "toc_section_display": true,
   "toc_window_display": true
  }
 },
 "nbformat": 4,
 "nbformat_minor": 2
}
