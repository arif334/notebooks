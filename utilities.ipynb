{
 "cells": [
  {
   "cell_type": "code",
   "execution_count": 10,
   "metadata": {
    "ExecuteTime": {
     "end_time": "2022-08-05T05:27:26.833005Z",
     "start_time": "2022-08-05T05:27:26.830895Z"
    }
   },
   "outputs": [],
   "source": [
    "from pydub import AudioSegment, effects\n",
    "from pydub.playback import play\n",
    "import os\n",
    "import shutil\n",
    "import re\n",
    "\n",
    "from scipy.io import wavfile\n",
    "from pesq import pesq\n",
    "import numpy as np"
   ]
  },
  {
   "cell_type": "markdown",
   "metadata": {
    "heading_collapsed": true
   },
   "source": [
    "# Extracting unique characters from a dataset"
   ]
  },
  {
   "cell_type": "code",
   "execution_count": 1,
   "metadata": {
    "ExecuteTime": {
     "end_time": "2022-03-10T06:40:30.723079Z",
     "start_time": "2022-03-10T06:40:30.530805Z"
    },
    "hidden": true
   },
   "outputs": [
    {
     "name": "stdout",
     "output_type": "stream",
     "text": [
      " স্কুলটির দিকে দৃষ্টি দিন।\n",
      "\n",
      " পিরোজপুর জেলার কাউখালী বন্দরে একটি মাত্র বালিকা বিদ্যালয় আছে, যা এসবি সরকারি উচ্চবালিকা বিদ্যালয় নামে পরিচিত।\n",
      "\n",
      " অনেক ঐতিহ্য বহন করছে এ বিদ্যালয়টি।\n",
      "\n",
      " কিন্তু এখানকার ছাত্রী ও শিক্ষক-শিক্ষিকাদের সম্মুখীন হতে হচ্ছে বহুবিধ সমস্যার!\n",
      "\n",
      " পাশ্বর্বর্তী বিভিন্ন গ্রাম ও দূরদূরান্ত থেকে ভালো শিক্ষার আশায় এখানে পড়তে আসছে শিক্ষার্থীরা।\n",
      "\n",
      "Total unique characters: 97\n",
      "Characters:  !\"'(),-./:;?[] ।ঁংঃঅআইঈউঊঋএঐওঔকখগঘঙচছজঝঞটঠডঢণতথদধনপফবভমযরলশষসহ়ািীুূৃেৈোৌ্ৎৗড়ঢ়য়০১২৩৪৬৭৮৯‌‍–—―’”−\n"
     ]
    }
   ],
   "source": [
    "#file_path = \"/mnt/resource/Etc/data/adrita18/metadata.csv\"\n",
    "#file_path = \"/mnt/resource/Etc/data/alamgir12/metadata.csv\"\n",
    "file_path = \"/media/arif/Resource/Etc/data/alamgir12/metadata.csv\"\n",
    "\n",
    "\n",
    "text = \"\"\n",
    "with open(file_path) as f:\n",
    "    for i, line in enumerate(f):\n",
    "        _, t, nt = line.split(\"|\")\n",
    "        text += nt.strip()\n",
    "\n",
    "        if i < 5:\n",
    "            print(nt)\n",
    "\n",
    "characters = set(text)\n",
    "\n",
    "print(f'Total unique characters: {len(characters)}')\n",
    "print(f'Characters: {\"\".join(sorted(characters))}')"
   ]
  },
  {
   "cell_type": "code",
   "execution_count": 2,
   "metadata": {
    "ExecuteTime": {
     "end_time": "2022-03-08T11:13:32.492471Z",
     "start_time": "2022-03-08T11:13:32.482810Z"
    },
    "hidden": true
   },
   "outputs": [
    {
     "data": {
      "text/plain": [
       "660437"
      ]
     },
     "execution_count": 2,
     "metadata": {},
     "output_type": "execute_result"
    }
   ],
   "source": [
    "alamgir_text = text\n",
    "len(alamgir_text)"
   ]
  },
  {
   "cell_type": "code",
   "execution_count": 7,
   "metadata": {
    "ExecuteTime": {
     "end_time": "2022-03-08T11:16:07.365274Z",
     "start_time": "2022-03-08T11:16:07.362063Z"
    },
    "hidden": true
   },
   "outputs": [
    {
     "data": {
      "text/plain": [
       "793163"
      ]
     },
     "execution_count": 7,
     "metadata": {},
     "output_type": "execute_result"
    }
   ],
   "source": [
    "adrita_text = text\n",
    "len(adrita_text)"
   ]
  },
  {
   "cell_type": "markdown",
   "metadata": {
    "heading_collapsed": true
   },
   "source": [
    "# Creating `characters` for COQUI-TTS"
   ]
  },
  {
   "cell_type": "code",
   "execution_count": 9,
   "metadata": {
    "ExecuteTime": {
     "end_time": "2022-03-08T11:17:57.916282Z",
     "start_time": "2022-03-08T11:17:57.841543Z"
    },
    "hidden": true
   },
   "outputs": [
    {
     "name": "stdout",
     "output_type": "stream",
     "text": [
      "Characters in corpus: {'ক', 'ড়', '৪', 'ফ', '৫', ' ', ')', 't', 'ৎ', '%', 'ঞ', 'ছ', 'য়', 'ভ', 'শ', 'a', 'ূ', '১', 'H', 'R', 'হ', 'ঁ', 'l', ',', 'F', 'ো', '.', 'া', 'র', '\"', 'ষ', 'ৗ', 'প', 'h', 'ঠ', '0', '০', 'Y', 'ণ', '(', 'b', 'L', 'ঙ', 'ঐ', 'থ', '৯', 'x', '*', 'ঔ', '৬', 'য', 'k', 'ধ', 'C', '\\u200d', 'খ', 'ই', '3', 'ঌ', 'B', '?', 'জ', '[', 'i', 'গ', 'ী', 'ৈ', 'উ', 'c', 'ঝ', 'I', 'ে', '8', 'e', 'ঢ়', 'M', 'ত', 'G', '২', '#', 'ু', '5', '৭', 'S', 'ৃ', '\\xa0', '-', 'K', '৩', 'f', 'o', 'q', 'ও', '―', 'y', 'ঃ', 'ং', 'd', 'm', '/', 'T', '়', 'ব', 'স', '6', 'চ', '্', 'A', 'আ', '–', 'n', ';', 'u', '\\u200c', '−', 'ন', 'w', 'E', 's', '!', 'r', '°', '—', 'ঈ', 'ি', 'J', '@', '৮', '’', 'ৌ', 'ড', 'অ', 'g', 'ঘ', '”', 'ম', 'D', ']', 'ঋ', ':', 'এ', 'ট', 'N', 'ঢ', 'ঊ', 'P', 'p', '1', 'ল', '।', \"'\", 'দ'}\n"
     ]
    }
   ],
   "source": [
    "text = alamgir_text + adrita_text\n",
    "chars = set(text)\n",
    "print(f\"Characters in corpus: {chars}\")"
   ]
  },
  {
   "cell_type": "code",
   "execution_count": 48,
   "metadata": {
    "ExecuteTime": {
     "end_time": "2022-03-10T08:13:57.247823Z",
     "start_time": "2022-03-10T08:13:57.245251Z"
    },
    "hidden": true
   },
   "outputs": [],
   "source": [
    "chars = \"@ABCDEFGHIJKLMNPQRSTUVWXYZabcdefghijklmnopqrstuvwxyz\"\n",
    "puncs = \";:,.!?—…\\\"«»“” \""
   ]
  },
  {
   "cell_type": "code",
   "execution_count": 9,
   "metadata": {
    "ExecuteTime": {
     "end_time": "2022-03-10T06:50:44.711774Z",
     "start_time": "2022-03-10T06:50:44.702116Z"
    },
    "collapsed": true,
    "hidden": true,
    "jupyter": {
     "outputs_hidden": true
    }
   },
   "outputs": [
    {
     "name": "stdout",
     "output_type": "stream",
     "text": [
      "0 -> \\u0030\n",
      "1 -> \\u0031\n",
      "2 -> \\u0032\n",
      "3 -> \\u0033\n",
      "4 -> \\u0034\n",
      "5 -> \\u0035\n",
      "6 -> \\u0036\n",
      "7 -> \\u0037\n",
      "8 -> \\u0038\n",
      "9 -> \\u0039\n",
      "@ -> \\u0040\n",
      "A -> \\u0041\n",
      "B -> \\u0042\n",
      "C -> \\u0043\n",
      "D -> \\u0044\n",
      "E -> \\u0045\n",
      "F -> \\u0046\n",
      "G -> \\u0047\n",
      "H -> \\u0048\n",
      "I -> \\u0049\n",
      "J -> \\u004a\n",
      "K -> \\u004b\n",
      "L -> \\u004c\n",
      "M -> \\u004d\n",
      "N -> \\u004e\n",
      "P -> \\u0050\n",
      "Q -> \\u0051\n",
      "R -> \\u0052\n",
      "S -> \\u0053\n",
      "T -> \\u0054\n",
      "U -> \\u0055\n",
      "V -> \\u0056\n",
      "W -> \\u0057\n",
      "X -> \\u0058\n",
      "Y -> \\u0059\n",
      "Z -> \\u005a\n",
      "a -> \\u0061\n",
      "b -> \\u0062\n",
      "c -> \\u0063\n",
      "d -> \\u0064\n",
      "e -> \\u0065\n",
      "f -> \\u0066\n",
      "g -> \\u0067\n",
      "h -> \\u0068\n",
      "i -> \\u0069\n",
      "j -> \\u006a\n",
      "k -> \\u006b\n",
      "l -> \\u006c\n",
      "m -> \\u006d\n",
      "n -> \\u006e\n",
      "o -> \\u006f\n",
      "p -> \\u0070\n",
      "q -> \\u0071\n",
      "r -> \\u0072\n",
      "s -> \\u0073\n",
      "t -> \\u0074\n",
      "u -> \\u0075\n",
      "v -> \\u0076\n",
      "w -> \\u0077\n",
      "x -> \\u0078\n",
      "y -> \\u0079\n",
      "z -> \\u007a\n"
     ]
    }
   ],
   "source": [
    "for c in chars:\n",
    "    #if ord(c) < 128: continue # ASCII\n",
    "        \n",
    "    print(f\"{c} -> \\\\u{ord(c):04x}\")"
   ]
  },
  {
   "cell_type": "code",
   "execution_count": 49,
   "metadata": {
    "ExecuteTime": {
     "end_time": "2022-03-10T08:14:00.621401Z",
     "start_time": "2022-03-10T08:14:00.618636Z"
    },
    "hidden": true
   },
   "outputs": [
    {
     "name": "stdout",
     "output_type": "stream",
     "text": [
      ";:,.!?—…\"«»“” \\u0964\n"
     ]
    }
   ],
   "source": [
    "puncs += r\"\\u\" + f\"{ord('।'):04x}\"\n",
    "print(puncs)"
   ]
  },
  {
   "cell_type": "code",
   "execution_count": 28,
   "metadata": {
    "ExecuteTime": {
     "end_time": "2022-03-10T08:02:16.013442Z",
     "start_time": "2022-03-10T08:02:16.008938Z"
    },
    "hidden": true
   },
   "outputs": [
    {
     "data": {
      "text/plain": [
       "2528"
      ]
     },
     "execution_count": 28,
     "metadata": {},
     "output_type": "execute_result"
    }
   ],
   "source": [
    "int(\"9e0\", 16)"
   ]
  },
  {
   "cell_type": "code",
   "execution_count": 44,
   "metadata": {
    "ExecuteTime": {
     "end_time": "2022-03-10T08:09:12.352116Z",
     "start_time": "2022-03-10T08:09:12.347556Z"
    },
    "hidden": true
   },
   "outputs": [
    {
     "data": {
      "text/plain": [
       "[1, 2, 5, 6, 7, 8, 9]"
      ]
     },
     "execution_count": 44,
     "metadata": {},
     "output_type": "execute_result"
    }
   ],
   "source": [
    "i = [x for x in range(int(\"981\",16), int(\"\"))] + [y for y in range(5, 10)]\n",
    "i"
   ]
  },
  {
   "cell_type": "code",
   "execution_count": 50,
   "metadata": {
    "ExecuteTime": {
     "end_time": "2022-03-10T08:14:33.204009Z",
     "start_time": "2022-03-10T08:14:33.190530Z"
    },
    "collapsed": true,
    "hidden": true,
    "jupyter": {
     "outputs_hidden": true
    }
   },
   "outputs": [
    {
     "name": "stdout",
     "output_type": "stream",
     "text": [
      "\\u0981 -> ঁ\n",
      "\\u0982 -> ং\n",
      "\\u0983 -> ঃ\n",
      "\\u0984 -> ঄\n",
      "\\u0985 -> অ\n",
      "\\u0986 -> আ\n",
      "\\u0987 -> ই\n",
      "\\u0988 -> ঈ\n",
      "\\u0989 -> উ\n",
      "\\u098a -> ঊ\n",
      "\\u098b -> ঋ\n",
      "\\u098c -> ঌ\n",
      "\\u098d -> ঍\n",
      "\\u098e -> ঎\n",
      "\\u098f -> এ\n",
      "\\u0990 -> ঐ\n",
      "\\u0991 -> ঑\n",
      "\\u0992 -> ঒\n",
      "\\u0993 -> ও\n",
      "\\u0994 -> ঔ\n",
      "\\u0995 -> ক\n",
      "\\u0996 -> খ\n",
      "\\u0997 -> গ\n",
      "\\u0998 -> ঘ\n",
      "\\u0999 -> ঙ\n",
      "\\u099a -> চ\n",
      "\\u099b -> ছ\n",
      "\\u099c -> জ\n",
      "\\u099d -> ঝ\n",
      "\\u099e -> ঞ\n",
      "\\u099f -> ট\n",
      "\\u09a0 -> ঠ\n",
      "\\u09a1 -> ড\n",
      "\\u09a2 -> ঢ\n",
      "\\u09a3 -> ণ\n",
      "\\u09a4 -> ত\n",
      "\\u09a5 -> থ\n",
      "\\u09a6 -> দ\n",
      "\\u09a7 -> ধ\n",
      "\\u09a8 -> ন\n",
      "\\u09a9 -> ঩\n",
      "\\u09aa -> প\n",
      "\\u09ab -> ফ\n",
      "\\u09ac -> ব\n",
      "\\u09ad -> ভ\n",
      "\\u09ae -> ম\n",
      "\\u09af -> য\n",
      "\\u09b0 -> র\n",
      "\\u09b1 -> ঱\n",
      "\\u09b2 -> ল\n",
      "\\u09b3 -> ঳\n",
      "\\u09b4 -> ঴\n",
      "\\u09b5 -> ঵\n",
      "\\u09b6 -> শ\n",
      "\\u09b7 -> ষ\n",
      "\\u09b8 -> স\n",
      "\\u09b9 -> হ\n",
      "\\u09ba -> ঺\n",
      "\\u09bb -> ঻\n",
      "\\u09bc -> ়\n",
      "\\u09bd -> ঽ\n",
      "\\u09be -> া\n",
      "\\u09bf -> ি\n",
      "\\u09c0 -> ী\n",
      "\\u09c1 -> ু\n",
      "\\u09c2 -> ূ\n",
      "\\u09c3 -> ৃ\n",
      "\\u09c4 -> ৄ\n",
      "\\u09c5 -> ৅\n",
      "\\u09c6 -> ৆\n",
      "\\u09c7 -> ে\n",
      "\\u09c8 -> ৈ\n",
      "\\u09c9 -> ৉\n",
      "\\u09ca -> ৊\n",
      "\\u09cb -> ো\n",
      "\\u09cc -> ৌ\n",
      "\\u09cd -> ্\n",
      "\\u09ce -> ৎ\n",
      "\\u09cf -> ৏\n",
      "\\u09d0 -> ৐\n",
      "\\u09d1 -> ৑\n",
      "\\u09d2 -> ৒\n",
      "\\u09d3 -> ৓\n",
      "\\u09d4 -> ৔\n",
      "\\u09d5 -> ৕\n",
      "\\u09d6 -> ৖\n",
      "\\u09d7 -> ৗ\n",
      "\\u09d8 -> ৘\n",
      "\\u09d9 -> ৙\n",
      "\\u09da -> ৚\n",
      "\\u09db -> ৛\n",
      "\\u09dc -> ড়\n",
      "\\u09dd -> ঢ়\n",
      "\\u09de -> ৞\n",
      "\\u09df -> য়\n"
     ]
    }
   ],
   "source": [
    "for i in range(int(\"981\",16), int(\"9e0\",16)):\n",
    "    print(f\"\\\\u{i:04x} -> {chr(i)}\")\n",
    "    chars += f\"\\\\u{i:04x}\""
   ]
  },
  {
   "cell_type": "code",
   "execution_count": 51,
   "metadata": {
    "ExecuteTime": {
     "end_time": "2022-03-10T08:14:45.166628Z",
     "start_time": "2022-03-10T08:14:45.163589Z"
    },
    "hidden": true
   },
   "outputs": [
    {
     "name": "stdout",
     "output_type": "stream",
     "text": [
      "@ABCDEFGHIJKLMNPQRSTUVWXYZabcdefghijklmnopqrstuvwxyz\\u0981\\u0982\\u0983\\u0984\\u0985\\u0986\\u0987\\u0988\\u0989\\u098a\\u098b\\u098c\\u098d\\u098e\\u098f\\u0990\\u0991\\u0992\\u0993\\u0994\\u0995\\u0996\\u0997\\u0998\\u0999\\u099a\\u099b\\u099c\\u099d\\u099e\\u099f\\u09a0\\u09a1\\u09a2\\u09a3\\u09a4\\u09a5\\u09a6\\u09a7\\u09a8\\u09a9\\u09aa\\u09ab\\u09ac\\u09ad\\u09ae\\u09af\\u09b0\\u09b1\\u09b2\\u09b3\\u09b4\\u09b5\\u09b6\\u09b7\\u09b8\\u09b9\\u09ba\\u09bb\\u09bc\\u09bd\\u09be\\u09bf\\u09c0\\u09c1\\u09c2\\u09c3\\u09c4\\u09c5\\u09c6\\u09c7\\u09c8\\u09c9\\u09ca\\u09cb\\u09cc\\u09cd\\u09ce\\u09cf\\u09d0\\u09d1\\u09d2\\u09d3\\u09d4\\u09d5\\u09d6\\u09d7\\u09d8\\u09d9\\u09da\\u09db\\u09dc\\u09dd\\u09de\\u09df\n"
     ]
    }
   ],
   "source": [
    "print(chars)"
   ]
  },
  {
   "cell_type": "code",
   "execution_count": 54,
   "metadata": {
    "ExecuteTime": {
     "end_time": "2022-03-10T08:43:08.551173Z",
     "start_time": "2022-03-10T08:43:08.547541Z"
    },
    "hidden": true
   },
   "outputs": [
    {
     "data": {
      "text/plain": [
       "'2019'"
      ]
     },
     "execution_count": 54,
     "metadata": {},
     "output_type": "execute_result"
    }
   ],
   "source": [
    "f\"{8217:04x}\""
   ]
  },
  {
   "cell_type": "code",
   "execution_count": 52,
   "metadata": {
    "ExecuteTime": {
     "end_time": "2022-03-10T08:41:44.255187Z",
     "start_time": "2022-03-10T08:41:44.251484Z"
    },
    "hidden": true
   },
   "outputs": [
    {
     "data": {
      "text/plain": [
       "8217"
      ]
     },
     "execution_count": 52,
     "metadata": {},
     "output_type": "execute_result"
    }
   ],
   "source": [
    "ord('’')"
   ]
  },
  {
   "cell_type": "markdown",
   "metadata": {},
   "source": [
    "# Audio Cleaning\n",
    "\n",
    "Utility code for cleaning a set of audio files (using pydub).\n",
    "\n",
    "Operations to perform:\n",
    "* Normalizing Amplitude\n",
    "* Converting from Stereo to Mono\n",
    "* Adjusting Sampling Rate"
   ]
  },
  {
   "cell_type": "code",
   "execution_count": 8,
   "metadata": {
    "ExecuteTime": {
     "end_time": "2022-07-19T01:00:44.838226Z",
     "start_time": "2022-07-19T01:00:44.830645Z"
    }
   },
   "outputs": [],
   "source": [
    "src_dir = \"/home/arif/Dropbox/PhD/Resource/My Thesis Report/sust-tts-cmos/wavs\"\n",
    "dest_dir = \"/home/arif/Dropbox/PhD/Resource/My Thesis Report/sust-tts-cmos/wavs-updated\""
   ]
  },
  {
   "cell_type": "code",
   "execution_count": 9,
   "metadata": {
    "ExecuteTime": {
     "end_time": "2022-07-19T01:01:30.071465Z",
     "start_time": "2022-07-19T01:01:30.062200Z"
    }
   },
   "outputs": [
    {
     "data": {
      "text/plain": [
       "12"
      ]
     },
     "execution_count": 9,
     "metadata": {},
     "output_type": "execute_result"
    }
   ],
   "source": [
    "files = os.listdir(src_dir)\n",
    "len(files)"
   ]
  },
  {
   "cell_type": "code",
   "execution_count": 10,
   "metadata": {
    "ExecuteTime": {
     "end_time": "2022-07-19T01:15:34.718679Z",
     "start_time": "2022-07-19T01:15:34.490644Z"
    }
   },
   "outputs": [
    {
     "name": "stdout",
     "output_type": "stream",
     "text": [
      "-18.000519641475478\n",
      "-18.000519641475478\n",
      "-17.9984142264517\n",
      "-18.000519641475478\n",
      "-18.000519641475478\n",
      "-17.9984142264517\n",
      "-18.000519641475478\n",
      "-18.000519641475478\n",
      "-18.000519641475478\n",
      "-17.9984142264517\n",
      "-18.000519641475478\n",
      "-18.000519641475478\n",
      "12 files processed.\n"
     ]
    }
   ],
   "source": [
    "total = 0\n",
    "for file in files:\n",
    "    wavfile = os.path.join(src_dir, file)\n",
    "    \n",
    "    audio = AudioSegment.from_file(wavfile)\n",
    "    \n",
    "#     print(audio.dBFS)\n",
    "    audio = audio.apply_gain(-18 - audio.dBFS)\n",
    "    print(audio.dBFS)\n",
    "    \n",
    "    audio = audio.set_channels(1)\n",
    "    #print(audio.channels)\n",
    "    \n",
    "    audio = audio.set_frame_rate(22050)\n",
    "    #print(audio.frame_rate)\n",
    "    \n",
    "    audio.export(os.path.join(dest_dir, file), format=\"wav\")\n",
    "    total += 1\n",
    "    \n",
    "print(f'{total} files processed.')"
   ]
  },
  {
   "cell_type": "code",
   "execution_count": null,
   "metadata": {},
   "outputs": [],
   "source": []
  },
  {
   "cell_type": "code",
   "execution_count": null,
   "metadata": {},
   "outputs": [],
   "source": []
  },
  {
   "cell_type": "markdown",
   "metadata": {},
   "source": [
    "# Creating adrita16 & kanak27\n",
    "description ..."
   ]
  },
  {
   "cell_type": "code",
   "execution_count": 17,
   "metadata": {
    "ExecuteTime": {
     "end_time": "2022-08-05T04:42:40.439715Z",
     "start_time": "2022-08-05T04:42:40.349096Z"
    }
   },
   "outputs": [
    {
     "data": {
      "text/plain": [
       "15383"
      ]
     },
     "execution_count": 17,
     "metadata": {},
     "output_type": "execute_result"
    }
   ],
   "source": [
    "wav_dir = \"/media/arif/Resource/Etc/data/kanak22/wavs\"\n",
    "files = os.listdir(wav_dir)\n",
    "files = sorted(files)\n",
    "len(files)"
   ]
  },
  {
   "cell_type": "code",
   "execution_count": 19,
   "metadata": {
    "ExecuteTime": {
     "end_time": "2022-08-05T04:42:43.938576Z",
     "start_time": "2022-08-05T04:42:43.880241Z"
    }
   },
   "outputs": [
    {
     "data": {
      "text/plain": [
       "15383"
      ]
     },
     "execution_count": 19,
     "metadata": {},
     "output_type": "execute_result"
    }
   ],
   "source": [
    "metafile = \"/media/arif/Resource/Etc/data/kanak22/metadata.csv\"\n",
    "texts = []\n",
    "with open(metafile) as f:\n",
    "    for line in f:\n",
    "        #print(line)\n",
    "        idx, _, text = line.split('|')\n",
    "        texts.append((idx.strip(), text.strip()))\n",
    "\n",
    "texts = sorted(texts)\n",
    "len(texts)"
   ]
  },
  {
   "cell_type": "code",
   "execution_count": 12,
   "metadata": {},
   "outputs": [
    {
     "data": {
      "text/plain": [
       "('10000', 'স্কুলটির দিকে দৃষ্টি দিন।')"
      ]
     },
     "execution_count": 12,
     "metadata": {},
     "output_type": "execute_result"
    }
   ],
   "source": [
    "texts[0]"
   ]
  },
  {
   "cell_type": "code",
   "execution_count": 20,
   "metadata": {
    "ExecuteTime": {
     "end_time": "2022-08-05T05:32:26.891216Z",
     "start_time": "2022-08-05T05:31:34.455491Z"
    }
   },
   "outputs": [
    {
     "name": "stdout",
     "output_type": "stream",
     "text": [
      "Total samples: 13071\n",
      "Total duration: 16 hours 37.81 minutes\n",
      "Maximum duration: 8.00 seconds\n",
      "Minimum duration: 1.00 seconds\n",
      "Average duration: 4.58 seconds\n",
      "Maximum text length: 115\n",
      "Minimum text length: 9\n"
     ]
    }
   ],
   "source": [
    "i = 0\n",
    "total_duration = 0\n",
    "max_duration = 0\n",
    "min_duration = 100000000\n",
    "max_chars = 0\n",
    "min_chars = 100000000\n",
    "dest_dir = '/media/arif/Resource/Etc/data/kanak22/'\n",
    "with open(os.path.join(dest_dir, 'metadata.csv'), 'r') as outfile:\n",
    "    for file, text_item in zip(files, texts):\n",
    "        idx, text = text_item\n",
    "\n",
    "        #print(f\"filename: {file[:-4]} \\t id: {idx}\")\n",
    "        assert(file[:-4] == idx)\n",
    "\n",
    "        audio = AudioSegment.from_wav(os.path.join(wav_dir, file))\n",
    "\n",
    "        duration = audio.duration_seconds\n",
    "        if duration < 1 or duration > 8: continue\n",
    "\n",
    "        total_duration += duration\n",
    "        max_duration = max(max_duration, duration)\n",
    "        min_duration = min(min_duration, duration)\n",
    "        max_chars = max(max_chars, len(text))\n",
    "        min_chars = min(min_chars, len(text))\n",
    "\n",
    "#         shutil.copy(os.path.join(wav_dir, file), os.path.join(dest_dir, 'wavs', file))\n",
    "#         outfile.write(idx + '| |' + text + '\\n')\n",
    "\n",
    "        i += 1\n",
    "#         if i == 2: break\n",
    "        \n",
    "avg_duration = total_duration / i\n",
    "total_duration /= 60 # sec. to min.\n",
    "duration_hours = total_duration // 60\n",
    "duration_mins = total_duration - (duration_hours * 60)\n",
    "\n",
    "print(f'Total samples: {i}')\n",
    "print(f\"Total duration: {int(duration_hours)} hours {duration_mins:.2f} minutes\")\n",
    "print(f'Maximum duration: {max_duration:.2f} seconds')\n",
    "print(f'Minimum duration: {min_duration:.2f} seconds')\n",
    "print(f'Average duration: {avg_duration:.2f} seconds') \n",
    "print(f'Maximum text length: {max_chars}')\n",
    "print(f'Minimum text length: {min_chars}')"
   ]
  },
  {
   "cell_type": "code",
   "execution_count": 8,
   "metadata": {
    "ExecuteTime": {
     "end_time": "2022-08-05T05:12:36.610962Z",
     "start_time": "2022-08-05T05:12:36.608015Z"
    }
   },
   "outputs": [
    {
     "data": {
      "text/plain": [
       "11959"
      ]
     },
     "execution_count": 8,
     "metadata": {},
     "output_type": "execute_result"
    }
   ],
   "source": [
    "i"
   ]
  },
  {
   "cell_type": "markdown",
   "metadata": {},
   "source": [
    "## Removing ZWNJ and ZWJ from the text corpora"
   ]
  },
  {
   "cell_type": "code",
   "execution_count": 2,
   "metadata": {},
   "outputs": [],
   "source": [
    "# -*- coding: utf-8 -*-\n",
    "\"\"\"Utility for context-aware removal of ZWNJ and ZWJ in Bangla text.\"\"\"\n",
    "\n",
    "from __future__ import unicode_literals\n",
    "\n",
    "import io\n",
    "import re\n",
    "import unittest\n",
    "\n",
    "\n",
    "STANDARDIZE_ZW = re.compile(r'(?<=\\u09b0)[\\u200c\\u200d]+(?=\\u09cd\\u09af)')\n",
    "\n",
    "DELETE_ZW = re.compile(r'(?<!\\u09b0)[\\u200c\\u200d](?!\\u09cd\\u09af)')\n",
    "\n",
    "\n",
    "def RemoveOptionalZW(text):\n",
    "    \"\"\"Removes all optional occurrences of ZWNJ or ZWJ from Bangla text.\n",
    "\n",
    "    The non-printing characters U+200C (ZWNJ) and U+200D (ZWJ) are used in Bangla\n",
    "    to optionally control the appearance of ligatures, except in one special\n",
    "    situation: after RA and before VIRAMA+YA, the presence or absence of ZWJ\n",
    "    (formerly ZWNJ) changes the visual appearance of the involved consonants in a\n",
    "    meaningful way. This occurrences of ZWJ must be preserved, while all other\n",
    "    occurrences are advisory and can be removed for most purposes.\n",
    "\n",
    "    After RA and before VIRAMA+YA, this function changes ZWNJ to ZWJ and preserves\n",
    "    ZWJ; and removes ZWNJ and ZWJ everywhere else.\n",
    "\n",
    "    Args:\n",
    "    text: The text from which the zero-width format controls are to be removed.\n",
    "\n",
    "    Returns:\n",
    "    The text with all non-obligatory occurrences of ZWNJ and ZWJ removed.\n",
    "\n",
    "    \"\"\"\n",
    "    text = STANDARDIZE_ZW.sub('\\u200D', text)\n",
    "    text = DELETE_ZW.sub('', text)\n",
    "    return text\n",
    "\n",
    "\n",
    "class TestBanglaZeroWidth(unittest.TestCase):\n",
    "\n",
    "    def test_RemoveOptionalZW(self):\n",
    "        rally = '\\u09b0\\u200d\\u09cd\\u09af\\u09be\\u09b2\\u09c0'\n",
    "        self.assertEqual(rally, 'র‍্যালী')\n",
    "        self.assertEqual(RemoveOptionalZW(rally), rally)\n",
    "        for i in range(len(rally) + 1):\n",
    "            for zw in ('\\u200c', '\\u200d', '\\u200c\\u200d', '\\u200d\\u200c'):\n",
    "                text = rally[:i] + zw + rally[i:]\n",
    "                self.assertEqual(RemoveOptionalZW(text), rally)\n",
    "\n",
    "\n",
    "if __name__ == '__main__':\n",
    "    stdin = io.open(0, mode='rt', encoding='utf-8', closefd=False)\n",
    "    stdout = io.open(1, mode='wt', encoding='utf-8', closefd=False)\n",
    "    for line in stdin:\n",
    "        stdout.write(RemoveOptionalZW(line))"
   ]
  },
  {
   "cell_type": "code",
   "execution_count": 14,
   "metadata": {},
   "outputs": [
    {
     "name": "stdout",
     "output_type": "stream",
     "text": [
      "01220| |ফজলে হাসান আবেদ সামাজিক উন্নয়নে অসামান্য ভূমিকার জন্য র‍্যামন ম্যাগসেসে পুরস্কার পান।\n",
      "06780| |পুলিশ এই র‍্যালি অবরোধ করেছিল।\n",
      "10334| |হান্নান র‍্যাবের কাছে অনেক তথ্য জানালেও সে স্বীকারোক্তিমূলক জবানবন্দি দিতে রাজি হয়নি বলে জানা গেছে।\n",
      "12163| |হয়তো এটা পাগল - হয়তো এটা র‍্যাবিড।\n",
      "12703| |আমাদের একটা পথ আছে, সেটার গন্তব্য র‍্যাডিসন হোটেল বা মার্কিন রাষ্ট্রদূতের বাসভবন নয়।\n",
      "13492| |এদিকে গ্রেপ্তার করা মুফতি হান্নানকে র‍্যাব এখনো জিজ্ঞাসাবাদ করছে।\n",
      "14052| |তাঁর স্ত্রী আরজিনা বেগমকে র‍্যাব আটক করেছে।\n",
      "14626| |এ ঘটনায় জড়িত থাকার অভিযোগে আমির উদ্দিনকে আটক করে র‍্যাব।\n",
      "16023| |মজাদার দেশি খাবার, শাড়ি গয়নার স্টল, নাচ গান, র‍্যাফেল ড্র আর আড্ডায় ভরপুর অনুষ্ঠানটি দেখতে দেখতেই শেষ হয়ে যায়।\n",
      "16385| |সেখানে তাঁরা জুটি হয়ে র‍্যাম্পে হাঁটেন।\n",
      "16421| |বাকি ব্যক্তিদের মধ্যে সাতজন পুলিশের সঙ্গে ও একজন র‍্যাবের সঙ্গে বন্দুকযুদ্ধে নিহত হন।\n",
      "16447| |এ ছাড়া ডুয়িং বিজনেস প্রতিবেদনেও বাংলাদেশের র‍্যাঙ্কিংয়ের উন্নতি হবে।\n",
      "16662| |কুমিল্লা, সিরাজগঞ্জ ও রাজবাড়ীতে পুলিশ ও র‍্যাবের সঙ্গে বন্দুকযুদ্ধে চার ব্যক্তি নিহত হয়েছেন।\n",
      "16745| |টেস্ট র‍্যাঙ্কিংয়ে নয়ে নেমে এসেছে বাংলাদেশ।\n",
      "17394| |জাবালে নূর পরিবহনের ছয়টি বাস আটক করেছে র‍্যাপিড অ্যাকশন ব্যাটালিয়ন (র‍্যাব)।\n",
      "17469| |অন‍্য কোনো ঘরানা সেভাবে শেখেননি তিনি।\n",
      "17730| |ফলে ইলো পন্থায় একই সঙ্গে জয়-পরাজয় ও গোলের হিসাব নেওয়ায় র‍্যাঙ্কিংয়ে গড়বড় হতে পারে।\n",
      "18084| |র‍্যা লফ গ্রিফিথ বলেছেন \"ঈশোপনিষদ্\" গ্রন্থের উক্ত স্তোত্রগুলি কর্মবাদের সমালোচনা করেছে।\n",
      "18107| |কোন ব্যক্তি অসুস্থ হলে সে স্ট্রেপ থ্রোটে আক্রান্ত কিনা থ্রোট কালচার বা র‍্যাপিড স্ট্রেপ টেস্ট থেকে তা জানা যায়।\n",
      "18146| |ব্রিটিশ সরকারের নিয়োগপ্রাপ্ত গভর্নর লেফটেন্যান্ট গভর্নর-জেনারেল থমাস স্ট্যামফোর্ড র‍্যা ফলস, যিনি জাভার ইতিহাস নিয়ে আগ্রহ প্রকাশ করেন।\n",
      "18155| |দড়ি বাইয়া উঠ্যা যখন বাশে বাজী করে, নইদ্যার ঠাকুর উঠ্যা কয় পইর‍্যা নাকি মরে।\n",
      "18200| |উপরন্তু পিটবুল আরো কিছু মিক্সটেপও প্রকাশ করেছিল, কিছু ফ্রি স্টাইল র‍্যাপ রচনা করেছিলেন এবং কিছু জনপ্রিয় র‍্যাপ সঙ্গীতের রিমিক্স করেছিলেন।\n",
      "18229| |তার বাবা অ্যালান জর্জ র‍্যাডক্লিফ ছেলেবেলায় থাকতেন উত্তর আয়ারল্যান্ডের কাউন্টি ডাউনের ব্যানব্রিজে।\n",
      "18257| |এতে অভিনয় করেছেন স্টিভ স্যান্ডভোস (মিশনারি অ্যারন) ও ওয়েস র‍্যামসে (অ্যারনের প্রতিবেশী ক্রিস্টিয়ান)।\n",
      "18271| |ডর্টফোর্টে, বোল্টনসের পূর্বপুরুষদের দুর্গে থিয়ন গ্রেজয়কে রুজ বোল্টনের বর্বর পুত্র র‍্যামসি স্নো নির্যাতন করে।\n",
      "18272| |গবেষণায় দেখানো হয়েছে যে এটা র‍্যাম্ফোথেকার আদিম অবস্থা ছিল এবং বিবর্তনের মাধ্যমে ধীরে ধীরে ক্ষয় হয়ে আধুনিক র‍্যাম্ফোথেকা তৈরী হয়েছে।\n",
      "18430| |কিছু দেশের স্বাস্থ্যবিধি অনুযায়ী ফ্যারিনজাইটিসের রোগীকে র‍্যাপিড স্ট্রেপ টেস্টের করানোর পরামর্শ আছে, আবার কোথাও কোথাও নিষেধ করা আছে।\n",
      "18433| |যা ফ্রি র‍্যাডিকেল ধ্বংস করে।\n",
      "18458| |যদিও প্রতিবেদনটি কয়েক লাইনের, তবু র‍্যাফলস এই স্থাপনাটি আবিষ্কারের সব কৃতিত্ব তাকে দেন, যা তাকে বিশ্ববাসীর নজরে আনে।\n",
      "18494| |তবে তার র‍্যাডিকাল ইমেজটি সক্রিয় কর্মী লেইং কৌক-হ্যাং এবং অন্যান্য র‍্যাডিকেলস দ্বারা জনপ্রিয় মন্তব্যের মাধ্যমে ছড়িয়ে পড়ে।\n",
      "18508| |বোস্টন পুলিশ বিভাগ ধর্মঘট ডাকলে জনমনে জঙ্গিবাদের ভীতির সঞ্চার হলে পালমার তাকে এন্টি-র‍্যাডিকেল বিভাগের দায়িত্ব দেয়।\n",
      "18576| |এর সমান্তরালে প্রতিযোগিতায় তারা ভেড়ার বাচ্চা পায়ে \"গ্ল্যামিজ\" পরায়, এটি প্রতিযোগীদের র‍্যাঙ্কিং করার জন্য ধাপ।\n",
      "18597| |নব্বইয়ের দশকের শুরুতে বড় বড় বেশ কিছু ফ্যাশন শোর  র‍্যাম্পিংয়ে তিনি অংশ নেন।\n",
      "18637| |সোলারিস এর স্ক্যালিবিলিটি, ডিট্র‍্যাস, জিএফএস টাইম স্লাইডারের মত অনেক বৈশিষ্ট্যের শুরু হওয়ায় সমাধিক পরিচিত।\n",
      "18644| |টিওপি ছিলেন একজন আন্ডারগাউন্ড র‍্যাপার যাকে মঞ্চে সবাই টেম্পো নামে চিনে।\n",
      "18719| |এছাড়া ছবিটি গোল্ডেন র‍্যাপ্সবেরি অ্যাওয়ার্ডে একটি মনোনয়ন লাভ করে।\n",
      "18883| |এখানে \"স্নো হোয়াইট\" তার সৎমা \"কুইন র‍্যাভেনার\" কাছে বন্দী অবস্থায় বড় হয়ে ওঠে।\n",
      "19145| |তিনি জন হপকিন্স ইউনিভার্সিটি স্কুল অব মেডিসিন এর পেডিয়্যাট্রিক, র‍্যাডিয়েশন অনকোলজি, জৈব রসায়ন চিকিৎসা বিভাগের প্রফেসর।\n",
      "19201| |স্ট্যাটিক র‍্যামের ক্ষেত্রে, এক বিট তথ্য সংরক্ষন করা হয় ফ্লিপ-ফ্লপ অবস্থা ব্যবহার করে।\n",
      "19283| |তিনি মিনেসোটার রোজভ্যালি বড় হন এবং সেখানকার আলেক্সজান্ডার র‍্যামসি হাই স্কুলে লেখাপড়া করেন।\n",
      "19318| |মার্কন্ডেয় ঋষি মহাদেবের স্তুতি করলেন মহামৃত‍্যুঞ্জয় স্তোত্রের মাধ‍্যমে যেটি মার্কন্ডেয় পুরাণে পাওয়া যায়।\n",
      "19652| |ফলে, আরএসএ কম্পিউটেশন স্থগিত অবস্থায় থাকে না; অন্যথায়, স্থগিত কাজগুলোর অবস্থা র‍্যামে আনা হতে পারে।\n",
      "19906| |র‍্যাকুনের সেরিব্রাল কর্টেক্সে সংবেদনশীল ধারণার জন্য দায়ী প্রায় দুই-তৃতীয়াংশ স্পর্শকাতর আবেগগুলির ব্যাখ্যার জন্য বিশেষত, অন্য কোনও অধ্যয়নকৃত প্রাণীর চেয়ে বেশি।\n",
      "21063| |সবচেয়ে বেশি ফিফা র‍্যাঙ্কিং নিয়ে বিশ্বকাপের আয়োজক দেশটির সেই সম্ভাবনা কতটা?\n",
      "22390| |কিন্তু জ্ঞানই যার ক্ষুধা, তাঁকে রুধে কে! সত‍্যেন্দ্রনাথ শত বছর আগে ঢাকায় বসে, সেকালের গবেষণার খবর রাখতেন।\n",
      "22639| |বাংলাদেশ কি পারবে আবার পাকিস্তানকে টপকে যেতে? র‍্যাঙ্কিংয়ের খোঁজ-খবর যাঁরা নিয়মিত নেন, তাঁদের অনেকেই এখন এই প্রশ্নটা করেছেন।\n",
      "22710| |র‍্যাঙ্কিংয়ে দুই ব্যাটসম্যানের অবস্থানের চিত্রটা মাঠেও ফুটে উঠল! শ্রীলঙ্কা দলের অবশ্য এই রসিকতায় কান দেওয়ার সুযোগ নেই।\n",
      "22712| |ভাবতেন কে এই চমৎকার নারী? অচেনা একজনের সঙ্গে যেমন প্রেম শুরু হয়, তেমন সম্পর্ক শুরু হয় র‍্যাকুয়েল ও অ্যাডামের।\n"
     ]
    }
   ],
   "source": [
    "csv_file = \"/media/arif/Resource/Etc/data/kanak30/metadata.csv\"\n",
    "updated_csv = \"/media/arif/Resource/Etc/data/kanak30/update.csv\"\n",
    "\n",
    "i = 0\n",
    "with open(csv_file) as f:\n",
    "    with open(updated_csv, 'w') as out:\n",
    "        for line in f: \n",
    "            line = RemoveOptionalZW(line)\n",
    "\n",
    "            if '\\u200c' in line or '\\u200d' in line:\n",
    "                print(line.strip())"
   ]
  },
  {
   "cell_type": "code",
   "execution_count": null,
   "metadata": {},
   "outputs": [],
   "source": []
  },
  {
   "cell_type": "markdown",
   "metadata": {},
   "source": [
    "## SUST TTS Evaluation Test Set Texts"
   ]
  },
  {
   "cell_type": "code",
   "execution_count": 2,
   "metadata": {},
   "outputs": [],
   "source": [
    "textfile = \"/home/arif/Dropbox/PhD/Resource/My Thesis Report/test-set.csv\""
   ]
  },
  {
   "cell_type": "code",
   "execution_count": 11,
   "metadata": {
    "collapsed": true,
    "jupyter": {
     "outputs_hidden": true
    }
   },
   "outputs": [
    {
     "name": "stdout",
     "output_type": "stream",
     "text": [
      "আমাদের\n",
      "মাতৃভূমির\n",
      "যে\n",
      "মাটিতে\n",
      "আমরা\n",
      "দাঁড়িয়ে\n",
      "আছি\n",
      "ওপরে\n",
      "তাকালে\n",
      "যে\n",
      "আকাশ\n",
      "আমরা\n",
      "দেখতে\n",
      "পাই\n",
      "কিংবা\n",
      "নিঃশ্বাসে\n",
      "যে\n",
      "বাতাস\n",
      "আমরা\n",
      "বুকের\n",
      "ভেতর\n",
      "টেনে\n",
      "নেই\n",
      "তার\n",
      "সবকিছুর\n",
      "জন্যেই\n",
      "আমরা\n",
      "আমাদের\n",
      "মুক্তিযোদ্ধাদের\n",
      "কাছে\n",
      "ঋণী\n",
      "এটি\n",
      "একটি\n",
      "বাংলা\n",
      "বাক্যের\n",
      "উদাহরণ\n",
      "মানুষের\n",
      "যতগুলো\n",
      "অনুভূতি\n",
      "আছে\n",
      "তার\n",
      "মাঝে\n",
      "সবচেয়ে\n",
      "সুন্দর\n",
      "অনুভূতি\n",
      "হচ্ছে\n",
      "ভালোবাসা\n",
      "বাংলাদেশের\n",
      "প্রথম\n",
      "ও\n",
      "পূর্ণাঙ্গ\n",
      "সার্চ\n",
      "ইঞ্জিন\n",
      "হিসেবে\n",
      "পিপীলিকা\n",
      "আত্মপ্রকাশ\n",
      "করে\n",
      "দীর্ঘ\n",
      "এক\n",
      "যুগ\n",
      "পর\n",
      "বহুল\n",
      "প্রতীক্ষিত\n",
      "এ\n",
      "সমাবর্তন\n",
      "ঘিরে\n",
      "ক্যাম্পাসে\n",
      "চলছে\n",
      "শেষ\n",
      "মুহুর্তের\n",
      "প্রস্তুতি\n",
      "ক্লাস\n",
      "পরীক্ষার\n",
      "ফাঁকে\n",
      "টং\n",
      "দোকানগুলোই\n",
      "শিক্ষার্থীদের\n",
      "আড্ডার\n",
      "প্রাণকেন্দ্র\n",
      "রাষ্ট্রের\n",
      "বিভিন্ন\n",
      "কার্যাবলী\n",
      "পরিচালনার\n",
      "জন্য\n",
      "বিভিন্ন\n",
      "মন্ত্রণালয়\n",
      "রয়েছে\n",
      "তাঁর\n",
      "কি\n",
      "করার\n",
      "কিছুই\n",
      "ছিল\n",
      "না\n",
      "এই\n",
      "অত্যাচার\n",
      "এর\n",
      "বিরুদ্ধে\n",
      "আপনারা\n",
      "কি\n",
      "কিছুই\n",
      "করতে\n",
      "পারছেন\n",
      "না\n",
      "চালাক\n",
      "আর\n",
      "বুদ্ধিমান\n",
      "এক\n",
      "নয়\n",
      "এটা\n",
      "জানো\n",
      "তো\n",
      "এদিকে\n",
      "গ্রেফতার\n",
      "করা\n",
      "মুফতি\n",
      "হান্নানকে\n",
      "র‍্যাব\n",
      "এখনো\n",
      "জিজ্ঞাসাবাদ\n",
      "করছে\n",
      "শহরে\n",
      "একটি\n",
      "বিশ্ববিদ্যালয়\n",
      "একাধিক\n",
      "চিকিৎসা\n",
      "ইন্সটিটিউট\n",
      "এবং\n",
      "সামুদ্রিক\n",
      "স্থাপত্যের\n",
      "একটি\n",
      "স্কুল\n",
      "আছে\n",
      "গ্রিসের\n",
      "চিকিৎসক\n",
      "বেশ\n",
      "কয়েকদিন\n",
      "ধরে\n",
      "সব\n",
      "ধরনের\n",
      "পরীক্ষা\n",
      "করলেন\n",
      "বাদশাহকে\n",
      "ঈশ্বর\n",
      "প্রত্যেক\n",
      "মানুষকে\n",
      "দিয়েছেন\n",
      "দেহ\n",
      "মন\n",
      "ও\n",
      "আত্মা\n",
      "বিদ্যালয়ের\n",
      "আনুষ্ঠানিক\n",
      "শিক্ষালাভ\n",
      "তিনি\n",
      "করেননি\n",
      "কিন্তু\n",
      "সাহিত্যের\n",
      "বিচিত্র\n",
      "ক্ষেত্রে\n",
      "তাঁর\n",
      "পদচারণা\n",
      "এক\n",
      "বিস্ময়কর\n",
      "ব্যাপার\n",
      "গল্প\n",
      "উপন্যাস\n",
      "লেখার\n",
      "পাশাপাশি\n",
      "তিনি\n",
      "কিছু\n",
      "প্রবন্ধ\n",
      "লিখেন\n",
      "অত্যন্ত\n",
      "সাদাসিধে\n",
      "প্রকৃতির\n",
      "এই\n",
      "বালকটি\n",
      "গ্রামের\n",
      "সবার\n",
      "প্রিয়\n",
      "ছিল\n",
      "বিশ্ববিদ্যালয়\n",
      "অনির্দিষ্টকালের\n",
      "জন্যে\n",
      "বন্ধ\n",
      "হয়ে\n",
      "যাওয়ায়\n",
      "ওরা\n",
      "বাড়ি\n",
      "ফিরে\n",
      "যাচ্ছে\n",
      "তিনি\n",
      "ভাষা\n",
      "আন্দোলনে\n",
      "অংশগ্রহণ\n",
      "করার\n",
      "কারণে\n",
      "গ্রেপ্তার\n",
      "হন\n",
      "এবং\n",
      "তিন\n",
      "দিন\n",
      "ঢাকা\n",
      "কেন্দ্রীয়\n",
      "কারাগারে\n",
      "বন্দি\n",
      "থাকেন\n",
      "﻿আদুভাই\n",
      "ক্লাস\n",
      "সেভেনে\n",
      "পড়তেন\n",
      "ঠিক\n",
      "পড়তেন\n",
      "না\n",
      "বলে\n",
      "পড়ে\n",
      "থাকতেন\n",
      "বলাই\n",
      "ভালো\n",
      "কিন্তু\n",
      "একজোড়া\n",
      "জুতো\n",
      "কী\n",
      "করে\n",
      "এতদিন\n",
      "টিকতে\n",
      "পারে\n",
      "বৃষ্টির\n",
      "পর\n",
      "আকাশে\n",
      "যখন\n",
      "রংধনু\n",
      "ফুটে\n",
      "ওঠে\n",
      "একটি\n",
      "একটি\n",
      "করে\n",
      "গুণে\n",
      "সাতটি\n",
      "রং\n",
      "খুঁজে\n",
      "বের\n",
      "করা\n",
      "যায়\n",
      "﻿আমাদের\n",
      "প্রিয়\n",
      "মাতৃভূমি\n",
      "এই\n",
      "বাংলাদেশ\n",
      "বহু\n",
      "জাতি\n",
      "বহু\n",
      "ভাষা\n",
      "ও\n",
      "বহু\n",
      "সংস্কৃতির\n",
      "একটি\n",
      "দেশ\n",
      "ছেলেটি\n",
      "হাসতে\n",
      "হাসতেই\n",
      "বলল\n",
      "হায়\n",
      "আমার\n",
      "জীবন\n",
      "চরু\n",
      "এদিক\n",
      "ওদিক\n",
      "ঘাড়\n",
      "ফিরিয়ে\n",
      "দেখতে\n",
      "থাকে\n",
      "গেল\n",
      "কোথায়\n",
      "তার\n",
      "মা\n",
      "মেয়ের\n",
      "চিৎকার\n",
      "শুনে\n",
      "বাবা\n",
      "ছুটে\n",
      "এলেন\n",
      "ভাবলেন\n",
      "গুহার\n",
      "মধ্যে\n",
      "সত্যিই\n",
      "কি\n",
      "ষাঁড়\n",
      "বেরিয়েছে\n",
      "তাঁর\n",
      "অসামান্য\n",
      "কৃতিত্ব\n",
      "প্রকাশ\n",
      "পেয়েছে\n",
      "পাশ্চাত্য\n",
      "ভাবাদর্শে\n",
      "বাংলা\n",
      "উপন্যাস\n",
      "রচনার\n",
      "পথিকৃৎ\n",
      "হিসেবে\n",
      "শিক্ষা\n",
      "প্রতিষ্ঠান\n",
      "থেকে\n",
      "লব্ধ\n",
      "শিক্ষা\n",
      "পূর্ণাঙ্গ\n",
      "নয়\n",
      "বলে\n",
      "ব্যাপকভাবে\n",
      "বই\n",
      "পড়া\n",
      "দরকার\n",
      "আর্থিক\n",
      "সংকটের\n",
      "কারণে\n",
      "এফ\n",
      "এ\n",
      "শ্রেণিতে\n",
      "পড়ার\n",
      "সময়\n",
      "তাঁর\n",
      "ছাত্রজীবনের\n",
      "অবসান\n",
      "ঘটে\n",
      "রোকেয়া\n",
      "বাঙালি\n",
      "মুসলমান\n",
      "মেয়েদের\n",
      "শিক্ষিত\n",
      "করার\n",
      "জন্য\n",
      "শুধু\n",
      "স্কুলই\n",
      "প্রতিষ্ঠা\n",
      "করেন\n",
      "নি\n",
      "ঘরে\n",
      "ঘরে\n",
      "গিয়ে\n",
      "মেয়েদেরকে\n",
      "স্কুলে\n",
      "পাঠানোর\n",
      "জন্য\n",
      "বাবা\n",
      "মায়ের\n",
      "কাছে\n",
      "আবেদন\n",
      "নিবেদন\n",
      "করেছেন\n",
      "কী\n",
      "হলো\n",
      "আরজু\n",
      "মিয়া\n",
      "তুমি\n",
      "এখানে\n",
      "বসে\n",
      "কী\n",
      "করছো\n",
      "অন্তর্দৃষ্টি\n",
      "লাভ\n",
      "করে\n",
      "একদিন\n",
      "তিনি\n",
      "নিজের\n",
      "অতীত\n",
      "জীবনের\n",
      "ঘটনা\n",
      "অবলোকন\n",
      "করছিলেন\n",
      "Total: 370 words.\n"
     ]
    }
   ],
   "source": [
    "words = []\n",
    "total = 0\n",
    "with open(textfile) as f:\n",
    "    for line in f:\n",
    "        idx, txt = line.split('\\t')\n",
    "        \n",
    "        txt = txt.replace(',', ' ').replace(';', ' ').replace('।', ' ').replace('?', ' ').replace('!', ' ').replace('-', ' ').strip()\n",
    "        #print(txt)\n",
    "        \n",
    "        tokens = txt.split()\n",
    "        words.extend(tokens)\n",
    "        \n",
    "        total += 1\n",
    "        #if total == 15: break\n",
    "\n",
    "\n",
    "with open(\"test-words.csv\", \"w\") as out:\n",
    "    for word in words:\n",
    "        print(word)\n",
    "        out.write(word + '\\n')\n",
    "print(f'Total: {len(words)} words.')"
   ]
  },
  {
   "cell_type": "markdown",
   "metadata": {},
   "source": [
    "## Batch PESQ"
   ]
  },
  {
   "cell_type": "code",
   "execution_count": 2,
   "metadata": {},
   "outputs": [],
   "source": [
    "wavdir = \"/home/arif/Dropbox/PhD/Resource/My Thesis Report/pesq\""
   ]
  },
  {
   "cell_type": "code",
   "execution_count": 7,
   "metadata": {},
   "outputs": [
    {
     "data": {
      "text/plain": [
       "64"
      ]
     },
     "execution_count": 7,
     "metadata": {},
     "output_type": "execute_result"
    }
   ],
   "source": [
    "wavfiles = sorted(os.listdir(wavdir))\n",
    "len(wavfiles)"
   ]
  },
  {
   "cell_type": "code",
   "execution_count": 15,
   "metadata": {},
   "outputs": [
    {
     "name": "stdout",
     "output_type": "stream",
     "text": [
      "06535_kn30_align_gl.wav: \t 2.298\n",
      "06535_kn30_align_hifi.wav: \t 2.294\n",
      "06535_kn30_align_mbmel.wav: \t 2.298\n",
      "06535_kn30_align_univ.wav: \t 2.286\n",
      "06535_kn30_fp_wgrad.wav: \t 2.246\n",
      "06535_kn30_glow_hifi.wav: \t 2.239\n",
      "06535_kn30_t2ddc_hifi.wav: \t 2.257\n",
      "06535_kn30_vits.wav: \t 2.232\n",
      "08438_kn30_align_gl.wav: \t 2.336\n",
      "08438_kn30_align_hifi.wav: \t 2.226\n",
      "08438_kn30_align_mbmel.wav: \t 2.308\n",
      "08438_kn30_align_univ.wav: \t 2.226\n",
      "08438_kn30_fp_wgrad.wav: \t 2.260\n",
      "08438_kn30_glow_hifi.wav: \t 2.242\n",
      "08438_kn30_t2ddc_hifi.wav: \t 2.297\n",
      "08438_kn30_vits.wav: \t 2.228\n",
      "10104_al12_align_gl.wav: \t 2.506\n",
      "10104_al12_align_hifi.wav: \t 2.669\n",
      "10104_al12_align_mbmel.wav: \t 2.588\n",
      "10104_al12_align_univ.wav: \t 2.827\n",
      "10104_al12_align_wgrad.wav: \t 2.503\n",
      "10104_al12_align_wrnn.wav: \t 2.532\n",
      "10104_al12_fp_hifi.wav: \t 2.447\n",
      "10104_al12_glow_hifi.wav: \t 2.358\n",
      "10104_al12_t2dca_hifi.wav: \t 2.400\n",
      "10104_al12_t2ddc_hifi.wav: \t 2.247\n",
      "10104_al12_vits.wav: \t 2.327\n",
      "10129_al12_align_gl.wav: \t 2.620\n",
      "10129_al12_align_hifi.wav: \t 2.544\n",
      "10129_al12_align_mbmel.wav: \t 2.478\n",
      "10129_al12_align_univ.wav: \t 2.674\n",
      "10129_al12_align_wgrad.wav: \t 2.590\n",
      "10129_al12_align_wrnn.wav: \t 2.580\n",
      "10129_al12_fp_hifi.wav: \t 2.577\n",
      "10129_al12_glow_hifi.wav: \t 2.322\n",
      "10129_al12_t2dca_hifi.wav: \t 2.241\n",
      "10129_al12_t2ddc_hifi.wav: \t 2.274\n",
      "10129_al12_vits.wav: \t 2.479\n",
      "11066_ad18_align_gl.wav: \t 2.243\n",
      "11066_ad18_align_hifi.wav: \t 2.240\n",
      "11066_ad18_align_mbmel.wav: \t 2.246\n",
      "11066_ad18_align_univ.wav: \t 2.238\n",
      "11066_ad18_fp_wgrad.wav: \t 2.236\n",
      "11066_ad18_glow_hifi.wav: \t 2.228\n",
      "11066_ad18_speedy_hifi.wav: \t 2.223\n",
      "11066_ad18_t2dca_hifi.wav: \t 2.239\n",
      "11066_ad18_t2ddc_hifi.wav: \t 2.227\n",
      "11066_ad18_vits.wav: \t 2.216\n",
      "13589_ad18_align_gl.wav: \t 2.239\n",
      "13589_ad18_align_hifi.wav: \t 2.240\n",
      "13589_ad18_align_mbmel.wav: \t 2.241\n",
      "13589_ad18_align_univ.wav: \t 2.239\n",
      "13589_ad18_fp_wgrad.wav: \t 2.236\n",
      "13589_ad18_glow_hifi.wav: \t 2.226\n",
      "13589_ad18_speedy_hifi.wav: \t 2.223\n",
      "13589_ad18_t2dca_hifi.wav: \t 2.226\n",
      "13589_ad18_t2ddc_hifi.wav: \t 2.233\n",
      "13589_ad18_vits.wav: \t 2.235\n"
     ]
    }
   ],
   "source": [
    "for file in wavfiles:\n",
    "        wavfile = os.path.join(wavdir, file)\n",
    "    \n",
    "        audio = AudioSegment.from_file(wavfile)\n",
    "\n",
    "        audio = audio.set_channels(1)\n",
    "        #print(audio.channels)\n",
    "\n",
    "        audio = audio.set_frame_rate(16000)\n",
    "        #print(file, audio.frame_rate, audio.channels)\n",
    "        \n",
    "        if \"_\" not in file:\n",
    "            ref = audio.get_array_of_samples()\n",
    "            ref = np.array(ref)\n",
    "            #print(file, ref.frame_rate)\n",
    "            continue\n",
    "            \n",
    "        target = audio.get_array_of_samples()\n",
    "        target = np.array(target)\n",
    "        \n",
    "        pesq_n = pesq(16000, ref, target, 'nb')\n",
    "        lqo = 1 + ((5 - 1) / (4.5 - -0.5)) * (pesq_n - -0.5)\n",
    "        \n",
    "        print(f'{file}: \\t {lqo:.3f}')\n",
    "    "
   ]
  },
  {
   "cell_type": "code",
   "execution_count": null,
   "metadata": {},
   "outputs": [],
   "source": []
  }
 ],
 "metadata": {
  "interpreter": {
   "hash": "a41ce591415c5d74df4e007118beac18b4a2d894d119c29e4de87c00da99b116"
  },
  "kernelspec": {
   "display_name": "Python 3",
   "language": "python",
   "name": "python3"
  },
  "language_info": {
   "codemirror_mode": {
    "name": "ipython",
    "version": 3
   },
   "file_extension": ".py",
   "mimetype": "text/x-python",
   "name": "python",
   "nbconvert_exporter": "python",
   "pygments_lexer": "ipython3",
   "version": "3.9.17"
  },
  "toc": {
   "base_numbering": 1,
   "nav_menu": {},
   "number_sections": true,
   "sideBar": true,
   "skip_h1_title": false,
   "title_cell": "Table of Contents",
   "title_sidebar": "Contents",
   "toc_cell": false,
   "toc_position": {},
   "toc_section_display": true,
   "toc_window_display": false
  }
 },
 "nbformat": 4,
 "nbformat_minor": 4
}
