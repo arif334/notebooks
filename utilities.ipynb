{
 "cells": [
  {
   "cell_type": "markdown",
   "metadata": {},
   "source": [
    "## Extracting unique characters from a dataset"
   ]
  },
  {
   "cell_type": "code",
   "execution_count": 6,
   "metadata": {
    "ExecuteTime": {
     "end_time": "2022-03-08T11:15:09.588169Z",
     "start_time": "2022-03-08T11:15:09.522877Z"
    }
   },
   "outputs": [
    {
     "name": "stdout",
     "output_type": "stream",
     "text": [
      "উনিশ মে দুপুর তিনটায় হোটেল সুন্দরবনে আপনার একটি রিজার্ভেশন আছে।\n",
      "\n",
      "শেখ হাসিনা বাংলাদেশ আওয়ামী লীগের সভানেত্রী।\n",
      "\n",
      "আপনার বাড়ি এবং আপনার কাজের জায়গার মধ্যে ট্রাফিক দেখানো হচ্ছে ।\n",
      "\n",
      "জাহানারা ইমামের জন্ম উনিশ শত উনত্রিশ সালের তিন মে বর্তমান পশ্চিমবঙ্গের মুর্শিদাবাদ জেলায়।\n",
      "\n",
      "এইগুলো সিক্স ফ্ল্যাগস এর কয়েকটি রাইড।\n",
      "\n",
      "Total unique characters: 85\n",
      "Characters:  !\"'(),-./:;? ।ঁংঃঅআইঈউঊঋএঐওঔকখগঘঙচছজঝঞটঠডঢণতথদধনপফবভমযরলশষসহ়ািীুূৃেৈোৌ্ৎৗড়ঢ়য়‌‍–—’”−\n"
     ]
    }
   ],
   "source": [
    "file_path = \"/mnt/resource/Etc/data/adrita18/metadata.csv\"\n",
    "#file_path = \"/mnt/resource/Etc/data/alamgir12/metadata.csv\"\n",
    "\n",
    "text = \"\"\n",
    "with open(file_path) as f:\n",
    "    for i, line in enumerate(f):\n",
    "        _, t, nt = line.split(\"|\")\n",
    "        text += nt.strip()\n",
    "\n",
    "        if i < 5:\n",
    "            print(nt)\n",
    "\n",
    "characters = set(text)\n",
    "\n",
    "print(f'Total unique characters: {len(characters)}')\n",
    "print(f'Characters: {\"\".join(sorted(characters))}')"
   ]
  },
  {
   "cell_type": "code",
   "execution_count": 2,
   "metadata": {
    "ExecuteTime": {
     "end_time": "2022-03-08T11:13:32.492471Z",
     "start_time": "2022-03-08T11:13:32.482810Z"
    }
   },
   "outputs": [
    {
     "data": {
      "text/plain": [
       "660437"
      ]
     },
     "execution_count": 2,
     "metadata": {},
     "output_type": "execute_result"
    }
   ],
   "source": [
    "alamgir_text = text\n",
    "len(alamgir_text)"
   ]
  },
  {
   "cell_type": "code",
   "execution_count": 7,
   "metadata": {
    "ExecuteTime": {
     "end_time": "2022-03-08T11:16:07.365274Z",
     "start_time": "2022-03-08T11:16:07.362063Z"
    }
   },
   "outputs": [
    {
     "data": {
      "text/plain": [
       "793163"
      ]
     },
     "execution_count": 7,
     "metadata": {},
     "output_type": "execute_result"
    }
   ],
   "source": [
    "adrita_text = text\n",
    "len(adrita_text)"
   ]
  },
  {
   "cell_type": "markdown",
   "metadata": {},
   "source": [
    "## Creating `characters` for COQUI-TTS"
   ]
  },
  {
   "cell_type": "code",
   "execution_count": 9,
   "metadata": {
    "ExecuteTime": {
     "end_time": "2022-03-08T11:17:57.916282Z",
     "start_time": "2022-03-08T11:17:57.841543Z"
    }
   },
   "outputs": [
    {
     "name": "stdout",
     "output_type": "stream",
     "text": [
      "Characters in corpus: {'ক', 'ড়', '৪', 'ফ', '৫', ' ', ')', 't', 'ৎ', '%', 'ঞ', 'ছ', 'য়', 'ভ', 'শ', 'a', 'ূ', '১', 'H', 'R', 'হ', 'ঁ', 'l', ',', 'F', 'ো', '.', 'া', 'র', '\"', 'ষ', 'ৗ', 'প', 'h', 'ঠ', '0', '০', 'Y', 'ণ', '(', 'b', 'L', 'ঙ', 'ঐ', 'থ', '৯', 'x', '*', 'ঔ', '৬', 'য', 'k', 'ধ', 'C', '\\u200d', 'খ', 'ই', '3', 'ঌ', 'B', '?', 'জ', '[', 'i', 'গ', 'ী', 'ৈ', 'উ', 'c', 'ঝ', 'I', 'ে', '8', 'e', 'ঢ়', 'M', 'ত', 'G', '২', '#', 'ু', '5', '৭', 'S', 'ৃ', '\\xa0', '-', 'K', '৩', 'f', 'o', 'q', 'ও', '―', 'y', 'ঃ', 'ং', 'd', 'm', '/', 'T', '়', 'ব', 'স', '6', 'চ', '্', 'A', 'আ', '–', 'n', ';', 'u', '\\u200c', '−', 'ন', 'w', 'E', 's', '!', 'r', '°', '—', 'ঈ', 'ি', 'J', '@', '৮', '’', 'ৌ', 'ড', 'অ', 'g', 'ঘ', '”', 'ম', 'D', ']', 'ঋ', ':', 'এ', 'ট', 'N', 'ঢ', 'ঊ', 'P', 'p', '1', 'ল', '।', \"'\", 'দ'}\n"
     ]
    }
   ],
   "source": [
    "text = alamgir_text + adrita_text\n",
    "chars = set(text)\n",
    "print(f\"Characters in corpus: {chars}\")"
   ]
  },
  {
   "cell_type": "code",
   "execution_count": null,
   "metadata": {},
   "outputs": [],
   "source": []
  }
 ],
 "metadata": {
  "interpreter": {
   "hash": "a41ce591415c5d74df4e007118beac18b4a2d894d119c29e4de87c00da99b116"
  },
  "kernelspec": {
   "display_name": "Python 3",
   "language": "python",
   "name": "python3"
  },
  "language_info": {
   "codemirror_mode": {
    "name": "ipython",
    "version": 3
   },
   "file_extension": ".py",
   "mimetype": "text/x-python",
   "name": "python",
   "nbconvert_exporter": "python",
   "pygments_lexer": "ipython3",
   "version": "3.8.3"
  },
  "toc": {
   "base_numbering": 1,
   "nav_menu": {},
   "number_sections": true,
   "sideBar": true,
   "skip_h1_title": false,
   "title_cell": "Table of Contents",
   "title_sidebar": "Contents",
   "toc_cell": false,
   "toc_position": {},
   "toc_section_display": true,
   "toc_window_display": false
  }
 },
 "nbformat": 4,
 "nbformat_minor": 2
}
