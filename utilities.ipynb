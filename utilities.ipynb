{
 "cells": [
  {
   "cell_type": "markdown",
   "metadata": {},
   "source": [
    "## Extracting unique characters from a dataset"
   ]
  },
  {
   "cell_type": "code",
   "execution_count": 6,
   "metadata": {},
   "outputs": [
    {
     "name": "stdout",
     "output_type": "stream",
     "text": [
      " স্কুলটির দিকে দৃষ্টি দিন।\n",
      "\n",
      " পিরোজপুর জেলার কাউখালী বন্দরে একটি মাত্র বালিকা বিদ্যালয় আছে, যা এসবি সরকারি উচ্চবালিকা বিদ্যালয় নামে পরিচিত।\n",
      "\n",
      " অনেক ঐতিহ্য বহন করছে এ বিদ্যালয়টি।\n",
      "\n",
      " কিন্তু এখানকার ছাত্রী ও শিক্ষক-শিক্ষিকাদের সম্মুখীন হতে হচ্ছে বহুবিধ সমস্যার!\n",
      "\n",
      " পাশ্বর্বর্তী বিভিন্ন গ্রাম ও দূরদূরান্ত থেকে ভালো শিক্ষার আশায় এখানে পড়তে আসছে শিক্ষার্থীরা।\n",
      "\n",
      " কিন্তু তারপরও শিক্ষার্থীরা এখানে পাচ্ছে না যথাযথ শিক্ষা।\n",
      "\n",
      " এর প্রধান কারণ শিক্ষক-শিক্ষিকা সংকট।\n",
      "\n",
      " এক বছর ধরে এখানে নেই কোনো প্রধান শিক্ষক।\n",
      "\n",
      " ভারপ্রাপ্ত সিনিয়র শিক্ষক এই প্রতিষ্ঠানটি একা চালাতে হিমশিম খাচ্ছেন।\n",
      "\n",
      " সহকারী প্রধান শিক্ষক পদটি থাকা সত্ত্বেও এই প্রতিষ্ঠানে নেই কোনো সহকারী প্রধান শিক্ষক!\n",
      "\n",
      " দুবছর ধরে নেই কোনো করণিক।\n",
      "\n",
      " এ বিদ্যালয়ে ছাত্রীসংখ্যা প্রায় সাতশ পঞ্চাশ।\n",
      "\n",
      " কিন্তু শিক্ষক মাত্র ছয় জন!\n",
      "\n",
      " সম্প্রতি একজন বিজ্ঞান বিভাগের শিক্ষক তিন মাসের ট্রেনিংয়ে গেছেন।\n",
      "\n",
      " এই বিদ্যালয়ে চতুর্থ শ্রেণী থেকে দশম শ্রেণী পর্যন্ত পড়ানো হয়।\n",
      "\n",
      "Total unique characters: 98\n",
      "Characters: \n",
      " !\"'(),-./:;?[] ।ঁংঃঅআইঈউঊঋএঐওঔকখগঘঙচছজঝঞটঠডঢণতথদধনপফবভমযরলশষসহ়ািীুূৃেৈোৌ্ৎৗড়ঢ়য়০১২৩৪৬৭৮৯‌‍–—―’”−\n"
     ]
    }
   ],
   "source": [
    "file_path = \"/mnt/resource/Etc/data/alamgir12/metadata_normalized.csv\"\n",
    "\n",
    "text = \"\"\n",
    "with open(file_path) as f:\n",
    "    for i, line in enumerate(f):\n",
    "        _, t, nt = line.split(\"|\")\n",
    "        text += nt\n",
    "\n",
    "        if i < 15:\n",
    "            print(nt)\n",
    "\n",
    "characters = set(text)\n",
    "\n",
    "print(f'Total unique characters: {len(characters)}')\n",
    "print(f'Characters: {\"\".join(sorted(characters))}')"
   ]
  },
  {
   "cell_type": "code",
   "execution_count": null,
   "metadata": {},
   "outputs": [],
   "source": []
  }
 ],
 "metadata": {
  "interpreter": {
   "hash": "a41ce591415c5d74df4e007118beac18b4a2d894d119c29e4de87c00da99b116"
  },
  "kernelspec": {
   "display_name": "Python 3.8.3 64-bit ('base': conda)",
   "language": "python",
   "name": "python3"
  },
  "language_info": {
   "codemirror_mode": {
    "name": "ipython",
    "version": 3
   },
   "file_extension": ".py",
   "mimetype": "text/x-python",
   "name": "python",
   "nbconvert_exporter": "python",
   "pygments_lexer": "ipython3",
   "version": "3.8.3"
  },
  "orig_nbformat": 4
 },
 "nbformat": 4,
 "nbformat_minor": 2
}
