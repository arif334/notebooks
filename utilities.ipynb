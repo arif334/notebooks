{
 "cells": [
  {
   "cell_type": "markdown",
   "metadata": {},
   "source": [
    "## Extracting unique characters from a dataset"
   ]
  },
  {
   "cell_type": "code",
   "execution_count": 2,
   "metadata": {},
   "outputs": [
    {
     "name": "stdout",
     "output_type": "stream",
     "text": [
      " স্কুলটির দিকে দৃষ্টি দিন। \n",
      " পিরোজপুর জেলার কাউখালী বন্দরে একটি মাত্র বালিকা বিদ্যালয় আছে, যা এসবি সরকারি উচ্চবালিকা বিদ্যালয় নামে পরিচিত। \n",
      " অনেক ঐতিহ্য বহন করছে এ বিদ্যালয়টি। \n",
      " কিন্তু এখানকার ছাত্রী ও শিক্ষক-শিক্ষিকাদের সম্মুখীন হতে হচ্ছে বহুবিধ সমস্যার। \n",
      " পাশ্বর্বর্তী বিভিন্ন গ্রাম ও দূরদূরান্ত থেকে ভালো শিক্ষার আশায় এখানে পড়তে আসছে শিক্ষার্থীরা। \n",
      "Total unique characters: 152\n",
      "Characters:  !\"#%'()*,-./013568:;?@ABCDEFGHIJKLMNPRSTY[]abcdefghiklmnopqrstuwxy °।ঁংঃঅআইঈউঊঋঌএঐওঔকখগঘঙচছজঝঞটঠডঢণতথদধনপফবভমযরলশষসহ়ািীুূৃেৈোৌ্ৎৗড়ঢ়য়০১২৩৪৫৬৭৮৯‌‍–—―’”−\n"
     ]
    }
   ],
   "source": [
    "file_path = \"/mnt/resource/Etc/data/alamgir12/metadata_normalized.csv\"\n",
    "file_path = \"/media/arif/Resource/Etc/data/alamgir12/metadata_normalized.csv\"\n",
    "\n",
    "text = \"\"\n",
    "with open(file_path) as f:\n",
    "    for i, line in enumerate(f):\n",
    "        _, t, nt = line.split(\"|\")\n",
    "        text += t\n",
    "\n",
    "        if i < 5:\n",
    "            print(t)\n",
    "\n",
    "characters = set(text)\n",
    "\n",
    "print(f'Total unique characters: {len(characters)}')\n",
    "print(f'Characters: {\"\".join(sorted(characters))}')"
   ]
  },
  {
   "cell_type": "code",
   "execution_count": null,
   "metadata": {},
   "outputs": [],
   "source": []
  }
 ],
 "metadata": {
  "interpreter": {
   "hash": "a41ce591415c5d74df4e007118beac18b4a2d894d119c29e4de87c00da99b116"
  },
  "kernelspec": {
   "display_name": "Python 3",
   "language": "python",
   "name": "python3"
  },
  "language_info": {
   "name": "python",
   "version": "3.7.3"
  },
  "toc": {
   "base_numbering": 1,
   "nav_menu": {},
   "number_sections": true,
   "sideBar": true,
   "skip_h1_title": false,
   "title_cell": "Table of Contents",
   "title_sidebar": "Contents",
   "toc_cell": false,
   "toc_position": {},
   "toc_section_display": true,
   "toc_window_display": false
  }
 },
 "nbformat": 4,
 "nbformat_minor": 2
}
