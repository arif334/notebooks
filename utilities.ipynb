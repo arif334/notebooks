{
 "cells": [
  {
   "cell_type": "markdown",
   "metadata": {},
   "source": [
    "## Extracting unique characters from a dataset"
   ]
  },
  {
   "cell_type": "code",
   "execution_count": 1,
   "metadata": {
    "ExecuteTime": {
     "end_time": "2022-03-10T06:40:30.723079Z",
     "start_time": "2022-03-10T06:40:30.530805Z"
    }
   },
   "outputs": [
    {
     "name": "stdout",
     "output_type": "stream",
     "text": [
      " স্কুলটির দিকে দৃষ্টি দিন।\n",
      "\n",
      " পিরোজপুর জেলার কাউখালী বন্দরে একটি মাত্র বালিকা বিদ্যালয় আছে, যা এসবি সরকারি উচ্চবালিকা বিদ্যালয় নামে পরিচিত।\n",
      "\n",
      " অনেক ঐতিহ্য বহন করছে এ বিদ্যালয়টি।\n",
      "\n",
      " কিন্তু এখানকার ছাত্রী ও শিক্ষক-শিক্ষিকাদের সম্মুখীন হতে হচ্ছে বহুবিধ সমস্যার!\n",
      "\n",
      " পাশ্বর্বর্তী বিভিন্ন গ্রাম ও দূরদূরান্ত থেকে ভালো শিক্ষার আশায় এখানে পড়তে আসছে শিক্ষার্থীরা।\n",
      "\n",
      "Total unique characters: 97\n",
      "Characters:  !\"'(),-./:;?[] ।ঁংঃঅআইঈউঊঋএঐওঔকখগঘঙচছজঝঞটঠডঢণতথদধনপফবভমযরলশষসহ়ািীুূৃেৈোৌ্ৎৗড়ঢ়য়০১২৩৪৬৭৮৯‌‍–—―’”−\n"
     ]
    }
   ],
   "source": [
    "#file_path = \"/mnt/resource/Etc/data/adrita18/metadata.csv\"\n",
    "#file_path = \"/mnt/resource/Etc/data/alamgir12/metadata.csv\"\n",
    "file_path = \"/media/arif/Resource/Etc/data/alamgir12/metadata.csv\"\n",
    "\n",
    "\n",
    "text = \"\"\n",
    "with open(file_path) as f:\n",
    "    for i, line in enumerate(f):\n",
    "        _, t, nt = line.split(\"|\")\n",
    "        text += nt.strip()\n",
    "\n",
    "        if i < 5:\n",
    "            print(nt)\n",
    "\n",
    "characters = set(text)\n",
    "\n",
    "print(f'Total unique characters: {len(characters)}')\n",
    "print(f'Characters: {\"\".join(sorted(characters))}')"
   ]
  },
  {
   "cell_type": "code",
   "execution_count": 2,
   "metadata": {
    "ExecuteTime": {
     "end_time": "2022-03-08T11:13:32.492471Z",
     "start_time": "2022-03-08T11:13:32.482810Z"
    }
   },
   "outputs": [
    {
     "data": {
      "text/plain": [
       "660437"
      ]
     },
     "execution_count": 2,
     "metadata": {},
     "output_type": "execute_result"
    }
   ],
   "source": [
    "alamgir_text = text\n",
    "len(alamgir_text)"
   ]
  },
  {
   "cell_type": "code",
   "execution_count": 7,
   "metadata": {
    "ExecuteTime": {
     "end_time": "2022-03-08T11:16:07.365274Z",
     "start_time": "2022-03-08T11:16:07.362063Z"
    }
   },
   "outputs": [
    {
     "data": {
      "text/plain": [
       "793163"
      ]
     },
     "execution_count": 7,
     "metadata": {},
     "output_type": "execute_result"
    }
   ],
   "source": [
    "adrita_text = text\n",
    "len(adrita_text)"
   ]
  },
  {
   "cell_type": "markdown",
   "metadata": {},
   "source": [
    "## Creating `characters` for COQUI-TTS"
   ]
  },
  {
   "cell_type": "code",
   "execution_count": 9,
   "metadata": {
    "ExecuteTime": {
     "end_time": "2022-03-08T11:17:57.916282Z",
     "start_time": "2022-03-08T11:17:57.841543Z"
    }
   },
   "outputs": [
    {
     "name": "stdout",
     "output_type": "stream",
     "text": [
      "Characters in corpus: {'ক', 'ড়', '৪', 'ফ', '৫', ' ', ')', 't', 'ৎ', '%', 'ঞ', 'ছ', 'য়', 'ভ', 'শ', 'a', 'ূ', '১', 'H', 'R', 'হ', 'ঁ', 'l', ',', 'F', 'ো', '.', 'া', 'র', '\"', 'ষ', 'ৗ', 'প', 'h', 'ঠ', '0', '০', 'Y', 'ণ', '(', 'b', 'L', 'ঙ', 'ঐ', 'থ', '৯', 'x', '*', 'ঔ', '৬', 'য', 'k', 'ধ', 'C', '\\u200d', 'খ', 'ই', '3', 'ঌ', 'B', '?', 'জ', '[', 'i', 'গ', 'ী', 'ৈ', 'উ', 'c', 'ঝ', 'I', 'ে', '8', 'e', 'ঢ়', 'M', 'ত', 'G', '২', '#', 'ু', '5', '৭', 'S', 'ৃ', '\\xa0', '-', 'K', '৩', 'f', 'o', 'q', 'ও', '―', 'y', 'ঃ', 'ং', 'd', 'm', '/', 'T', '়', 'ব', 'স', '6', 'চ', '্', 'A', 'আ', '–', 'n', ';', 'u', '\\u200c', '−', 'ন', 'w', 'E', 's', '!', 'r', '°', '—', 'ঈ', 'ি', 'J', '@', '৮', '’', 'ৌ', 'ড', 'অ', 'g', 'ঘ', '”', 'ম', 'D', ']', 'ঋ', ':', 'এ', 'ট', 'N', 'ঢ', 'ঊ', 'P', 'p', '1', 'ল', '।', \"'\", 'দ'}\n"
     ]
    }
   ],
   "source": [
    "text = alamgir_text + adrita_text\n",
    "chars = set(text)\n",
    "print(f\"Characters in corpus: {chars}\")"
   ]
  },
  {
   "cell_type": "code",
   "execution_count": 48,
   "metadata": {
    "ExecuteTime": {
     "end_time": "2022-03-10T08:13:57.247823Z",
     "start_time": "2022-03-10T08:13:57.245251Z"
    }
   },
   "outputs": [],
   "source": [
    "chars = \"@ABCDEFGHIJKLMNPQRSTUVWXYZabcdefghijklmnopqrstuvwxyz\"\n",
    "puncs = \";:,.!?—…\\\"«»“” \""
   ]
  },
  {
   "cell_type": "code",
   "execution_count": 9,
   "metadata": {
    "ExecuteTime": {
     "end_time": "2022-03-10T06:50:44.711774Z",
     "start_time": "2022-03-10T06:50:44.702116Z"
    },
    "collapsed": true
   },
   "outputs": [
    {
     "name": "stdout",
     "output_type": "stream",
     "text": [
      "0 -> \\u0030\n",
      "1 -> \\u0031\n",
      "2 -> \\u0032\n",
      "3 -> \\u0033\n",
      "4 -> \\u0034\n",
      "5 -> \\u0035\n",
      "6 -> \\u0036\n",
      "7 -> \\u0037\n",
      "8 -> \\u0038\n",
      "9 -> \\u0039\n",
      "@ -> \\u0040\n",
      "A -> \\u0041\n",
      "B -> \\u0042\n",
      "C -> \\u0043\n",
      "D -> \\u0044\n",
      "E -> \\u0045\n",
      "F -> \\u0046\n",
      "G -> \\u0047\n",
      "H -> \\u0048\n",
      "I -> \\u0049\n",
      "J -> \\u004a\n",
      "K -> \\u004b\n",
      "L -> \\u004c\n",
      "M -> \\u004d\n",
      "N -> \\u004e\n",
      "P -> \\u0050\n",
      "Q -> \\u0051\n",
      "R -> \\u0052\n",
      "S -> \\u0053\n",
      "T -> \\u0054\n",
      "U -> \\u0055\n",
      "V -> \\u0056\n",
      "W -> \\u0057\n",
      "X -> \\u0058\n",
      "Y -> \\u0059\n",
      "Z -> \\u005a\n",
      "a -> \\u0061\n",
      "b -> \\u0062\n",
      "c -> \\u0063\n",
      "d -> \\u0064\n",
      "e -> \\u0065\n",
      "f -> \\u0066\n",
      "g -> \\u0067\n",
      "h -> \\u0068\n",
      "i -> \\u0069\n",
      "j -> \\u006a\n",
      "k -> \\u006b\n",
      "l -> \\u006c\n",
      "m -> \\u006d\n",
      "n -> \\u006e\n",
      "o -> \\u006f\n",
      "p -> \\u0070\n",
      "q -> \\u0071\n",
      "r -> \\u0072\n",
      "s -> \\u0073\n",
      "t -> \\u0074\n",
      "u -> \\u0075\n",
      "v -> \\u0076\n",
      "w -> \\u0077\n",
      "x -> \\u0078\n",
      "y -> \\u0079\n",
      "z -> \\u007a\n"
     ]
    }
   ],
   "source": [
    "for c in chars:\n",
    "    #if ord(c) < 128: continue # ASCII\n",
    "        \n",
    "    print(f\"{c} -> \\\\u{ord(c):04x}\")"
   ]
  },
  {
   "cell_type": "code",
   "execution_count": 49,
   "metadata": {
    "ExecuteTime": {
     "end_time": "2022-03-10T08:14:00.621401Z",
     "start_time": "2022-03-10T08:14:00.618636Z"
    }
   },
   "outputs": [
    {
     "name": "stdout",
     "output_type": "stream",
     "text": [
      ";:,.!?—…\"«»“” \\u0964\n"
     ]
    }
   ],
   "source": [
    "puncs += r\"\\u\" + f\"{ord('।'):04x}\"\n",
    "print(puncs)"
   ]
  },
  {
   "cell_type": "code",
   "execution_count": 28,
   "metadata": {
    "ExecuteTime": {
     "end_time": "2022-03-10T08:02:16.013442Z",
     "start_time": "2022-03-10T08:02:16.008938Z"
    }
   },
   "outputs": [
    {
     "data": {
      "text/plain": [
       "2528"
      ]
     },
     "execution_count": 28,
     "metadata": {},
     "output_type": "execute_result"
    }
   ],
   "source": [
    "int(\"9e0\", 16)"
   ]
  },
  {
   "cell_type": "code",
   "execution_count": 44,
   "metadata": {
    "ExecuteTime": {
     "end_time": "2022-03-10T08:09:12.352116Z",
     "start_time": "2022-03-10T08:09:12.347556Z"
    }
   },
   "outputs": [
    {
     "data": {
      "text/plain": [
       "[1, 2, 5, 6, 7, 8, 9]"
      ]
     },
     "execution_count": 44,
     "metadata": {},
     "output_type": "execute_result"
    }
   ],
   "source": [
    "i = [x for x in range(int(\"981\",16), int(\"\"))] + [y for y in range(5, 10)]\n",
    "i"
   ]
  },
  {
   "cell_type": "code",
   "execution_count": 50,
   "metadata": {
    "ExecuteTime": {
     "end_time": "2022-03-10T08:14:33.204009Z",
     "start_time": "2022-03-10T08:14:33.190530Z"
    },
    "collapsed": true
   },
   "outputs": [
    {
     "name": "stdout",
     "output_type": "stream",
     "text": [
      "\\u0981 -> ঁ\n",
      "\\u0982 -> ং\n",
      "\\u0983 -> ঃ\n",
      "\\u0984 -> ঄\n",
      "\\u0985 -> অ\n",
      "\\u0986 -> আ\n",
      "\\u0987 -> ই\n",
      "\\u0988 -> ঈ\n",
      "\\u0989 -> উ\n",
      "\\u098a -> ঊ\n",
      "\\u098b -> ঋ\n",
      "\\u098c -> ঌ\n",
      "\\u098d -> ঍\n",
      "\\u098e -> ঎\n",
      "\\u098f -> এ\n",
      "\\u0990 -> ঐ\n",
      "\\u0991 -> ঑\n",
      "\\u0992 -> ঒\n",
      "\\u0993 -> ও\n",
      "\\u0994 -> ঔ\n",
      "\\u0995 -> ক\n",
      "\\u0996 -> খ\n",
      "\\u0997 -> গ\n",
      "\\u0998 -> ঘ\n",
      "\\u0999 -> ঙ\n",
      "\\u099a -> চ\n",
      "\\u099b -> ছ\n",
      "\\u099c -> জ\n",
      "\\u099d -> ঝ\n",
      "\\u099e -> ঞ\n",
      "\\u099f -> ট\n",
      "\\u09a0 -> ঠ\n",
      "\\u09a1 -> ড\n",
      "\\u09a2 -> ঢ\n",
      "\\u09a3 -> ণ\n",
      "\\u09a4 -> ত\n",
      "\\u09a5 -> থ\n",
      "\\u09a6 -> দ\n",
      "\\u09a7 -> ধ\n",
      "\\u09a8 -> ন\n",
      "\\u09a9 -> ঩\n",
      "\\u09aa -> প\n",
      "\\u09ab -> ফ\n",
      "\\u09ac -> ব\n",
      "\\u09ad -> ভ\n",
      "\\u09ae -> ম\n",
      "\\u09af -> য\n",
      "\\u09b0 -> র\n",
      "\\u09b1 -> ঱\n",
      "\\u09b2 -> ল\n",
      "\\u09b3 -> ঳\n",
      "\\u09b4 -> ঴\n",
      "\\u09b5 -> ঵\n",
      "\\u09b6 -> শ\n",
      "\\u09b7 -> ষ\n",
      "\\u09b8 -> স\n",
      "\\u09b9 -> হ\n",
      "\\u09ba -> ঺\n",
      "\\u09bb -> ঻\n",
      "\\u09bc -> ়\n",
      "\\u09bd -> ঽ\n",
      "\\u09be -> া\n",
      "\\u09bf -> ি\n",
      "\\u09c0 -> ী\n",
      "\\u09c1 -> ু\n",
      "\\u09c2 -> ূ\n",
      "\\u09c3 -> ৃ\n",
      "\\u09c4 -> ৄ\n",
      "\\u09c5 -> ৅\n",
      "\\u09c6 -> ৆\n",
      "\\u09c7 -> ে\n",
      "\\u09c8 -> ৈ\n",
      "\\u09c9 -> ৉\n",
      "\\u09ca -> ৊\n",
      "\\u09cb -> ো\n",
      "\\u09cc -> ৌ\n",
      "\\u09cd -> ্\n",
      "\\u09ce -> ৎ\n",
      "\\u09cf -> ৏\n",
      "\\u09d0 -> ৐\n",
      "\\u09d1 -> ৑\n",
      "\\u09d2 -> ৒\n",
      "\\u09d3 -> ৓\n",
      "\\u09d4 -> ৔\n",
      "\\u09d5 -> ৕\n",
      "\\u09d6 -> ৖\n",
      "\\u09d7 -> ৗ\n",
      "\\u09d8 -> ৘\n",
      "\\u09d9 -> ৙\n",
      "\\u09da -> ৚\n",
      "\\u09db -> ৛\n",
      "\\u09dc -> ড়\n",
      "\\u09dd -> ঢ়\n",
      "\\u09de -> ৞\n",
      "\\u09df -> য়\n"
     ]
    }
   ],
   "source": [
    "for i in range(int(\"981\",16), int(\"9e0\",16)):\n",
    "    print(f\"\\\\u{i:04x} -> {chr(i)}\")\n",
    "    chars += f\"\\\\u{i:04x}\""
   ]
  },
  {
   "cell_type": "code",
   "execution_count": 51,
   "metadata": {
    "ExecuteTime": {
     "end_time": "2022-03-10T08:14:45.166628Z",
     "start_time": "2022-03-10T08:14:45.163589Z"
    }
   },
   "outputs": [
    {
     "name": "stdout",
     "output_type": "stream",
     "text": [
      "@ABCDEFGHIJKLMNPQRSTUVWXYZabcdefghijklmnopqrstuvwxyz\\u0981\\u0982\\u0983\\u0984\\u0985\\u0986\\u0987\\u0988\\u0989\\u098a\\u098b\\u098c\\u098d\\u098e\\u098f\\u0990\\u0991\\u0992\\u0993\\u0994\\u0995\\u0996\\u0997\\u0998\\u0999\\u099a\\u099b\\u099c\\u099d\\u099e\\u099f\\u09a0\\u09a1\\u09a2\\u09a3\\u09a4\\u09a5\\u09a6\\u09a7\\u09a8\\u09a9\\u09aa\\u09ab\\u09ac\\u09ad\\u09ae\\u09af\\u09b0\\u09b1\\u09b2\\u09b3\\u09b4\\u09b5\\u09b6\\u09b7\\u09b8\\u09b9\\u09ba\\u09bb\\u09bc\\u09bd\\u09be\\u09bf\\u09c0\\u09c1\\u09c2\\u09c3\\u09c4\\u09c5\\u09c6\\u09c7\\u09c8\\u09c9\\u09ca\\u09cb\\u09cc\\u09cd\\u09ce\\u09cf\\u09d0\\u09d1\\u09d2\\u09d3\\u09d4\\u09d5\\u09d6\\u09d7\\u09d8\\u09d9\\u09da\\u09db\\u09dc\\u09dd\\u09de\\u09df\n"
     ]
    }
   ],
   "source": [
    "print(chars)"
   ]
  },
  {
   "cell_type": "code",
   "execution_count": 54,
   "metadata": {
    "ExecuteTime": {
     "end_time": "2022-03-10T08:43:08.551173Z",
     "start_time": "2022-03-10T08:43:08.547541Z"
    }
   },
   "outputs": [
    {
     "data": {
      "text/plain": [
       "'2019'"
      ]
     },
     "execution_count": 54,
     "metadata": {},
     "output_type": "execute_result"
    }
   ],
   "source": [
    "f\"{8217:04x}\""
   ]
  },
  {
   "cell_type": "code",
   "execution_count": 52,
   "metadata": {
    "ExecuteTime": {
     "end_time": "2022-03-10T08:41:44.255187Z",
     "start_time": "2022-03-10T08:41:44.251484Z"
    }
   },
   "outputs": [
    {
     "data": {
      "text/plain": [
       "8217"
      ]
     },
     "execution_count": 52,
     "metadata": {},
     "output_type": "execute_result"
    }
   ],
   "source": [
    "ord('’')"
   ]
  },
  {
   "cell_type": "code",
   "execution_count": null,
   "metadata": {},
   "outputs": [],
   "source": []
  }
 ],
 "metadata": {
  "interpreter": {
   "hash": "a41ce591415c5d74df4e007118beac18b4a2d894d119c29e4de87c00da99b116"
  },
  "kernelspec": {
   "display_name": "Python 3",
   "language": "python",
   "name": "python3"
  },
  "toc": {
   "base_numbering": 1,
   "nav_menu": {},
   "number_sections": true,
   "sideBar": true,
   "skip_h1_title": false,
   "title_cell": "Table of Contents",
   "title_sidebar": "Contents",
   "toc_cell": false,
   "toc_position": {},
   "toc_section_display": true,
   "toc_window_display": false
  }
 },
 "nbformat": 4,
 "nbformat_minor": 2
}
