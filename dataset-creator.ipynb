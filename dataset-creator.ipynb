{
 "cells": [
  {
   "cell_type": "markdown",
   "metadata": {},
   "source": [
    "# Import Statements"
   ]
  },
  {
   "cell_type": "code",
   "execution_count": 2,
   "metadata": {
    "ExecuteTime": {
     "end_time": "2022-02-13T12:24:35.552439Z",
     "start_time": "2022-02-13T12:24:35.382106Z"
    }
   },
   "outputs": [],
   "source": [
    "%matplotlib inline\n",
    "from pydub import AudioSegment\n",
    "from pydub.playback import play\n",
    "import IPython.display as ipd\n",
    "import os\n",
    "import re\n",
    "import shutil\n",
    "import matplotlib.pyplot as plt"
   ]
  },
  {
   "cell_type": "markdown",
   "metadata": {},
   "source": [
    "# Strip Spaces from Filename"
   ]
  },
  {
   "cell_type": "code",
   "execution_count": 4,
   "metadata": {
    "ExecuteTime": {
     "end_time": "2022-02-13T12:35:46.044236Z",
     "start_time": "2022-02-13T12:35:46.041120Z"
    }
   },
   "outputs": [],
   "source": [
    "def strip_space(dest_dir):\n",
    "    files = os.listdir(dest_dir)\n",
    "    print(f'{len(files)} found in the directory.')\n",
    "    \n",
    "    for filename in files:\n",
    "        name, ext = os.path.splitext(filename)\n",
    "        newname = name.strip() + '.wav'\n",
    "        os.rename(os.path.join(dest_dir, filename), os.path.join(dest_dir, newname))"
   ]
  },
  {
   "cell_type": "code",
   "execution_count": 5,
   "metadata": {
    "ExecuteTime": {
     "end_time": "2022-02-13T12:35:48.021778Z",
     "start_time": "2022-02-13T12:35:48.002969Z"
    }
   },
   "outputs": [
    {
     "name": "stdout",
     "output_type": "stream",
     "text": [
      "548 found in the directory.\n"
     ]
    }
   ],
   "source": [
    "strip_space('/media/arif/Resource/My PC/Tutorial/PhD (Offline)/Resources/Sound Corpus/cmu_indic_ben_rm/wav')"
   ]
  },
  {
   "cell_type": "markdown",
   "metadata": {},
   "source": [
    "# Resample .wav Files"
   ]
  },
  {
   "cell_type": "code",
   "execution_count": 9,
   "metadata": {
    "ExecuteTime": {
     "end_time": "2022-02-13T12:49:29.038164Z",
     "start_time": "2022-02-13T12:49:29.033294Z"
    }
   },
   "outputs": [],
   "source": [
    "def set_sr(src_dir, dest_dir, sr=22050):\n",
    "    files = os.listdir(src_dir)\n",
    "    print(f'{len(files)} found in the directory.')\n",
    "    \n",
    "    for file in files:\n",
    "        audio = AudioSegment.from_file(os.path.join(src_dir, file))\n",
    "        audio = audio.set_frame_rate(sr)\n",
    "        audio.export(os.path.join(dest_dir, file), format=\"wav\")"
   ]
  },
  {
   "cell_type": "code",
   "execution_count": 10,
   "metadata": {
    "ExecuteTime": {
     "end_time": "2022-02-13T12:49:34.618081Z",
     "start_time": "2022-02-13T12:49:30.002580Z"
    }
   },
   "outputs": [
    {
     "name": "stdout",
     "output_type": "stream",
     "text": [
      "548 found in the directory.\n"
     ]
    }
   ],
   "source": [
    "src_dir = \"/media/arif/Resource/My PC/Tutorial/PhD (Offline)/Resources/Sound Corpus/cmu_indic_ben_rm/wav_16k\"\n",
    "dest_dir = \"/media/arif/Resource/My PC/Tutorial/PhD (Offline)/Resources/Sound Corpus/cmu_indic_ben_rm/wavs_22.05k\"\n",
    "target_sr = 22050\n",
    "set_sr(src_dir, dest_dir, target_sr)"
   ]
  },
  {
   "cell_type": "code",
   "execution_count": null,
   "metadata": {},
   "outputs": [],
   "source": []
  },
  {
   "cell_type": "markdown",
   "metadata": {},
   "source": [
    "# Trim Silences from Start and End"
   ]
  },
  {
   "cell_type": "code",
   "execution_count": null,
   "metadata": {},
   "outputs": [],
   "source": []
  },
  {
   "cell_type": "markdown",
   "metadata": {},
   "source": [
    "# Metadata"
   ]
  },
  {
   "cell_type": "code",
   "execution_count": null,
   "metadata": {},
   "outputs": [],
   "source": []
  },
  {
   "cell_type": "markdown",
   "metadata": {},
   "source": [
    "# Normalize Amplitude"
   ]
  },
  {
   "cell_type": "code",
   "execution_count": null,
   "metadata": {},
   "outputs": [],
   "source": []
  },
  {
   "cell_type": "markdown",
   "metadata": {},
   "source": [
    "# Stereo to Mono"
   ]
  },
  {
   "cell_type": "code",
   "execution_count": null,
   "metadata": {},
   "outputs": [],
   "source": []
  },
  {
   "cell_type": "markdown",
   "metadata": {},
   "source": [
    "# Validate"
   ]
  },
  {
   "cell_type": "code",
   "execution_count": null,
   "metadata": {},
   "outputs": [],
   "source": []
  },
  {
   "cell_type": "code",
   "execution_count": null,
   "metadata": {},
   "outputs": [],
   "source": []
  },
  {
   "cell_type": "code",
   "execution_count": null,
   "metadata": {},
   "outputs": [],
   "source": []
  }
 ],
 "metadata": {
  "kernelspec": {
   "display_name": "Python 3.7.3 64-bit ('base': conda)",
   "language": "python",
   "name": "python373jvsc74a57bd0a41ce591415c5d74df4e007118beac18b4a2d894d119c29e4de87c00da99b116"
  },
  "language_info": {
   "codemirror_mode": {
    "name": "ipython",
    "version": 3
   },
   "file_extension": ".py",
   "mimetype": "text/x-python",
   "name": "python",
   "nbconvert_exporter": "python",
   "pygments_lexer": "ipython3",
   "version": "3.7.3"
  },
  "toc": {
   "base_numbering": 1,
   "nav_menu": {},
   "number_sections": true,
   "sideBar": true,
   "skip_h1_title": false,
   "title_cell": "Table of Contents",
   "title_sidebar": "Contents",
   "toc_cell": false,
   "toc_position": {},
   "toc_section_display": true,
   "toc_window_display": true
  }
 },
 "nbformat": 4,
 "nbformat_minor": 2
}
