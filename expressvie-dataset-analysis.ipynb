{
 "cells": [
  {
   "cell_type": "code",
   "execution_count": 1,
   "id": "e16dfebc",
   "metadata": {},
   "outputs": [],
   "source": [
    "%matplotlib inline\n",
    "#from pydub import AudioSegment\n",
    "#from pydub.playback import play\n",
    "import IPython.display as ipd\n",
    "import os\n",
    "import re\n",
    "import matplotlib.pyplot as plt"
   ]
  },
  {
   "cell_type": "code",
   "execution_count": null,
   "id": "b46974f2",
   "metadata": {},
   "outputs": [],
   "source": []
  },
  {
   "cell_type": "markdown",
   "id": "45e7547d",
   "metadata": {},
   "source": [
    "## alamgir12 (M1)"
   ]
  },
  {
   "cell_type": "code",
   "execution_count": 5,
   "id": "305c732c",
   "metadata": {},
   "outputs": [
    {
     "name": "stdout",
     "output_type": "stream",
     "text": [
      "Total sentences: 10701\n",
      "Total words: 102388\n",
      "Total unique words: 18285\n",
      "Average words per sentence:  9.6\n",
      "Maximum words in a sentence: 38\n",
      "Minimum words in a sentence: 1\n",
      "\n",
      "Total interrogative sentences: 1046\n",
      "Total exclamatory sentences: 123\n",
      "Proportion of expressive sentences:  10.92%\n"
     ]
    },
    {
     "data": {
      "text/plain": [
       "Text(0, 0.5, 'Frequency of samples')"
      ]
     },
     "execution_count": 5,
     "metadata": {},
     "output_type": "execute_result"
    },
    {
     "data": {
      "image/png": "[encoded data removed]",
      "text/plain": [
       "<Figure size 432x288 with 1 Axes>"
      ]
     },
     "metadata": {
      "needs_background": "light"
     },
     "output_type": "display_data"
    }
   ],
   "source": [
    "total_files = 0\n",
    "\n",
    "texts = []\n",
    "with open('/media/arif/Resource/Etc/data/alamgir12/metadata.csv', encoding='utf-8-sig') as f:\n",
    "    for line in f:\n",
    "        #print(line)\n",
    "        texts.append(line.split('|')[2].strip())\n",
    "\n",
    "N = len(texts)\n",
    "total_words = 0\n",
    "max_words = 0\n",
    "min_words = 100\n",
    "avg_words = 0\n",
    "text_lengths = dict()\n",
    "unique_words = set()\n",
    "exclamatory = 0\n",
    "interrogative = 0\n",
    "for i, text in enumerate(texts):\n",
    "    words = text.split()\n",
    "    wordset = set()\n",
    "    for word in words:\n",
    "        if word is None: continue\n",
    "        word = word.replace(' ', '').replace(':', '').replace(\"'\", '').replace('\"', '').replace('(', '').replace(')', '').replace(',', '').replace(';', '').replace('।', '').replace('?', '').replace('[', '').replace(']', '').replace('!', '')\n",
    "        #word = re.sub(r\"[ :'\\\"(),;।?\\[\\]]\", '', word)\n",
    "        wordset.add(word)\n",
    "        unique_words.add(word)\n",
    "\n",
    "    n_words = len(wordset)\n",
    "    total_words += n_words\n",
    "    max_words = max(max_words, n_words)\n",
    "    min_words = min(min_words, n_words)\n",
    "    if n_words in text_lengths:\n",
    "        text_lengths[n_words] += 1\n",
    "    else:\n",
    "        text_lengths[n_words] = 1\n",
    "        \n",
    "    if '?' in text:\n",
    "        interrogative += 1\n",
    "    elif '!' in text:\n",
    "        exclamatory += 1\n",
    "\n",
    "    #print(text)\n",
    "    #print(words)\n",
    "    #if i == 15: break\n",
    "\n",
    "expressive = (interrogative + exclamatory) / N\n",
    "\n",
    "print(f'Total sentences: {N}')\n",
    "print(f'Total words: {total_words}')\n",
    "print(f'Total unique words: {len(unique_words)}')\n",
    "print(f'Average words per sentence: {total_words / N: .2}')\n",
    "print(f'Maximum words in a sentence: {max_words}')\n",
    "print(f'Minimum words in a sentence: {min_words}')\n",
    "print()\n",
    "print(f'Total interrogative sentences: {interrogative}')\n",
    "print(f'Total exclamatory sentences: {exclamatory}')\n",
    "print(f'Proportion of expressive sentences: {expressive * 100: .2f}%')\n",
    "\n",
    "fig = plt.figure()\n",
    "plt.scatter(text_lengths.keys(), text_lengths.values())\n",
    "plt.title('Words distribution statistics')\n",
    "plt.xlabel('No. of words')\n",
    "plt.ylabel('Frequency of samples')\n"
   ]
  },
  {
   "cell_type": "markdown",
   "id": "6d162efe",
   "metadata": {},
   "source": [
    "## adrita18 - F1"
   ]
  },
  {
   "cell_type": "code",
   "execution_count": 6,
   "id": "8507164e",
   "metadata": {},
   "outputs": [
    {
     "name": "stdout",
     "output_type": "stream",
     "text": [
      "Total sentences: 12511\n",
      "Total words: 119702\n",
      "Total unique words: 24248\n",
      "Average words per sentence:  9.6\n",
      "Maximum words in a sentence: 24\n",
      "Minimum words in a sentence: 2\n",
      "\n",
      "Total interrogative sentences: 489\n",
      "Total exclamatory sentences: 65\n",
      "Proportion of expressive sentences:  4.43%\n"
     ]
    },
    {
     "data": {
      "text/plain": [
       "Text(0, 0.5, 'Frequency of samples')"
      ]
     },
     "execution_count": 6,
     "metadata": {},
     "output_type": "execute_result"
    },
    {
     "data": {
      "image/png": "[encoded data removed]",
      "text/plain": [
       "<Figure size 432x288 with 1 Axes>"
      ]
     },
     "metadata": {
      "needs_background": "light"
     },
     "output_type": "display_data"
    }
   ],
   "source": [
    "total_files = 0\n",
    "\n",
    "texts = []\n",
    "with open('/media/arif/Resource/Etc/data/adrita18/metadata.csv', encoding='utf-8-sig') as f:\n",
    "    for line in f:\n",
    "        #print(line)\n",
    "        texts.append(line.split('|')[2].strip())\n",
    "\n",
    "N = len(texts)\n",
    "total_words = 0\n",
    "max_words = 0\n",
    "min_words = 100\n",
    "avg_words = 0\n",
    "text_lengths = dict()\n",
    "unique_words = set()\n",
    "exclamatory = 0\n",
    "interrogative = 0\n",
    "for i, text in enumerate(texts):\n",
    "    words = text.split()\n",
    "    wordset = set()\n",
    "    for word in words:\n",
    "        if word is None: continue\n",
    "        word = word.replace(' ', '').replace(':', '').replace(\"'\", '').replace('\"', '').replace('(', '').replace(')', '').replace(',', '').replace(';', '').replace('।', '').replace('?', '').replace('[', '').replace(']', '').replace('!', '')\n",
    "        #word = re.sub(r\"[ :'\\\"(),;।?\\[\\]]\", '', word)\n",
    "        wordset.add(word)\n",
    "        unique_words.add(word)\n",
    "\n",
    "    n_words = len(wordset)\n",
    "    total_words += n_words\n",
    "    max_words = max(max_words, n_words)\n",
    "    min_words = min(min_words, n_words)\n",
    "    if n_words in text_lengths:\n",
    "        text_lengths[n_words] += 1\n",
    "    else:\n",
    "        text_lengths[n_words] = 1\n",
    "        \n",
    "    if '?' in text:\n",
    "        interrogative += 1\n",
    "    elif '!' in text:\n",
    "        exclamatory += 1\n",
    "\n",
    "    #print(text)\n",
    "    #print(words)\n",
    "    #if i == 15: break\n",
    "\n",
    "expressive = (interrogative + exclamatory) / N\n",
    "\n",
    "print(f'Total sentences: {N}')\n",
    "print(f'Total words: {total_words}')\n",
    "print(f'Total unique words: {len(unique_words)}')\n",
    "print(f'Average words per sentence: {total_words / N: .2}')\n",
    "print(f'Maximum words in a sentence: {max_words}')\n",
    "print(f'Minimum words in a sentence: {min_words}')\n",
    "print()\n",
    "print(f'Total interrogative sentences: {interrogative}')\n",
    "print(f'Total exclamatory sentences: {exclamatory}')\n",
    "print(f'Proportion of expressive sentences: {expressive * 100: .2f}%')\n",
    "\n",
    "fig = plt.figure()\n",
    "plt.scatter(text_lengths.keys(), text_lengths.values())\n",
    "plt.title('Words distribution statistics')\n",
    "plt.xlabel('No. of words')\n",
    "plt.ylabel('Frequency of samples')\n"
   ]
  },
  {
   "cell_type": "code",
   "execution_count": null,
   "id": "2d79d19c",
   "metadata": {},
   "outputs": [],
   "source": []
  },
  {
   "cell_type": "markdown",
   "id": "00875053",
   "metadata": {},
   "source": [
    "## kanak30 - M2"
   ]
  },
  {
   "cell_type": "code",
   "execution_count": 8,
   "id": "4578a3d9",
   "metadata": {},
   "outputs": [
    {
     "name": "stdout",
     "output_type": "stream",
     "text": [
      "Total sentences: 17737\n",
      "Total words: 178570\n",
      "Total unique words: 35983\n",
      "Average words per sentence:  10.07\n",
      "Maximum words in a sentence: 24\n",
      "Minimum words in a sentence: 2\n",
      "\n",
      "Total interrogative sentences: 2055\n",
      "Total exclamatory sentences: 1703\n",
      "Proportion of expressive sentences:  21.19%\n"
     ]
    },
    {
     "data": {
      "text/plain": [
       "Text(0, 0.5, 'Frequency of samples')"
      ]
     },
     "execution_count": 8,
     "metadata": {},
     "output_type": "execute_result"
    },
    {
     "data": {
      "image/png": "[encoded data removed]",
      "text/plain": [
       "<Figure size 432x288 with 1 Axes>"
      ]
     },
     "metadata": {
      "needs_background": "light"
     },
     "output_type": "display_data"
    }
   ],
   "source": [
    "total_files = 0\n",
    "\n",
    "texts = []\n",
    "with open('/media/arif/Resource/Etc/Notebooks/bn_speech_db_new/sust_tts_2_male.txt', encoding='utf-8-sig') as f:\n",
    "    for line in f:\n",
    "        #print(line)\n",
    "        texts.append(line.split('\\t')[1].strip())\n",
    "\n",
    "N = len(texts)\n",
    "total_words = 0\n",
    "max_words = 0\n",
    "min_words = 100\n",
    "avg_words = 0\n",
    "text_lengths = dict()\n",
    "unique_words = set()\n",
    "exclamatory = 0\n",
    "interrogative = 0\n",
    "for i, text in enumerate(texts):\n",
    "    words = text.split()\n",
    "    wordset = set()\n",
    "    for word in words:\n",
    "        if word is None: continue\n",
    "        word = word.replace(' ', '').replace(':', '').replace(\"'\", '').replace('\"', '').replace('(', '').replace(')', '').replace(',', '').replace(';', '').replace('।', '').replace('?', '').replace('[', '').replace(']', '').replace('!', '')\n",
    "        #word = re.sub(r\"[ :'\\\"(),;।?\\[\\]]\", '', word)\n",
    "        wordset.add(word)\n",
    "        unique_words.add(word)\n",
    "\n",
    "    n_words = len(wordset)\n",
    "    total_words += n_words\n",
    "    max_words = max(max_words, n_words)\n",
    "    min_words = min(min_words, n_words)\n",
    "    if n_words in text_lengths:\n",
    "        text_lengths[n_words] += 1\n",
    "    else:\n",
    "        text_lengths[n_words] = 1\n",
    "        \n",
    "    if '?' in text:\n",
    "        interrogative += 1\n",
    "    elif '!' in text:\n",
    "        exclamatory += 1\n",
    "\n",
    "    #print(text)\n",
    "    #print(words)\n",
    "    #if i == 15: break\n",
    "\n",
    "expressive = (interrogative + exclamatory) / N\n",
    "\n",
    "print(f'Total sentences: {N}')\n",
    "print(f'Total words: {total_words}')\n",
    "print(f'Total unique words: {len(unique_words)}')\n",
    "print(f'Average words per sentence: {total_words / N: .2f}')\n",
    "print(f'Maximum words in a sentence: {max_words}')\n",
    "print(f'Minimum words in a sentence: {min_words}')\n",
    "print()\n",
    "print(f'Total interrogative sentences: {interrogative}')\n",
    "print(f'Total exclamatory sentences: {exclamatory}')\n",
    "print(f'Proportion of expressive sentences: {expressive * 100: .2f}%')\n",
    "\n",
    "fig = plt.figure()\n",
    "plt.scatter(text_lengths.keys(), text_lengths.values())\n",
    "plt.title('Words distribution statistics')\n",
    "plt.xlabel('No. of words')\n",
    "plt.ylabel('Frequency of samples')"
   ]
  },
  {
   "cell_type": "code",
   "execution_count": null,
   "id": "1a3fa694",
   "metadata": {},
   "outputs": [],
   "source": []
  }
 ],
 "metadata": {
  "kernelspec": {
   "display_name": "Python 3 (ipykernel)",
   "language": "python",
   "name": "python3"
  },
  "language_info": {
   "codemirror_mode": {
    "name": "ipython",
    "version": 3
   },
   "file_extension": ".py",
   "mimetype": "text/x-python",
   "name": "python",
   "nbconvert_exporter": "python",
   "pygments_lexer": "ipython3",
   "version": "3.8.12"
  }
 },
 "nbformat": 4,
 "nbformat_minor": 5
}
