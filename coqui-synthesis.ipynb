{
 "cells": [
  {
   "cell_type": "code",
   "execution_count": 2,
   "id": "2349bb4d",
   "metadata": {
    "ExecuteTime": {
     "end_time": "2022-03-02T05:20:51.041647Z",
     "start_time": "2022-03-02T05:20:50.926301Z"
    }
   },
   "outputs": [
    {
     "name": "stdout",
     "output_type": "stream",
     "text": [
      "/home/arif/anaconda3/envs/coqui/bin/python3\r\n"
     ]
    }
   ],
   "source": [
    "!which python3"
   ]
  },
  {
   "cell_type": "code",
   "execution_count": 3,
   "id": "fd489dcb",
   "metadata": {
    "ExecuteTime": {
     "end_time": "2022-03-02T05:21:04.893194Z",
     "start_time": "2022-03-02T05:21:02.303777Z"
    },
    "collapsed": true
   },
   "outputs": [
    {
     "name": "stdout",
     "output_type": "stream",
     "text": [
      " Name format: type/language/dataset/model\r\n",
      " 1: tts_models/multilingual/multi-dataset/your_tts\r\n",
      " 2: tts_models/en/ek1/tacotron2\r\n",
      " 3: tts_models/en/ljspeech/tacotron2-DDC [already downloaded]\r\n",
      " 4: tts_models/en/ljspeech/tacotron2-DDC_ph\r\n",
      " 5: tts_models/en/ljspeech/glow-tts [already downloaded]\r\n",
      " 6: tts_models/en/ljspeech/speedy-speech\r\n",
      " 7: tts_models/en/ljspeech/tacotron2-DCA [already downloaded]\r\n",
      " 8: tts_models/en/ljspeech/vits\r\n",
      " 9: tts_models/en/ljspeech/fast_pitch\r\n",
      " 10: tts_models/en/vctk/sc-glow-tts [already downloaded]\r\n",
      " 11: tts_models/en/vctk/vits\r\n",
      " 12: tts_models/en/vctk/fast_pitch\r\n",
      " 13: tts_models/en/sam/tacotron-DDC\r\n",
      " 14: tts_models/es/mai/tacotron2-DDC\r\n",
      " 15: tts_models/fr/mai/tacotron2-DDC\r\n",
      " 16: tts_models/uk/mai/glow-tts\r\n",
      " 17: tts_models/zh-CN/baker/tacotron2-DDC-GST [already downloaded]\r\n",
      " 18: tts_models/nl/mai/tacotron2-DDC\r\n",
      " 19: tts_models/de/thorsten/tacotron2-DCA\r\n",
      " 20: tts_models/ja/kokoro/tacotron2-DDC\r\n",
      " 1: vocoder_models/universal/libri-tts/wavegrad\r\n",
      " 2: vocoder_models/universal/libri-tts/fullband-melgan\r\n",
      " 3: vocoder_models/en/ek1/wavegrad\r\n",
      " 4: vocoder_models/en/ljspeech/multiband-melgan [already downloaded]\r\n",
      " 5: vocoder_models/en/ljspeech/hifigan_v2 [already downloaded]\r\n",
      " 6: vocoder_models/en/ljspeech/univnet\r\n",
      " 7: vocoder_models/en/vctk/hifigan_v2 [already downloaded]\r\n",
      " 8: vocoder_models/en/sam/hifigan_v2\r\n",
      " 9: vocoder_models/nl/mai/parallel-wavegan\r\n",
      " 10: vocoder_models/de/thorsten/wavegrad\r\n",
      " 11: vocoder_models/de/thorsten/fullband-melgan\r\n",
      " 12: vocoder_models/ja/kokoro/hifigan_v1\r\n",
      " 13: vocoder_models/uk/mai/multiband-melgan\r\n"
     ]
    }
   ],
   "source": [
    "!tts --list_models"
   ]
  },
  {
   "cell_type": "code",
   "execution_count": 4,
   "id": "283cf95f",
   "metadata": {
    "ExecuteTime": {
     "end_time": "2022-03-02T05:21:22.575010Z",
     "start_time": "2022-03-02T05:21:22.462127Z"
    }
   },
   "outputs": [
    {
     "name": "stdout",
     "output_type": "stream",
     "text": [
      "/mnt/resource/Etc/Notebooks/notebooks\r\n"
     ]
    }
   ],
   "source": [
    "!pwd"
   ]
  },
  {
   "cell_type": "code",
   "execution_count": 5,
   "id": "67353953",
   "metadata": {
    "ExecuteTime": {
     "end_time": "2022-03-02T05:22:03.746241Z",
     "start_time": "2022-03-02T05:22:03.743866Z"
    }
   },
   "outputs": [],
   "source": [
    "text = \"hello, how are you?\""
   ]
  },
  {
   "cell_type": "code",
   "execution_count": 9,
   "id": "4e2aa743",
   "metadata": {
    "ExecuteTime": {
     "end_time": "2022-03-02T05:33:57.871683Z",
     "start_time": "2022-03-02T05:33:57.866158Z"
    }
   },
   "outputs": [
    {
     "data": {
      "text/plain": [
       "'tts --text \"hello, how are you?\"'"
      ]
     },
     "execution_count": 9,
     "metadata": {},
     "output_type": "execute_result"
    }
   ],
   "source": [
    "command = f\"tts --text \\\"{text}\\\"\"\n",
    "command"
   ]
  },
  {
   "cell_type": "code",
   "execution_count": 12,
   "id": "6f37b6a9",
   "metadata": {
    "ExecuteTime": {
     "end_time": "2022-03-02T05:35:21.459546Z",
     "start_time": "2022-03-02T05:35:16.865170Z"
    }
   },
   "outputs": [
    {
     "name": "stdout",
     "output_type": "stream",
     "text": [
      " > tts_models/en/ljspeech/tacotron2-DDC is already downloaded.\n",
      " > vocoder_models/en/ljspeech/hifigan_v2 is already downloaded.\n",
      " > Using model: Tacotron2\n",
      " > Model's reduction rate `r` is set to: 1\n",
      " > Vocoder Model: hifigan\n",
      " > Generator Model: hifigan_generator\n",
      " > Discriminator Model: hifigan_discriminator\n",
      "Removing weight norm...\n",
      " > Text: hello, how are you?\n",
      " > Text splitted to sentences.\n",
      "['hello, how are you?']\n",
      " > Processing time: 0.625967264175415\n",
      " > Real-time factor: 0.2708512200759008\n",
      " > Saving output to tts_output.wav\n"
     ]
    }
   ],
   "source": [
    "!{command}"
   ]
  },
  {
   "cell_type": "code",
   "execution_count": null,
   "id": "7271f6be",
   "metadata": {},
   "outputs": [],
   "source": []
  }
 ],
 "metadata": {
  "kernelspec": {
   "display_name": "Python 3 (ipykernel)",
   "language": "python",
   "name": "python3"
  },
  "language_info": {
   "codemirror_mode": {
    "name": "ipython",
    "version": 3
   },
   "file_extension": ".py",
   "mimetype": "text/x-python",
   "name": "python",
   "nbconvert_exporter": "python",
   "pygments_lexer": "ipython3",
   "version": "3.8.12"
  },
  "toc": {
   "base_numbering": 1,
   "nav_menu": {},
   "number_sections": true,
   "sideBar": true,
   "skip_h1_title": true,
   "title_cell": "Table of Contents",
   "title_sidebar": "Contents",
   "toc_cell": false,
   "toc_position": {},
   "toc_section_display": true,
   "toc_window_display": false
  }
 },
 "nbformat": 4,
 "nbformat_minor": 5
}
