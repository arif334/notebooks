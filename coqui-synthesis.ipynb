{
 "cells": [
  {
   "cell_type": "code",
   "execution_count": 5,
   "metadata": {
    "ExecuteTime": {
     "end_time": "2022-03-02T11:42:40.789979Z",
     "start_time": "2022-03-02T11:42:40.786498Z"
    }
   },
   "outputs": [],
   "source": [
    "import os"
   ]
  },
  {
   "cell_type": "code",
   "execution_count": 1,
   "metadata": {
    "ExecuteTime": {
     "end_time": "2022-03-02T11:33:37.429580Z",
     "start_time": "2022-03-02T11:33:37.315311Z"
    }
   },
   "outputs": [
    {
     "name": "stdout",
     "output_type": "stream",
     "text": [
      "/home/arif/anaconda3/envs/coqui/bin/python3\r\n"
     ]
    }
   ],
   "source": [
    "!which python3"
   ]
  },
  {
   "cell_type": "code",
   "execution_count": 2,
   "metadata": {
    "ExecuteTime": {
     "end_time": "2022-03-02T10:40:48.711582Z",
     "start_time": "2022-03-02T10:40:41.657135Z"
    },
    "collapsed": true
   },
   "outputs": [
    {
     "name": "stdout",
     "output_type": "stream",
     "text": [
      " Name format: type/language/dataset/model\r\n",
      " 1: tts_models/multilingual/multi-dataset/your_tts\r\n",
      " 2: tts_models/en/ek1/tacotron2\r\n",
      " 3: tts_models/en/ljspeech/tacotron2-DDC [already downloaded]\r\n",
      " 4: tts_models/en/ljspeech/tacotron2-DDC_ph\r\n",
      " 5: tts_models/en/ljspeech/glow-tts\r\n",
      " 6: tts_models/en/ljspeech/speedy-speech\r\n",
      " 7: tts_models/en/ljspeech/tacotron2-DCA\r\n",
      " 8: tts_models/en/ljspeech/vits [already downloaded]\r\n",
      " 9: tts_models/en/ljspeech/fast_pitch\r\n",
      " 10: tts_models/en/vctk/sc-glow-tts\r\n",
      " 11: tts_models/en/vctk/vits\r\n",
      " 12: tts_models/en/vctk/fast_pitch\r\n",
      " 13: tts_models/en/sam/tacotron-DDC\r\n",
      " 14: tts_models/es/mai/tacotron2-DDC\r\n",
      " 15: tts_models/fr/mai/tacotron2-DDC\r\n",
      " 16: tts_models/uk/mai/glow-tts\r\n",
      " 17: tts_models/zh-CN/baker/tacotron2-DDC-GST\r\n",
      " 18: tts_models/nl/mai/tacotron2-DDC\r\n",
      " 19: tts_models/de/thorsten/tacotron2-DCA\r\n",
      " 20: tts_models/ja/kokoro/tacotron2-DDC\r\n",
      " 1: vocoder_models/universal/libri-tts/wavegrad\r\n",
      " 2: vocoder_models/universal/libri-tts/fullband-melgan [already downloaded]\r\n",
      " 3: vocoder_models/en/ek1/wavegrad\r\n",
      " 4: vocoder_models/en/ljspeech/multiband-melgan [already downloaded]\r\n",
      " 5: vocoder_models/en/ljspeech/hifigan_v2 [already downloaded]\r\n",
      " 6: vocoder_models/en/ljspeech/univnet\r\n",
      " 7: vocoder_models/en/vctk/hifigan_v2\r\n",
      " 8: vocoder_models/en/sam/hifigan_v2\r\n",
      " 9: vocoder_models/nl/mai/parallel-wavegan\r\n",
      " 10: vocoder_models/de/thorsten/wavegrad\r\n",
      " 11: vocoder_models/de/thorsten/fullband-melgan\r\n",
      " 12: vocoder_models/ja/kokoro/hifigan_v1\r\n",
      " 13: vocoder_models/uk/mai/multiband-melgan\r\n"
     ]
    }
   ],
   "source": [
    "!tts --list_models"
   ]
  },
  {
   "cell_type": "code",
   "execution_count": 3,
   "metadata": {
    "ExecuteTime": {
     "end_time": "2022-03-02T11:34:08.876837Z",
     "start_time": "2022-03-02T11:34:08.870372Z"
    }
   },
   "outputs": [
    {
     "name": "stdout",
     "output_type": "stream",
     "text": [
      "/media/arif/Resource/Etc/Coqui/Samples\n"
     ]
    }
   ],
   "source": [
    "%cd /media/arif/Resource/Etc/Coqui/Samples"
   ]
  },
  {
   "cell_type": "code",
   "execution_count": 4,
   "metadata": {
    "ExecuteTime": {
     "end_time": "2022-03-02T11:34:10.420397Z",
     "start_time": "2022-03-02T11:34:10.309192Z"
    }
   },
   "outputs": [
    {
     "name": "stdout",
     "output_type": "stream",
     "text": [
      "/media/arif/Resource/Etc/Coqui/Samples\r\n"
     ]
    }
   ],
   "source": [
    "!pwd"
   ]
  },
  {
   "cell_type": "code",
   "execution_count": 5,
   "metadata": {
    "ExecuteTime": {
     "end_time": "2022-03-02T10:28:18.125349Z",
     "start_time": "2022-03-02T10:28:18.122931Z"
    }
   },
   "outputs": [],
   "source": [
    "text = \"hello, how are you?\"\n",
    "\n",
    "model_name = None\n",
    "\n",
    "model_path = None\n",
    "\n"
   ]
  },
  {
   "cell_type": "code",
   "execution_count": 6,
   "metadata": {
    "ExecuteTime": {
     "end_time": "2022-03-02T10:28:19.104324Z",
     "start_time": "2022-03-02T10:28:19.095199Z"
    }
   },
   "outputs": [
    {
     "data": {
      "text/plain": [
       "'tts --text \"hello, how are you?\"'"
      ]
     },
     "execution_count": 6,
     "metadata": {},
     "output_type": "execute_result"
    }
   ],
   "source": [
    "command = f\"tts --text \\\"{text}\\\"\"\n",
    "command"
   ]
  },
  {
   "cell_type": "code",
   "execution_count": 7,
   "metadata": {
    "ExecuteTime": {
     "end_time": "2022-03-02T10:28:28.201932Z",
     "start_time": "2022-03-02T10:28:25.396212Z"
    }
   },
   "outputs": [
    {
     "name": "stdout",
     "output_type": "stream",
     "text": [
      "Traceback (most recent call last):\r\n",
      "  File \"/home/arif/anaconda3/envs/coqui/bin/tts\", line 5, in <module>\r\n",
      "    from TTS.bin.synthesize import main\r\n",
      "  File \"/home/arif/anaconda3/envs/coqui/lib/python3.7/site-packages/TTS/bin/synthesize.py\", line 12, in <module>\r\n",
      "    from TTS.utils.synthesizer import Synthesizer\r\n",
      "  File \"/home/arif/anaconda3/envs/coqui/lib/python3.7/site-packages/TTS/utils/synthesizer.py\", line 18, in <module>\r\n",
      "    from TTS.vocoder.utils.generic_utils import interpolate_vocoder_input\r\n",
      "  File \"/home/arif/anaconda3/envs/coqui/lib/python3.7/site-packages/TTS/vocoder/utils/generic_utils.py\", line 5, in <module>\r\n",
      "    from matplotlib import pyplot as plt\r\n",
      "  File \"/home/arif/anaconda3/envs/coqui/lib/python3.7/site-packages/matplotlib/pyplot.py\", line 2230, in <module>\r\n",
      "    switch_backend(rcParams[\"backend\"])\r\n",
      "  File \"/home/arif/anaconda3/envs/coqui/lib/python3.7/site-packages/matplotlib/pyplot.py\", line 267, in switch_backend\r\n",
      "    class backend_mod(matplotlib.backend_bases._Backend):\r\n",
      "  File \"/home/arif/anaconda3/envs/coqui/lib/python3.7/site-packages/matplotlib/pyplot.py\", line 268, in backend_mod\r\n",
      "    locals().update(vars(importlib.import_module(backend_name)))\r\n",
      "  File \"/home/arif/anaconda3/envs/coqui/lib/python3.7/importlib/__init__.py\", line 127, in import_module\r\n",
      "    return _bootstrap._gcd_import(name[level:], package, level)\r\n",
      "ModuleNotFoundError: No module named 'ipykernel'\r\n"
     ]
    }
   ],
   "source": [
    "!{command}"
   ]
  },
  {
   "cell_type": "code",
   "execution_count": null,
   "metadata": {},
   "outputs": [],
   "source": []
  }
 ],
 "metadata": {
  "kernelspec": {
   "display_name": "Python 3",
   "language": "python",
   "name": "python3"
  },
  "toc": {
   "base_numbering": 1,
   "nav_menu": {},
   "number_sections": true,
   "sideBar": true,
   "skip_h1_title": true,
   "title_cell": "Table of Contents",
   "title_sidebar": "Contents",
   "toc_cell": false,
   "toc_position": {},
   "toc_section_display": true,
   "toc_window_display": false
  }
 },
 "nbformat": 4,
 "nbformat_minor": 5
}
