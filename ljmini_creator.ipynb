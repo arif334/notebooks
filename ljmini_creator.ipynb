{
 "cells": [
  {
   "cell_type": "code",
   "execution_count": 1,
   "source": [
    "!python --version"
   ],
   "outputs": [
    {
     "output_type": "stream",
     "name": "stdout",
     "text": [
      "Python 3.7.3\n"
     ]
    }
   ],
   "metadata": {
    "ExecuteTime": {
     "end_time": "2021-10-06T09:49:00.414653Z",
     "start_time": "2021-10-06T09:49:00.299257Z"
    }
   }
  },
  {
   "cell_type": "markdown",
   "source": [
    "## Import Statements"
   ],
   "metadata": {}
  },
  {
   "cell_type": "code",
   "execution_count": 3,
   "source": [
    "%matplotlib inline\n",
    "from pydub import AudioSegment\n",
    "from pydub.playback import play\n",
    "import IPython.display as ipd\n",
    "import os\n",
    "import re\n",
    "import matplotlib.pyplot as plt"
   ],
   "outputs": [],
   "metadata": {}
  },
  {
   "cell_type": "code",
   "execution_count": 7,
   "source": [
    "word_freq = {}\n",
    "max_words = 0\n",
    "min_words = 500\n",
    "total_words = 0\n",
    "with open('/media/arif/Resource/Etc/data/LJSpeech-1.1/metadata.csv') as f:\n",
    "    for i, line in enumerate(f):\n",
    "        text = line.split('|')[2].strip()\n",
    "        text = text.replace('.', ' ').replace(',', ' ').replace(';', ' ').replace('?', ' ').replace('!', ' ').replace('\"', ' ')\n",
    "\n",
    "        n = len(text.split())\n",
    "        if n in word_freq: \n",
    "            word_freq[n] += 1\n",
    "        else:\n",
    "            word_freq[n] = 1\n",
    "        max_words = max(max_words, n)\n",
    "        min_words = min(min_words, n)\n",
    "        total_words += n\n",
    "\n",
    "        #if i == 50: break\n",
    "print(f'Maximum words in a sentence: {max_words}')\n",
    "print(f'Minimum words in a sentence: {min_words}')\n",
    "print(f'Average words per sentence: {total_words / (i+1): .2f}')"
   ],
   "outputs": [
    {
     "output_type": "stream",
     "name": "stdout",
     "text": [
      "Maximum words in a sentence: 39\n",
      "Minimum words in a sentence: 1\n",
      "Average words per sentence:  17.01\n"
     ]
    }
   ],
   "metadata": {}
  },
  {
   "cell_type": "code",
   "execution_count": null,
   "source": [],
   "outputs": [],
   "metadata": {}
  }
 ],
 "metadata": {
  "kernelspec": {
   "name": "python3",
   "display_name": "Python 3.7.3 64-bit ('base': conda)"
  },
  "toc": {
   "base_numbering": 1,
   "nav_menu": {},
   "number_sections": true,
   "sideBar": true,
   "skip_h1_title": false,
   "title_cell": "Table of Contents",
   "title_sidebar": "Contents",
   "toc_cell": false,
   "toc_position": {},
   "toc_section_display": true,
   "toc_window_display": false
  },
  "language_info": {
   "name": "python",
   "version": "3.7.3",
   "mimetype": "text/x-python",
   "codemirror_mode": {
    "name": "ipython",
    "version": 3
   },
   "pygments_lexer": "ipython3",
   "nbconvert_exporter": "python",
   "file_extension": ".py"
  },
  "interpreter": {
   "hash": "d70e2d321279222f1eafaf81c9747d238e011e5ae49bb51776f0b8d2bfcb65d2"
  }
 },
 "nbformat": 4,
 "nbformat_minor": 2
}