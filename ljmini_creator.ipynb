{
 "cells": [
  {
   "cell_type": "code",
   "execution_count": 1,
   "metadata": {
    "ExecuteTime": {
     "end_time": "2021-10-06T09:49:00.414653Z",
     "start_time": "2021-10-06T09:49:00.299257Z"
    }
   },
   "outputs": [
    {
     "name": "stdout",
     "output_type": "stream",
     "text": [
      "Python 3.7.3\n"
     ]
    }
   ],
   "source": [
    "!python --version"
   ]
  },
  {
   "cell_type": "markdown",
   "metadata": {},
   "source": [
    "## Import Statements"
   ]
  },
  {
   "cell_type": "code",
   "execution_count": 1,
   "metadata": {},
   "outputs": [],
   "source": [
    "%matplotlib inline\n",
    "from pydub import AudioSegment\n",
    "from pydub.playback import play\n",
    "import IPython.display as ipd\n",
    "import os\n",
    "import re\n",
    "import shutil\n",
    "import matplotlib.pyplot as plt"
   ]
  },
  {
   "cell_type": "code",
   "execution_count": 3,
   "metadata": {},
   "outputs": [
    {
     "name": "stdout",
     "output_type": "stream",
     "text": [
      "Maximum words in a sentence: 39\n",
      "Minimum words in a sentence: 1\n",
      "Average words per sentence:  17.01\n"
     ]
    }
   ],
   "source": [
    "word_freq = {}\n",
    "max_words = 0\n",
    "min_words = 500\n",
    "total_words = 0\n",
    "\n",
    "csvfile = '/media/arif/Resource/Etc/data/LJSpeech-1.1/metadata.csv' # lab\n",
    "csvfile = '/mnt/resource/Etc/data/LJSpeech-1.1/metadata.csv'        # home\n",
    "with open(csvfile) as f:\n",
    "    for i, line in enumerate(f):\n",
    "        text = line.split('|')[2].strip()\n",
    "        text = text.replace('.', ' ').replace(',', ' ').replace(';', ' ').replace('?', ' ').replace('!', ' ').replace('\"', ' ')\n",
    "\n",
    "        n = len(text.split())\n",
    "        if n in word_freq: \n",
    "            word_freq[n] += 1\n",
    "        else:\n",
    "            word_freq[n] = 1\n",
    "        max_words = max(max_words, n)\n",
    "        min_words = min(min_words, n)\n",
    "        total_words += n\n",
    "\n",
    "        #if i == 50: break\n",
    "print(f'Maximum words in a sentence: {max_words}')\n",
    "print(f'Minimum words in a sentence: {min_words}')\n",
    "print(f'Average words per sentence: {total_words / (i+1): .2f}')"
   ]
  },
  {
   "cell_type": "code",
   "execution_count": 5,
   "metadata": {},
   "outputs": [
    {
     "data": {
      "text/plain": [
       "Text(0, 0.5, 'No. of samples')"
      ]
     },
     "execution_count": 5,
     "metadata": {},
     "output_type": "execute_result"
    },
    {
     "data": {
      "image/png": "[encoded data removed]",
      "text/plain": [
       "<Figure size 432x288 with 1 Axes>"
      ]
     },
     "metadata": {
      "needs_background": "light"
     },
     "output_type": "display_data"
    }
   ],
   "source": [
    "plt.bar(word_freq.keys(), word_freq.values())\n",
    "plt.xlabel('No. of words in a sentence')\n",
    "plt.ylabel('No. of samples')"
   ]
  },
  {
   "cell_type": "code",
   "execution_count": 10,
   "metadata": {},
   "outputs": [
    {
     "name": "stdout",
     "output_type": "stream",
     "text": [
      "Total duration: 23 hours 55.28 minutes\n",
      "Maximum duration: 10.10 seconds\n",
      "Minimum duration: 1.11 seconds\n",
      "Average duration: 6.57 seconds\n"
     ]
    }
   ],
   "source": [
    "ljwavdir = '/mnt/resource/Etc/data/LJSpeech-1.1/wavs'\n",
    "\n",
    "files = os.listdir(ljwavdir)\n",
    "\n",
    "wav_duration = {}\n",
    "max_duration = 0\n",
    "min_duration = 1000\n",
    "total_duration = 0\n",
    "\n",
    "for i, file in enumerate(files):\n",
    "    audio = AudioSegment.from_wav(os.path.join(ljwavdir, file))\n",
    "\n",
    "    duration = audio.duration_seconds\n",
    "\n",
    "    max_duration = max(max_duration, duration)\n",
    "    min_duration = min(min_duration, duration)\n",
    "    total_duration += duration\n",
    "\n",
    "    duration = int(duration)\n",
    "    if duration in wav_duration:\n",
    "        wav_duration[duration] += 1\n",
    "    else:\n",
    "        wav_duration[duration] = 1\n",
    "\n",
    "    #if i == 5: break\n",
    "\n",
    "avg_duration = total_duration / len(files)\n",
    "total_duration /= 60 # sec. to min.\n",
    "duration_hours = total_duration // 60\n",
    "duration_mins = total_duration - (duration_hours * 60)\n",
    "\n",
    "print(f\"Total duration: {int(duration_hours)} hours {duration_mins:.2f} minutes\")\n",
    "print(f'Maximum duration: {max_duration:.2f} seconds')\n",
    "print(f'Minimum duration: {min_duration:.2f} seconds')\n",
    "print(f'Average duration: {avg_duration:.2f} seconds')"
   ]
  },
  {
   "cell_type": "markdown",
   "metadata": {},
   "source": [
    "## Creating LJ-mini corpus\n",
    "\n",
    "* corpus will contain about 8 hours of speech\n",
    "* word length: 3-30"
   ]
  },
  {
   "cell_type": "code",
   "execution_count": 2,
   "metadata": {},
   "outputs": [
    {
     "name": "stdout",
     "output_type": "stream",
     "text": [
      "LJ001-0014\n",
      "LJ001-0152\n",
      "LJ003-0011\n",
      "LJ005-0223\n",
      "LJ007-0060\n",
      "LJ007-0229\n",
      "LJ008-0263\n",
      "LJ009-0053\n",
      "LJ009-0129\n",
      "LJ011-0101\n",
      "LJ011-0154\n",
      "LJ012-0116\n",
      "LJ012-0147\n",
      "LJ014-0079\n",
      "LJ014-0133\n"
     ]
    }
   ],
   "source": [
    "wavdir = '/media/arif/Resource/Etc/data/LJSpeech-1.1/wavs'\n",
    "wavdir = '/mnt/resource/Etc/data/LJSpeech-1.1/wavs'\n",
    "destdir = '/media/arif/Resource/Etc/data/lj-mini/wavs'\n",
    "destdir = '/mnt/resource/Etc/data/lj-mini/wavs'\n",
    "\n",
    "with open('/mnt/resource/Etc/data/LJSpeech-1.1/metadata.csv') as f:\n",
    "    with open('/mnt/resource/Etc/data/lj-mini/mini-metadata.csv', 'w') as outfile:\n",
    "        duration = 0\n",
    "        for i, line in enumerate(f):\n",
    "            idx, txt, normtxt = line.split('|')\n",
    "\n",
    "            normtxt = normtxt.replace('.', ' ').replace(',', ' ').replace(';', ' ').replace('?', ' ').replace('!', ' ').replace('\"', ' ')\n",
    "            nwords = len(normtxt.split())\n",
    "\n",
    "            if nwords < 3 or nwords > 30:\n",
    "                print(idx)\n",
    "                continue\n",
    "\n",
    "            outfile.write(line)\n",
    "            \n",
    "            wavpath = os.path.join(wavdir, idx+'.wav')\n",
    "            shutil.copy(wavpath, destdir)\n",
    "\n",
    "            audio = AudioSegment.from_wav(wavpath)\n",
    "            duration += audio.duration_seconds\n",
    "            if duration >= 28800: # 8 hours\n",
    "                break\n",
    "\n",
    "            #if i == 5: break"
   ]
  },
  {
   "cell_type": "code",
   "execution_count": 13,
   "metadata": {},
   "outputs": [
    {
     "name": "stdout",
     "output_type": "stream",
     "text": [
      "LJ-mini corpus info:\n",
      "Total duration: 8 hours 0.00 minutes\n",
      "Maximum duration: 10.10 seconds\n",
      "Minimum duration: 1.12 seconds\n",
      "Average duration: 6.61 seconds\n"
     ]
    }
   ],
   "source": [
    "ljwavdir = '/media/arif/Resource/Etc/data/lj-mini/wavs'\n",
    "\n",
    "files = os.listdir(ljwavdir)\n",
    "\n",
    "wav_duration = {}\n",
    "max_duration = 0\n",
    "min_duration = 1000\n",
    "total_duration = 0\n",
    "\n",
    "for i, file in enumerate(files):\n",
    "    audio = AudioSegment.from_wav(os.path.join(ljwavdir, file))\n",
    "\n",
    "    duration = audio.duration_seconds\n",
    "\n",
    "    max_duration = max(max_duration, duration)\n",
    "    min_duration = min(min_duration, duration)\n",
    "    total_duration += duration\n",
    "\n",
    "    duration = int(duration)\n",
    "    if duration in wav_duration:\n",
    "        wav_duration[duration] += 1\n",
    "    else:\n",
    "        wav_duration[duration] = 1\n",
    "\n",
    "    #if i == 5: break\n",
    "\n",
    "avg_duration = total_duration / len(files)\n",
    "total_duration /= 60 # sec. to min.\n",
    "duration_hours = total_duration // 60\n",
    "duration_mins = total_duration - (duration_hours * 60)\n",
    "\n",
    "print(\"LJ-mini corpus info:\")\n",
    "print(f\"Total duration: {int(duration_hours)} hours {duration_mins:.2f} minutes\")\n",
    "print(f'Maximum duration: {max_duration:.2f} seconds')\n",
    "print(f'Minimum duration: {min_duration:.2f} seconds')\n",
    "print(f'Average duration: {avg_duration:.2f} seconds')"
   ]
  },
  {
   "cell_type": "code",
   "execution_count": null,
   "metadata": {},
   "outputs": [],
   "source": []
  }
 ],
 "metadata": {
  "interpreter": {
   "hash": "a41ce591415c5d74df4e007118beac18b4a2d894d119c29e4de87c00da99b116"
  },
  "kernelspec": {
   "display_name": "Python 3.8.3 64-bit ('base': conda)",
   "name": "python3"
  },
  "language_info": {
   "codemirror_mode": {
    "name": "ipython",
    "version": 3
   },
   "file_extension": ".py",
   "mimetype": "text/x-python",
   "name": "python",
   "nbconvert_exporter": "python",
   "pygments_lexer": "ipython3",
   "version": "3.8.3"
  },
  "toc": {
   "base_numbering": 1,
   "nav_menu": {},
   "number_sections": true,
   "sideBar": true,
   "skip_h1_title": false,
   "title_cell": "Table of Contents",
   "title_sidebar": "Contents",
   "toc_cell": false,
   "toc_position": {},
   "toc_section_display": true,
   "toc_window_display": false
  }
 },
 "nbformat": 4,
 "nbformat_minor": 2
}
