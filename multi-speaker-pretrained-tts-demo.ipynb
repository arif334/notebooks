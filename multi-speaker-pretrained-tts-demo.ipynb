{
 "cells": [
  {
   "cell_type": "code",
   "execution_count": 2,
   "metadata": {},
   "outputs": [],
   "source": [
    "import subprocess"
   ]
  },
  {
   "cell_type": "code",
   "execution_count": null,
   "metadata": {},
   "outputs": [],
   "source": []
  },
  {
   "cell_type": "markdown",
   "metadata": {},
   "source": [
    "## GlowTTS + HiFiGAN with VCTK"
   ]
  },
  {
   "cell_type": "code",
   "execution_count": 3,
   "metadata": {},
   "outputs": [
    {
     "data": {
      "text/plain": [
       "108"
      ]
     },
     "execution_count": 3,
     "metadata": {},
     "output_type": "execute_result"
    }
   ],
   "source": [
    "idx = ['p280', 'p286', 'p297', 'p249', 'p329', 'p238', 'p246', 'p295', 'p330', 'p276', 'p281', 'p225', 'p364', 'p237', 'p308', 'p275', 'p343', 'p254', 'p313', 'p268', 'p288', 'p299', 'p341', 'p361', 'p305', 'p257', 'p335', 'p229', 'p334', 'p307', 'p248', 'p240', 'p311', 'p314', 'p241', 'p261', 'p293', 'p245', 'p317', 'p236', 'p226', 'p259', 'p278', 'p306', 'p279', 'p300', 'p339', 'p262', 'p301', 'p253', 'p258', 'p239', 'p270', 'p234', 'p294', 'p336', 'p277', 'p274', 'p250', 'p247', 'p273', 'p252', 'p287', 'p244', 'p227', 'p345', 'p266', 'p260', 'p362', 'p318', 'p340', 'p255', 'p351', 'p374', 'p256', 'p316', 'p304', 'p232', 'p265', 'p243', 'p228', 'p347', 'p303', 'p271', 'p326', 'p233', 'p272', 'p323', 'p376', 'p269', 'p264', 'p312', 'p333', 'p283', 'p231', 'p263', 'p230', 'p267', 'p310', 'p302', 'p363', 'p282', 'p284', 'p360', 'p298', 'p251', 'p292', 'p285']\n",
    "\n",
    "len(idx)"
   ]
  },
  {
   "cell_type": "code",
   "execution_count": 6,
   "metadata": {},
   "outputs": [],
   "source": [
    "output_dir = '/mnt/resource/Etc/data/Samples/walton-synthetic/'\n",
    "output_prefix = 'coqui_glowtts_hifigan_1_'"
   ]
  },
  {
   "cell_type": "code",
   "execution_count": 8,
   "metadata": {},
   "outputs": [],
   "source": [
    "text = \"Hello, Walton.\"\n",
    "for i in idx:\n",
    "    out_path = output_dir + output_prefix + i + '.wav'\n",
    "    command = ['tts', '--text'] + [text] + f'--out_path {out_path} --model_name tts_models/en/vctk/sc-glow-tts --vocoder_name vocoder_models/en/vctk/hifigan_v2 --speaker_idx {i}'.split()\n",
    "\n",
    "    #print(command)\n",
    "    subprocess.run(command, text=False, check=True)\n",
    "    #print(rv.stdout)\n",
    "    #break"
   ]
  },
  {
   "cell_type": "code",
   "execution_count": 1,
   "metadata": {},
   "outputs": [
    {
     "name": "stdout",
     "output_type": "stream",
     "text": [
      " > tts_models/en/vctk/sc-glow-tts is already downloaded.\n",
      "Loading speakers ...\n",
      " > Using model: glow_tts\n",
      " > Text: Hello Walton.\n",
      " > Text splitted to sentences.\n",
      "['Hello Walton.']\n",
      " > Processing time: 1.8396270275115967\n",
      " > Real-time factor: 1.3421048159287554\n",
      " > Saving output to /mnt/resource/Etc/data/Samples/coqui/s2.wav\n",
      "\u001b[0m"
     ]
    }
   ],
   "source": [
    "!tts --text \"Hello Walton.\" --out_path /mnt/resource/Etc/data/Samples/coqui/s2.wav --model_name \"tts_models/en/vctk/sc-glow-tts\"  --speaker_idx \"p280\""
   ]
  },
  {
   "cell_type": "code",
   "execution_count": null,
   "metadata": {},
   "outputs": [],
   "source": []
  }
 ],
 "metadata": {
  "interpreter": {
   "hash": "a41ce591415c5d74df4e007118beac18b4a2d894d119c29e4de87c00da99b116"
  },
  "kernelspec": {
   "display_name": "Python 3.8.3 64-bit ('base': conda)",
   "name": "python3"
  },
  "language_info": {
   "codemirror_mode": {
    "name": "ipython",
    "version": 3
   },
   "file_extension": ".py",
   "mimetype": "text/x-python",
   "name": "python",
   "nbconvert_exporter": "python",
   "pygments_lexer": "ipython3",
   "version": "3.8.3"
  },
  "orig_nbformat": 4
 },
 "nbformat": 4,
 "nbformat_minor": 2
}
