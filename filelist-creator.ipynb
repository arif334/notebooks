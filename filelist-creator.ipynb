{
 "cells": [
  {
   "cell_type": "code",
   "execution_count": 1,
   "metadata": {},
   "outputs": [
    {
     "name": "stdout",
     "output_type": "stream",
     "text": [
      "/mnt/resource/Etc/Notebooks/notebooks\n"
     ]
    }
   ],
   "source": [
    "!pwd"
   ]
  },
  {
   "cell_type": "code",
   "execution_count": 2,
   "metadata": {},
   "outputs": [],
   "source": [
    "import os\n"
   ]
  },
  {
   "cell_type": "code",
   "execution_count": 5,
   "metadata": {},
   "outputs": [],
   "source": [
    "wavpath = '/mnt/resource/Etc/data/lj-mini/wavs'\n",
    "\n",
    "filenames = sorted(os.listdir(wavpath))"
   ]
  },
  {
   "cell_type": "code",
   "execution_count": 3,
   "metadata": {},
   "outputs": [],
   "source": [
    "csvfile = '/mnt/resource/Etc/data/lj-mini/mini-metadata.csv'\n",
    "\n",
    "outfile = '/mnt/resource/Etc/data/lj-mini/ljmini_audiopaths_text_sid_train_filelist.txt'"
   ]
  },
  {
   "cell_type": "code",
   "execution_count": 14,
   "metadata": {},
   "outputs": [],
   "source": [
    "with open(csvfile) as f:\n",
    "    with open(outfile, 'w') as out:\n",
    "        i = 0\n",
    "        for line in f:\n",
    "            idx, txt, norm_txt = line.split('|')\n",
    "            norm_txt = norm_txt.strip()\n",
    "\n",
    "            #print(filenames[i][:-4], idx)\n",
    "            assert(filenames[i][:-4] == idx)\n",
    "\n",
    "            out.write('/home/arif/tts-data/lj-mini/wavs/' + filenames[i] + '|' + norm_txt + '|0\\n')\n",
    "\n",
    "            i += 1"
   ]
  },
  {
   "cell_type": "code",
   "execution_count": null,
   "metadata": {},
   "outputs": [],
   "source": []
  }
 ],
 "metadata": {
  "interpreter": {
   "hash": "a9891b800d745410885b38bef19c6191574b79f4fe5a5c1b295911911041ece3"
  },
  "kernelspec": {
   "display_name": "Python 3.7.11 64-bit ('punc': conda)",
   "language": "python",
   "name": "python3"
  },
  "language_info": {
   "codemirror_mode": {
    "name": "ipython",
    "version": 3
   },
   "file_extension": ".py",
   "mimetype": "text/x-python",
   "name": "python",
   "nbconvert_exporter": "python",
   "pygments_lexer": "ipython3",
   "version": "3.8.3"
  },
  "orig_nbformat": 4
 },
 "nbformat": 4,
 "nbformat_minor": 2
}
