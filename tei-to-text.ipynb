{
 "cells": [
  {
   "cell_type": "markdown",
   "metadata": {},
   "source": [
    "The following code will convert TEI xml files to text files."
   ]
  },
  {
   "cell_type": "code",
   "execution_count": null,
   "metadata": {
    "ExecuteTime": {
     "end_time": "2021-06-06T06:43:46.661407Z",
     "start_time": "2021-06-06T06:43:46.658610Z"
    }
   },
   "outputs": [],
   "source": [
    "import os"
   ]
  },
  {
   "cell_type": "code",
   "execution_count": 53,
   "metadata": {
    "ExecuteTime": {
     "end_time": "2021-06-06T11:50:30.719740Z",
     "start_time": "2021-06-06T11:50:30.714378Z"
    }
   },
   "outputs": [
    {
     "data": {
      "text/plain": [
       "113"
      ]
     },
     "execution_count": 53,
     "metadata": {},
     "output_type": "execute_result"
    }
   ],
   "source": [
    "sourceDir = '/media/arif/Resource/My PC/Tutorial/PhD (Offline)/Resources/Text Corpus/Bangla Textbook Corpus/banglaTextbook (TEI)/difficult'\n",
    "destDir = '/media/arif/Resource/My PC/Tutorial/PhD (Offline)/Resources/Text Corpus/Bangla Textbook Corpus/banglaTextbook (text)/difficult'\n",
    "\n",
    "files = os.listdir(sourceDir)\n",
    "len(files)"
   ]
  },
  {
   "cell_type": "markdown",
   "metadata": {},
   "source": [
    "## Using `tei-reader`"
   ]
  },
  {
   "cell_type": "code",
   "execution_count": null,
   "metadata": {},
   "outputs": [],
   "source": [
    "!pip install tei-reader"
   ]
  },
  {
   "cell_type": "code",
   "execution_count": 43,
   "metadata": {
    "ExecuteTime": {
     "end_time": "2021-06-06T08:01:09.494073Z",
     "start_time": "2021-06-06T08:01:09.491708Z"
    }
   },
   "outputs": [],
   "source": [
    "from tei_reader import TeiReader\n",
    "\n",
    "reader = TeiReader()"
   ]
  },
  {
   "cell_type": "code",
   "execution_count": 54,
   "metadata": {
    "ExecuteTime": {
     "end_time": "2021-06-06T11:50:35.953337Z",
     "start_time": "2021-06-06T11:50:33.976222Z"
    }
   },
   "outputs": [],
   "source": [
    "counter = 0\n",
    "\n",
    "for file in files:\n",
    "    filename = os.path.join(sourceDir, file)\n",
    "    outfile = os.path.join(destDir, file[:-4] + '.txt')\n",
    "    \n",
    "    corpora = reader.read_file(filename)\n",
    "    lines = corpora.text.split('\\t')\n",
    "    \n",
    "    with open(outfile, 'w') as of:\n",
    "        for line in lines:\n",
    "            if line == '': continue\n",
    "            #print(line)\n",
    "            of.write(line + '\\n')\n",
    "    \n",
    "    counter += 1\n",
    "    #if counter == 1: break"
   ]
  },
  {
   "cell_type": "code",
   "execution_count": null,
   "metadata": {},
   "outputs": [],
   "source": []
  },
  {
   "cell_type": "code",
   "execution_count": null,
   "metadata": {},
   "outputs": [],
   "source": []
  },
  {
   "cell_type": "markdown",
   "metadata": {},
   "source": [
    "## Using BeautifulSoup\n",
    ".TEI files can be parsed with `BeautifulSoup`. "
   ]
  },
  {
   "cell_type": "code",
   "execution_count": 5,
   "metadata": {
    "ExecuteTime": {
     "end_time": "2021-06-06T06:43:46.661407Z",
     "start_time": "2021-06-06T06:43:46.658610Z"
    }
   },
   "outputs": [],
   "source": [
    "# from bs4 import BeautifulSoup\n",
    "\n",
    "# tei_doc = os.path.join(sourceDir, file)\n",
    "\n",
    "# with open(tei_doc) as f:\n",
    "#     soup = BeautifulSoup(f, 'lxml')\n",
    "\n",
    "# title = soup.title.getText()\n",
    "# print(f'Title: {title}')\n",
    "\n",
    "# lines = soup.getText().split('\\n')\n",
    "# for line in lines:\n",
    "#     print(line)"
   ]
  },
  {
   "cell_type": "code",
   "execution_count": 40,
   "metadata": {
    "ExecuteTime": {
     "end_time": "2021-06-06T07:53:01.581699Z",
     "start_time": "2021-06-06T07:53:01.576794Z"
    }
   },
   "outputs": [
    {
     "data": {
      "text/plain": [
       "'2-bn-1'"
      ]
     },
     "execution_count": 40,
     "metadata": {},
     "output_type": "execute_result"
    }
   ],
   "source": [
    "files[0][:-4]"
   ]
  },
  {
   "cell_type": "code",
   "execution_count": null,
   "metadata": {},
   "outputs": [],
   "source": []
  }
 ],
 "metadata": {
  "kernelspec": {
   "display_name": "Python 3",
   "language": "python",
   "name": "python3"
  },
  "language_info": {
   "codemirror_mode": {
    "name": "ipython",
    "version": 3
   },
   "file_extension": ".py",
   "mimetype": "text/x-python",
   "name": "python",
   "nbconvert_exporter": "python",
   "pygments_lexer": "ipython3",
   "version": "3.7.3"
  },
  "toc": {
   "base_numbering": 1,
   "nav_menu": {},
   "number_sections": true,
   "sideBar": true,
   "skip_h1_title": false,
   "title_cell": "Table of Contents",
   "title_sidebar": "Contents",
   "toc_cell": false,
   "toc_position": {},
   "toc_section_display": true,
   "toc_window_display": true
  }
 },
 "nbformat": 4,
 "nbformat_minor": 2
}
