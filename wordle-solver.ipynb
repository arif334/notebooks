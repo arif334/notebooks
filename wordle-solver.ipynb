{
 "cells": [
  {
   "cell_type": "code",
   "execution_count": 1,
   "metadata": {},
   "outputs": [
    {
     "data": {
      "text/plain": [
       "12972"
      ]
     },
     "execution_count": 1,
     "metadata": {},
     "output_type": "execute_result"
    }
   ],
   "source": [
    "import re\n",
    "from random import shuffle\n",
    "\n",
    "wordle_ans = set()\n",
    "wordle_guess = set()\n",
    "wordle_all = set()\n",
    "\n",
    "with open('wordle-answers-alphabetical.txt') as f:\n",
    "    for line in f:\n",
    "        wordle_ans.add(line.strip())\n",
    "\n",
    "\n",
    "with open('wordle-allowed-guesses.txt') as f:\n",
    "    for line in f:\n",
    "        wordle_guess.add(line.strip())\n",
    "\n",
    "wordle_all = wordle_ans.union(wordle_guess)\n",
    "\n",
    "words = [word.upper() for word in wordle_all]\n",
    "#words = [word.upper() for word in wordle_ans # use it when you are in extreme danger\n",
    "\n",
    "# shuffle(words)\n",
    "# for word in words:\n",
    "#     print(word)\n",
    "words = sorted(words)\n",
    "len(words)"
   ]
  },
  {
   "cell_type": "code",
   "execution_count": 4,
   "metadata": {},
   "outputs": [
    {
     "name": "stdout",
     "output_type": "stream",
     "text": [
      "CRIMP\n"
     ]
    }
   ],
   "source": [
    "# BRAKE\n",
    "# DYING\n",
    "# CLOTS\n",
    "# WHUMP\n",
    "p = re.compile(\".....\")\n",
    "p = re.compile(\"CRI..\")\n",
    "res = list(filter(p.match, words))\n",
    "for w in res:\n",
    "    exclude = \"DYNGLOTSAKE\"\n",
    "    if not any(ex in w for ex in exclude):\n",
    "    #if 'I' in w and 'N' in w and 'C' in w:\n",
    "        print(w)"
   ]
  },
  {
   "cell_type": "code",
   "execution_count": null,
   "metadata": {},
   "outputs": [],
   "source": []
  },
  {
   "cell_type": "code",
   "execution_count": null,
   "metadata": {},
   "outputs": [],
   "source": []
  },
  {
   "cell_type": "code",
   "execution_count": null,
   "metadata": {},
   "outputs": [],
   "source": []
  },
  {
   "cell_type": "code",
   "execution_count": 13,
   "metadata": {},
   "outputs": [
    {
     "data": {
      "text/plain": [
       "14525"
      ]
     },
     "execution_count": 13,
     "metadata": {},
     "output_type": "execute_result"
    }
   ],
   "source": [
    "len(cmu_words)"
   ]
  },
  {
   "cell_type": "code",
   "execution_count": 18,
   "metadata": {},
   "outputs": [
    {
     "data": {
      "text/plain": [
       "5249"
      ]
     },
     "execution_count": 18,
     "metadata": {},
     "output_type": "execute_result"
    }
   ],
   "source": [
    "#cmu_words.difference(wordle_all)\n",
    "len(wordle_all.intersection(cmu_words))"
   ]
  },
  {
   "cell_type": "code",
   "execution_count": null,
   "metadata": {},
   "outputs": [],
   "source": []
  }
 ],
 "metadata": {
  "interpreter": {
   "hash": "a41ce591415c5d74df4e007118beac18b4a2d894d119c29e4de87c00da99b116"
  },
  "kernelspec": {
   "display_name": "Python 3.8.3 64-bit ('base': conda)",
   "language": "python",
   "name": "python3"
  },
  "language_info": {
   "codemirror_mode": {
    "name": "ipython",
    "version": 3
   },
   "file_extension": ".py",
   "mimetype": "text/x-python",
   "name": "python",
   "nbconvert_exporter": "python",
   "pygments_lexer": "ipython3",
   "version": "3.8.3"
  },
  "orig_nbformat": 4
 },
 "nbformat": 4,
 "nbformat_minor": 2
}
