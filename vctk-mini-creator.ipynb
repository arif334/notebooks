{
 "cells": [
  {
   "cell_type": "code",
   "execution_count": 1,
   "metadata": {
    "ExecuteTime": {
     "end_time": "2023-07-11T17:55:00.685867Z",
     "start_time": "2023-07-11T17:55:00.560287Z"
    }
   },
   "outputs": [
    {
     "name": "stdout",
     "output_type": "stream",
     "text": [
      "Python 3.9.17\n"
     ]
    }
   ],
   "source": [
    "!python --version"
   ]
  },
  {
   "cell_type": "markdown",
   "metadata": {},
   "source": [
    "## Import Statements"
   ]
  },
  {
   "cell_type": "code",
   "execution_count": 1,
   "metadata": {
    "ExecuteTime": {
     "end_time": "2023-07-11T17:56:15.944554Z",
     "start_time": "2023-07-11T17:56:15.700817Z"
    }
   },
   "outputs": [],
   "source": [
    "%matplotlib inline\n",
    "from pydub import AudioSegment\n",
    "from pydub.playback import play\n",
    "import IPython.display as ipd\n",
    "import os\n",
    "import re\n",
    "import shutil\n",
    "import matplotlib.pyplot as plt\n",
    "from glob import glob\n",
    "from pathlib import Path"
   ]
  },
  {
   "cell_type": "markdown",
   "metadata": {},
   "source": [
    "# Analyzing VCTK Dataset\n",
    "\n",
    "Accoring to `Coqui TTS dataset formatter`, our version is `vctk_old`. \n",
    "\n",
    "URL:\n",
    "    homepages.inf.ed.ac.uk/jyamagis/release/VCTK-Corpus.tar.gz\n",
    "\n",
    "**New `vctk` corpus information:**\n",
    "\n",
    "VCTK dataset v0.92.\n",
    "\n",
    "URL:\n",
    "    https://datashare.ed.ac.uk/bitstream/handle/10283/3443/VCTK-Corpus-0.92.zip\n",
    "\n",
    "This dataset has 2 recordings per speaker that are annotated with ```mic1``` and ```mic2```.\n",
    "It is believed that (😄 ) ```mic1``` files are the same as the previous version of the dataset.\n",
    "\n",
    "mic1:\n",
    "    Audio recorded using an omni-directional microphone (DPA 4035).\n",
    "    Contains very low frequency noises.\n",
    "    This is the same audio released in previous versions of VCTK:\n",
    "    https://doi.org/10.7488/ds/1994\n",
    "\n",
    "mic2:\n",
    "    Audio recorded using a small diaphragm condenser microphone with\n",
    "    very wide bandwidth (Sennheiser MKH 800).\n",
    "    Two speakers, p280 and p315 had technical issues of the audio\n",
    "    recordings using MKH 800."
   ]
  },
  {
   "cell_type": "code",
   "execution_count": 3,
   "metadata": {},
   "outputs": [],
   "source": [
    "# vctk_old formatter from Coqui\n",
    "def vctk_old(root_path, meta_files=None, wavs_path=\"wav48\", ignored_speakers=None):\n",
    "    \"\"\"homepages.inf.ed.ac.uk/jyamagis/release/VCTK-Corpus.tar.gz\"\"\"\n",
    "    items = []\n",
    "    meta_files = glob(f\"{os.path.join(root_path,'txt')}/**/*.txt\", recursive=True)\n",
    "    for meta_file in meta_files:\n",
    "        _, speaker_id, txt_file = os.path.relpath(meta_file, root_path).split(os.sep)\n",
    "        file_id = txt_file.split(\".\")[0]\n",
    "        # ignore speakers\n",
    "        if isinstance(ignored_speakers, list):\n",
    "            if speaker_id in ignored_speakers:\n",
    "                continue\n",
    "        with open(meta_file, \"r\", encoding=\"utf-8\") as file_text:\n",
    "            text = file_text.readlines()[0]\n",
    "        wav_file = os.path.join(root_path, wavs_path, speaker_id, file_id + \".wav\")\n",
    "        items.append(\n",
    "            {\"text\": text, \"audio_file\": wav_file, \"speaker_name\": \"VCTK_old_\" + speaker_id, \"root_path\": root_path}\n",
    "        )\n",
    "    return items"
   ]
  },
  {
   "cell_type": "code",
   "execution_count": 6,
   "metadata": {},
   "outputs": [],
   "source": [
    "root_path=\"/media/arif/New Volume/Etc/data/VCTK/archive/VCTK-Corpus/VCTK-Corpus\""
   ]
  },
  {
   "cell_type": "code",
   "execution_count": 7,
   "metadata": {
    "scrolled": true
   },
   "outputs": [],
   "source": [
    "items = vctk_old(root_path)"
   ]
  },
  {
   "cell_type": "code",
   "execution_count": 8,
   "metadata": {},
   "outputs": [
    {
     "name": "stdout",
     "output_type": "stream",
     "text": [
      "{'text': 'Please call Stella.\\n', 'audio_file': '/media/arif/New Volume/Etc/data/VCTK/archive/VCTK-Corpus/VCTK-Corpus/wav48/p225/p225_001.wav', 'speaker_name': 'VCTK_old_p225', 'root_path': '/media/arif/New Volume/Etc/data/VCTK/archive/VCTK-Corpus/VCTK-Corpus'}\n",
      "{'text': 'Ask her to bring these things with her from the store.\\n', 'audio_file': '/media/arif/New Volume/Etc/data/VCTK/archive/VCTK-Corpus/VCTK-Corpus/wav48/p225/p225_002.wav', 'speaker_name': 'VCTK_old_p225', 'root_path': '/media/arif/New Volume/Etc/data/VCTK/archive/VCTK-Corpus/VCTK-Corpus'}\n",
      "{'text': 'Six spoons of fresh snow peas, five thick slabs of blue cheese, and maybe a snack for her brother Bob.\\n', 'audio_file': '/media/arif/New Volume/Etc/data/VCTK/archive/VCTK-Corpus/VCTK-Corpus/wav48/p225/p225_003.wav', 'speaker_name': 'VCTK_old_p225', 'root_path': '/media/arif/New Volume/Etc/data/VCTK/archive/VCTK-Corpus/VCTK-Corpus'}\n",
      "{'text': 'We also need a small plastic snake and a big toy frog for the kids.\\n', 'audio_file': '/media/arif/New Volume/Etc/data/VCTK/archive/VCTK-Corpus/VCTK-Corpus/wav48/p225/p225_004.wav', 'speaker_name': 'VCTK_old_p225', 'root_path': '/media/arif/New Volume/Etc/data/VCTK/archive/VCTK-Corpus/VCTK-Corpus'}\n",
      "{'text': 'She can scoop these things into three red bags, and we will go meet her Wednesday at the train station.\\n', 'audio_file': '/media/arif/New Volume/Etc/data/VCTK/archive/VCTK-Corpus/VCTK-Corpus/wav48/p225/p225_005.wav', 'speaker_name': 'VCTK_old_p225', 'root_path': '/media/arif/New Volume/Etc/data/VCTK/archive/VCTK-Corpus/VCTK-Corpus'}\n"
     ]
    }
   ],
   "source": [
    "counter = 0\n",
    "for item in items:\n",
    "    print(item)\n",
    "    counter += 1\n",
    "    if counter == 5: break"
   ]
  },
  {
   "cell_type": "code",
   "execution_count": null,
   "metadata": {},
   "outputs": [],
   "source": []
  },
  {
   "cell_type": "code",
   "execution_count": 3,
   "metadata": {},
   "outputs": [
    {
     "name": "stdout",
     "output_type": "stream",
     "text": [
      "Maximum words in a sentence: 39\n",
      "Minimum words in a sentence: 1\n",
      "Average words per sentence:  17.01\n"
     ]
    }
   ],
   "source": [
    "### X \n",
    "word_freq = {}\n",
    "max_words = 0\n",
    "min_words = 500\n",
    "total_words = 0\n",
    "\n",
    "csvfile = '/media/arif/Resource/Etc/data/LJSpeech-1.1/metadata.csv' # lab\n",
    "csvfile = '/mnt/resource/Etc/data/LJSpeech-1.1/metadata.csv'        # home\n",
    "with open(csvfile) as f:\n",
    "    for i, line in enumerate(f):\n",
    "        text = line.split('|')[2].strip()\n",
    "        text = text.replace('.', ' ').replace(',', ' ').replace(';', ' ').replace('?', ' ').replace('!', ' ').replace('\"', ' ')\n",
    "\n",
    "        n = len(text.split())\n",
    "        if n in word_freq: \n",
    "            word_freq[n] += 1\n",
    "        else:\n",
    "            word_freq[n] = 1\n",
    "        max_words = max(max_words, n)\n",
    "        min_words = min(min_words, n)\n",
    "        total_words += n\n",
    "\n",
    "        #if i == 50: break\n",
    "print(f'Maximum words in a sentence: {max_words}')\n",
    "print(f'Minimum words in a sentence: {min_words}')\n",
    "print(f'Average words per sentence: {total_words / (i+1): .2f}')"
   ]
  },
  {
   "cell_type": "code",
   "execution_count": 5,
   "metadata": {},
   "outputs": [
    {
     "data": {
      "text/plain": [
       "Text(0, 0.5, 'No. of samples')"
      ]
     },
     "execution_count": 5,
     "metadata": {},
     "output_type": "execute_result"
    },
    {
     "data": {
      "image/png": "[encoded data removed]",
      "text/plain": [
       "<Figure size 432x288 with 1 Axes>"
      ]
     },
     "metadata": {
      "needs_background": "light"
     },
     "output_type": "display_data"
    }
   ],
   "source": [
    "### X\n",
    "plt.bar(word_freq.keys(), word_freq.values())\n",
    "plt.xlabel('No. of words in a sentence')\n",
    "plt.ylabel('No. of samples')"
   ]
  },
  {
   "cell_type": "markdown",
   "metadata": {},
   "source": [
    "## Duration Calculation \n",
    "Calculating duration of original `vctk_old` \n",
    "\n",
    "**Summary:**\n",
    "```\n",
    "Total duration: 44 hours 2.36 minutes\n",
    "Maximum duration: 19.28 seconds\n",
    "Minimum duration: 0.60 seconds\n",
    "Average duration: 3.58 seconds\n",
    "```"
   ]
  },
  {
   "cell_type": "code",
   "execution_count": 41,
   "metadata": {},
   "outputs": [
    {
     "name": "stdout",
     "output_type": "stream",
     "text": [
      "Total duration: 43 hours 52.78 minutes\n",
      "Maximum duration: 19.28 seconds\n",
      "Minimum duration: 0.60 seconds\n",
      "Average duration: 3.58 seconds\n"
     ]
    }
   ],
   "source": [
    "wavdir = \"/media/arif/New Volume/Etc/data/VCTK/archive/VCTK-Corpus/VCTK-Corpus/wav48\"\n",
    "\n",
    "wav_files = glob(f\"{wavdir}/**/*.wav\", recursive=True)\n",
    "\n",
    "wav_duration = {}\n",
    "max_duration = 0\n",
    "min_duration = 1000\n",
    "total_duration = 0\n",
    "\n",
    "for i, file in enumerate(wav_files):\n",
    "    audio = AudioSegment.from_wav(file)\n",
    "\n",
    "    duration = audio.duration_seconds\n",
    "\n",
    "    max_duration = max(max_duration, duration)\n",
    "    min_duration = min(min_duration, duration)\n",
    "    total_duration += duration\n",
    "\n",
    "    duration = int(duration)\n",
    "    if duration in wav_duration:\n",
    "        wav_duration[duration] += 1\n",
    "    else:\n",
    "        wav_duration[duration] = 1\n",
    "\n",
    "    # if i == 5: break\n",
    "\n",
    "avg_duration = total_duration / len(wav_files)\n",
    "total_duration /= 60 # sec. to min.\n",
    "duration_hours = total_duration // 60\n",
    "duration_mins = total_duration - (duration_hours * 60)\n",
    "\n",
    "print(f\"Total duration: {int(duration_hours)} hours {duration_mins:.2f} minutes\")\n",
    "print(f'Maximum duration: {max_duration:.2f} seconds')\n",
    "print(f'Minimum duration: {min_duration:.2f} seconds')\n",
    "print(f'Average duration: {avg_duration:.2f} seconds')"
   ]
  },
  {
   "cell_type": "markdown",
   "metadata": {},
   "source": [
    "## VCTK Sanity Check\n",
    "\n"
   ]
  },
  {
   "cell_type": "code",
   "execution_count": 5,
   "metadata": {},
   "outputs": [],
   "source": [
    "root_path = \"/media/arif/New Volume/Etc/data/VCTK/archive/VCTK-Corpus/VCTK-Corpus\"\n",
    "text_path = \"/media/arif/New Volume/Etc/data/VCTK/archive/VCTK-Corpus/VCTK-Corpus/txt\"\n",
    "wav_path = \"/media/arif/New Volume/Etc/data/VCTK/archive/VCTK-Corpus/VCTK-Corpus/wav48\""
   ]
  },
  {
   "cell_type": "markdown",
   "metadata": {},
   "source": [
    "### Obtain the List of Speakers"
   ]
  },
  {
   "cell_type": "code",
   "execution_count": 6,
   "metadata": {},
   "outputs": [],
   "source": [
    "speakers = sorted(os.listdir(os.path.join(root_path, 'txt')))"
   ]
  },
  {
   "cell_type": "code",
   "execution_count": 7,
   "metadata": {},
   "outputs": [
    {
     "data": {
      "text/plain": [
       "108"
      ]
     },
     "execution_count": 7,
     "metadata": {},
     "output_type": "execute_result"
    }
   ],
   "source": [
    "len(speakers)"
   ]
  },
  {
   "cell_type": "code",
   "execution_count": 10,
   "metadata": {
    "scrolled": true
   },
   "outputs": [
    {
     "name": "stdout",
     "output_type": "stream",
     "text": [
      "Speaker: p225 \t Text files:231 \t Wav files: 231\n",
      "Speaker: p226 \t Text files:356 \t Wav files: 356\n",
      "Speaker: p227 \t Text files:389 \t Wav files: 389\n",
      "Speaker: p228 \t Text files:366 \t Wav files: 366\n",
      "Speaker: p229 \t Text files:379 \t Wav files: 379\n",
      "Speaker: p230 \t Text files:397 \t Wav files: 397\n",
      "Speaker: p231 \t Text files:456 \t Wav files: 456\n",
      "Speaker: p232 \t Text files:412 \t Wav files: 412\n",
      "Speaker: p233 \t Text files:372 \t Wav files: 372\n",
      "Speaker: p234 \t Text files:357 \t Wav files: 357\n",
      "Speaker: p236 \t Text files:492 \t Wav files: 492\n",
      "Speaker: p237 \t Text files:339 \t Wav files: 339\n",
      "Speaker: p238 \t Text files:454 \t Wav files: 454\n",
      "Speaker: p239 \t Text files:503 \t Wav files: 503\n",
      "Speaker: p240 \t Text files:377 \t Wav files: 377\n",
      "Speaker: p241 \t Text files:353 \t Wav files: 353\n",
      "Speaker: p243 \t Text files:393 \t Wav files: 393\n",
      "Speaker: p244 \t Text files:420 \t Wav files: 420\n",
      "Speaker: p245 \t Text files:354 \t Wav files: 354\n",
      "Speaker: p246 \t Text files:358 \t Wav files: 358\n",
      "Speaker: p247 \t Text files:475 \t Wav files: 475\n",
      "Speaker: p248 \t Text files:376 \t Wav files: 376\n",
      "Speaker: p249 \t Text files:335 \t Wav files: 335\n",
      "Speaker: p250 \t Text files:481 \t Wav files: 481\n",
      "Speaker: p251 \t Text files:364 \t Wav files: 364\n",
      "Speaker: p252 \t Text files:395 \t Wav files: 395\n",
      "Speaker: p253 \t Text files:375 \t Wav files: 375\n",
      "Speaker: p254 \t Text files:397 \t Wav files: 397\n",
      "Speaker: p255 \t Text files:379 \t Wav files: 379\n",
      "Speaker: p256 \t Text files:319 \t Wav files: 319\n",
      "Speaker: p257 \t Text files:434 \t Wav files: 434\n",
      "Speaker: p258 \t Text files:414 \t Wav files: 414\n",
      "Speaker: p259 \t Text files:481 \t Wav files: 481\n",
      "Speaker: p260 \t Text files:356 \t Wav files: 356\n",
      "Speaker: p261 \t Text files:474 \t Wav files: 474\n",
      "Speaker: p262 \t Text files:394 \t Wav files: 394\n",
      "Speaker: p263 \t Text files:471 \t Wav files: 471\n",
      "Speaker: p264 \t Text files:483 \t Wav files: 483\n",
      "Speaker: p265 \t Text files:348 \t Wav files: 348\n",
      "Speaker: p266 \t Text files:422 \t Wav files: 422\n",
      "Speaker: p267 \t Text files:417 \t Wav files: 417\n",
      "Speaker: p268 \t Text files:406 \t Wav files: 406\n",
      "Speaker: p269 \t Text files:396 \t Wav files: 396\n",
      "Speaker: p270 \t Text files:462 \t Wav files: 462\n",
      "Speaker: p271 \t Text files:454 \t Wav files: 454\n",
      "Speaker: p272 \t Text files:411 \t Wav files: 411\n",
      "Speaker: p273 \t Text files:433 \t Wav files: 433\n",
      "Speaker: p274 \t Text files:466 \t Wav files: 466\n",
      "Speaker: p275 \t Text files:416 \t Wav files: 416\n",
      "Speaker: p276 \t Text files:462 \t Wav files: 462\n",
      "Speaker: p277 \t Text files:459 \t Wav files: 459\n",
      "Speaker: p278 \t Text files:409 \t Wav files: 409\n",
      "Speaker: p279 \t Text files:405 \t Wav files: 405\n",
      "Speaker: p280 \t Text files:410 \t Wav files: 410\n",
      "Speaker: p281 \t Text files:459 \t Wav files: 459\n",
      "Speaker: p282 \t Text files:368 \t Wav files: 368\n",
      "Speaker: p283 \t Text files:469 \t Wav files: 469\n",
      "Speaker: p284 \t Text files:425 \t Wav files: 425\n",
      "Speaker: p285 \t Text files:403 \t Wav files: 403\n",
      "Speaker: p286 \t Text files:468 \t Wav files: 468\n",
      "Speaker: p287 \t Text files:424 \t Wav files: 424\n",
      "Speaker: p288 \t Text files:412 \t Wav files: 412\n",
      "Speaker: p292 \t Text files:411 \t Wav files: 411\n",
      "Speaker: p293 \t Text files:396 \t Wav files: 396\n",
      "Speaker: p294 \t Text files:423 \t Wav files: 423\n",
      "Speaker: p295 \t Text files:417 \t Wav files: 417\n",
      "Speaker: p297 \t Text files:417 \t Wav files: 417\n",
      "Speaker: p298 \t Text files:405 \t Wav files: 405\n",
      "Speaker: p299 \t Text files:405 \t Wav files: 405\n",
      "Speaker: p300 \t Text files:399 \t Wav files: 399\n",
      "Speaker: p301 \t Text files:411 \t Wav files: 411\n",
      "Speaker: p302 \t Text files:311 \t Wav files: 311\n",
      "Speaker: p303 \t Text files:352 \t Wav files: 352\n",
      "Speaker: p304 \t Text files:423 \t Wav files: 423\n",
      "Speaker: p305 \t Text files:422 \t Wav files: 422\n",
      "Speaker: p306 \t Text files:351 \t Wav files: 351\n",
      "Speaker: p307 \t Text files:420 \t Wav files: 420\n",
      "Speaker: p308 \t Text files:423 \t Wav files: 423\n",
      "Speaker: p310 \t Text files:423 \t Wav files: 423\n",
      "Speaker: p311 \t Text files:423 \t Wav files: 423\n",
      "Speaker: p312 \t Text files:417 \t Wav files: 417\n",
      "Speaker: p313 \t Text files:421 \t Wav files: 421\n",
      "Speaker: p314 \t Text files:423 \t Wav files: 423\n",
      "Speaker: p316 \t Text files:421 \t Wav files: 421\n",
      "Speaker: p317 \t Text files:423 \t Wav files: 423\n",
      "Speaker: p318 \t Text files:422 \t Wav files: 422\n",
      "Speaker: p323 \t Text files:424 \t Wav files: 424\n",
      "Speaker: p326 \t Text files:399 \t Wav files: 399\n",
      "Speaker: p329 \t Text files:424 \t Wav files: 424\n",
      "Speaker: p330 \t Text files:423 \t Wav files: 423\n",
      "Speaker: p333 \t Text files:421 \t Wav files: 421\n",
      "Speaker: p334 \t Text files:423 \t Wav files: 423\n",
      "Speaker: p335 \t Text files:422 \t Wav files: 422\n",
      "Speaker: p336 \t Text files:418 \t Wav files: 418\n",
      "Speaker: p339 \t Text files:423 \t Wav files: 423\n",
      "Speaker: p340 \t Text files:423 \t Wav files: 423\n",
      "Speaker: p341 \t Text files:409 \t Wav files: 409\n",
      "Speaker: p343 \t Text files:388 \t Wav files: 388\n",
      "Speaker: p345 \t Text files:397 \t Wav files: 397\n",
      "Speaker: p347 \t Text files:423 \t Wav files: 423\n",
      "Speaker: p351 \t Text files:423 \t Wav files: 423\n",
      "Speaker: p360 \t Text files:424 \t Wav files: 424\n",
      "Speaker: p361 \t Text files:423 \t Wav files: 423\n",
      "Speaker: p362 \t Text files:423 \t Wav files: 423\n",
      "Speaker: p363 \t Text files:419 \t Wav files: 419\n",
      "Speaker: p364 \t Text files:301 \t Wav files: 301\n",
      "Speaker: p374 \t Text files:424 \t Wav files: 424\n",
      "Speaker: p376 \t Text files:292 \t Wav files: 292\n"
     ]
    }
   ],
   "source": [
    "for speaker in speakers:\n",
    "    # print(speaker)\n",
    "    text_dir = os.path.join(text_path, speaker)\n",
    "    wav_dir = os.path.join(wav_path, speaker)\n",
    "\n",
    "    nTexts = len(os.listdir(text_dir))\n",
    "    nWavs = len(os.listdir(wav_dir))\n",
    "    assert(nTexts == nWavs)\n",
    "    \n",
    "    print(f'Speaker: {speaker} \\t Text files:{nTexts} \\t Wav files: {nWavs}')\n",
    "    # if nTexts != nWavs:\n",
    "    #     print(f\"{set(max(text_dir, wav_dir, key=len))} - {set(min(text_dir, wav_dir, key=len))}\")\n",
    "\n",
    "    # Analyze/process each sample\n",
    "    for sample in os.listdir(wav_dir): \n",
    "            \n",
    "        # Text analysis of speaker?\n",
    "    \n",
    "    \n",
    "        # Speech Analysis of `speaeker'\n",
    "        wav_file = os.path.join(wav_dir, sample)\n",
    "        audio = AudioSegment.from_file(wav_file) \n",
    "        # print(audio.frame_rate) \n",
    "\n",
    "        # print(\"Asserting sample rate (should be 48000)\")\n",
    "        assert(audio.frame_rate == 48000)\n",
    "\n",
    "        # asserting no. of channels \n",
    "        assert(audio.channels == 1)         \n",
    "    "
   ]
  },
  {
   "cell_type": "markdown",
   "metadata": {},
   "source": [
    "# Creating VCTK_old_22.05k Dataset "
   ]
  },
  {
   "cell_type": "code",
   "execution_count": 5,
   "metadata": {},
   "outputs": [],
   "source": [
    "src_dir = \"/media/arif/New Volume/Etc/data/VCTK/VCTK_old_48k/VCTK-Corpus/VCTK-Corpus\"\n",
    "dest_dir = \"/media/arif/New Volume/Etc/data/VCTK/VCTK_old_22.05k\""
   ]
  },
  {
   "cell_type": "code",
   "execution_count": 16,
   "metadata": {},
   "outputs": [
    {
     "data": {
      "text/plain": [
       "'/media/arif/New Volume/Etc/data/VCTK/VCTK_old_22.05k/txt'"
      ]
     },
     "execution_count": 16,
     "metadata": {},
     "output_type": "execute_result"
    }
   ],
   "source": [
    "src_txt_dir = os.path.join(src_dir, \"txt\")  \n",
    "dest_txt_dir = os.path.join(dest_dir, \"txt\")\n",
    "shutil.copytree(src_txt_dir, dest_txt_dir)  "
   ]
  },
  {
   "cell_type": "code",
   "execution_count": 6,
   "metadata": {},
   "outputs": [],
   "source": [
    "src_wav_dir = \"/media/arif/New Volume/Etc/data/VCTK/VCTK_old_48k/VCTK-Corpus/VCTK-Corpus/wav48\"\n",
    "dest_wav_dir = os.path.join(dest_dir, \"wavs\")"
   ]
  },
  {
   "cell_type": "code",
   "execution_count": 21,
   "metadata": {},
   "outputs": [],
   "source": [
    "counter = 0 \n",
    "for dirpath, dnames, fnames in os.walk(src_wav_dir):\n",
    "    for fname in fnames:  \n",
    "        audio = AudioSegment.from_file(os.path.join(dirpath, fname))\n",
    "\n",
    "        audio = audio.set_frame_rate(22050)\n",
    "\n",
    "        # file_handle = audio.export(os.path.join(dest_wav_dir, dname) + \n",
    "        folder = os.path.basename(os.path.normpath(dirpath))\n",
    "        folder_path = os.path.join(dest_wav_dir, folder)\n",
    "        # print(os.path.join(folder_path, fname))    \n",
    "\n",
    "        if not os.path.exists(folder_path): \n",
    "            os.makedirs(folder_path) \n",
    "        file_handle = audio.export(os.path.join(folder_path, fname), format=\"wav\")\n",
    "        \n",
    "        counter += 1 \n",
    "        # if counter == 5: break \n",
    "    # if counter == 5: break  \n",
    "# if counter == 5: break  "
   ]
  },
  {
   "cell_type": "markdown",
   "metadata": {},
   "source": [
    "## VCTK_old_22.05k Sanity Check "
   ]
  },
  {
   "cell_type": "code",
   "execution_count": 22,
   "metadata": {},
   "outputs": [],
   "source": [
    "root_path = \"/media/arif/New Volume/Etc/data/VCTK/VCTK_old_22.05k\"\n",
    "text_path = \"/media/arif/New Volume/Etc/data/VCTK/VCTK_old_22.05k/txt\"\n",
    "wav_path = \"/media/arif/New Volume/Etc/data/VCTK/VCTK_old_22.05k/wavs\"\n",
    "speakers = sorted(os.listdir(os.path.join(root_path, 'txt')))"
   ]
  },
  {
   "cell_type": "code",
   "execution_count": 23,
   "metadata": {},
   "outputs": [
    {
     "data": {
      "text/plain": [
       "108"
      ]
     },
     "execution_count": 23,
     "metadata": {},
     "output_type": "execute_result"
    }
   ],
   "source": [
    "len(speakers)"
   ]
  },
  {
   "cell_type": "code",
   "execution_count": 24,
   "metadata": {
    "scrolled": true
   },
   "outputs": [
    {
     "name": "stdout",
     "output_type": "stream",
     "text": [
      "Speaker: p225 \t Text files:231 \t Wav files: 231\n",
      "Speaker: p226 \t Text files:356 \t Wav files: 356\n",
      "Speaker: p227 \t Text files:389 \t Wav files: 389\n",
      "Speaker: p228 \t Text files:366 \t Wav files: 366\n",
      "Speaker: p229 \t Text files:379 \t Wav files: 379\n",
      "Speaker: p230 \t Text files:397 \t Wav files: 397\n",
      "Speaker: p231 \t Text files:456 \t Wav files: 456\n",
      "Speaker: p232 \t Text files:412 \t Wav files: 412\n",
      "Speaker: p233 \t Text files:372 \t Wav files: 372\n",
      "Speaker: p234 \t Text files:357 \t Wav files: 357\n",
      "Speaker: p236 \t Text files:492 \t Wav files: 492\n",
      "Speaker: p237 \t Text files:339 \t Wav files: 339\n",
      "Speaker: p238 \t Text files:454 \t Wav files: 454\n",
      "Speaker: p239 \t Text files:503 \t Wav files: 503\n",
      "Speaker: p240 \t Text files:377 \t Wav files: 377\n",
      "Speaker: p241 \t Text files:353 \t Wav files: 353\n",
      "Speaker: p243 \t Text files:393 \t Wav files: 393\n",
      "Speaker: p244 \t Text files:420 \t Wav files: 420\n",
      "Speaker: p245 \t Text files:354 \t Wav files: 354\n",
      "Speaker: p246 \t Text files:358 \t Wav files: 358\n",
      "Speaker: p247 \t Text files:475 \t Wav files: 475\n",
      "Speaker: p248 \t Text files:376 \t Wav files: 376\n",
      "Speaker: p249 \t Text files:335 \t Wav files: 335\n",
      "Speaker: p250 \t Text files:481 \t Wav files: 481\n",
      "Speaker: p251 \t Text files:364 \t Wav files: 364\n",
      "Speaker: p252 \t Text files:395 \t Wav files: 395\n",
      "Speaker: p253 \t Text files:375 \t Wav files: 375\n",
      "Speaker: p254 \t Text files:397 \t Wav files: 397\n",
      "Speaker: p255 \t Text files:379 \t Wav files: 379\n",
      "Speaker: p256 \t Text files:319 \t Wav files: 319\n",
      "Speaker: p257 \t Text files:434 \t Wav files: 434\n",
      "Speaker: p258 \t Text files:414 \t Wav files: 414\n",
      "Speaker: p259 \t Text files:481 \t Wav files: 481\n",
      "Speaker: p260 \t Text files:356 \t Wav files: 356\n",
      "Speaker: p261 \t Text files:474 \t Wav files: 474\n",
      "Speaker: p262 \t Text files:394 \t Wav files: 394\n",
      "Speaker: p263 \t Text files:471 \t Wav files: 471\n",
      "Speaker: p264 \t Text files:483 \t Wav files: 483\n",
      "Speaker: p265 \t Text files:348 \t Wav files: 348\n",
      "Speaker: p266 \t Text files:422 \t Wav files: 422\n",
      "Speaker: p267 \t Text files:417 \t Wav files: 417\n",
      "Speaker: p268 \t Text files:406 \t Wav files: 406\n",
      "Speaker: p269 \t Text files:396 \t Wav files: 396\n",
      "Speaker: p270 \t Text files:462 \t Wav files: 462\n",
      "Speaker: p271 \t Text files:454 \t Wav files: 454\n",
      "Speaker: p272 \t Text files:411 \t Wav files: 411\n",
      "Speaker: p273 \t Text files:433 \t Wav files: 433\n",
      "Speaker: p274 \t Text files:466 \t Wav files: 466\n",
      "Speaker: p275 \t Text files:416 \t Wav files: 416\n",
      "Speaker: p276 \t Text files:462 \t Wav files: 462\n",
      "Speaker: p277 \t Text files:459 \t Wav files: 459\n",
      "Speaker: p278 \t Text files:409 \t Wav files: 409\n",
      "Speaker: p279 \t Text files:405 \t Wav files: 405\n",
      "Speaker: p280 \t Text files:410 \t Wav files: 410\n",
      "Speaker: p281 \t Text files:459 \t Wav files: 459\n",
      "Speaker: p282 \t Text files:368 \t Wav files: 368\n",
      "Speaker: p283 \t Text files:469 \t Wav files: 469\n",
      "Speaker: p284 \t Text files:425 \t Wav files: 425\n",
      "Speaker: p285 \t Text files:403 \t Wav files: 403\n",
      "Speaker: p286 \t Text files:468 \t Wav files: 468\n",
      "Speaker: p287 \t Text files:424 \t Wav files: 424\n",
      "Speaker: p288 \t Text files:412 \t Wav files: 412\n",
      "Speaker: p292 \t Text files:411 \t Wav files: 411\n",
      "Speaker: p293 \t Text files:396 \t Wav files: 396\n",
      "Speaker: p294 \t Text files:423 \t Wav files: 423\n",
      "Speaker: p295 \t Text files:417 \t Wav files: 417\n",
      "Speaker: p297 \t Text files:417 \t Wav files: 417\n",
      "Speaker: p298 \t Text files:405 \t Wav files: 405\n",
      "Speaker: p299 \t Text files:405 \t Wav files: 405\n",
      "Speaker: p300 \t Text files:399 \t Wav files: 399\n",
      "Speaker: p301 \t Text files:411 \t Wav files: 411\n",
      "Speaker: p302 \t Text files:311 \t Wav files: 311\n",
      "Speaker: p303 \t Text files:352 \t Wav files: 352\n",
      "Speaker: p304 \t Text files:423 \t Wav files: 423\n",
      "Speaker: p305 \t Text files:422 \t Wav files: 422\n",
      "Speaker: p306 \t Text files:351 \t Wav files: 351\n",
      "Speaker: p307 \t Text files:420 \t Wav files: 420\n",
      "Speaker: p308 \t Text files:423 \t Wav files: 423\n",
      "Speaker: p310 \t Text files:423 \t Wav files: 423\n",
      "Speaker: p311 \t Text files:423 \t Wav files: 423\n",
      "Speaker: p312 \t Text files:417 \t Wav files: 417\n",
      "Speaker: p313 \t Text files:421 \t Wav files: 421\n",
      "Speaker: p314 \t Text files:423 \t Wav files: 423\n",
      "Speaker: p316 \t Text files:421 \t Wav files: 421\n",
      "Speaker: p317 \t Text files:423 \t Wav files: 423\n",
      "Speaker: p318 \t Text files:422 \t Wav files: 422\n",
      "Speaker: p323 \t Text files:424 \t Wav files: 424\n",
      "Speaker: p326 \t Text files:399 \t Wav files: 399\n",
      "Speaker: p329 \t Text files:424 \t Wav files: 424\n",
      "Speaker: p330 \t Text files:423 \t Wav files: 423\n",
      "Speaker: p333 \t Text files:421 \t Wav files: 421\n",
      "Speaker: p334 \t Text files:423 \t Wav files: 423\n",
      "Speaker: p335 \t Text files:422 \t Wav files: 422\n",
      "Speaker: p336 \t Text files:418 \t Wav files: 418\n",
      "Speaker: p339 \t Text files:423 \t Wav files: 423\n",
      "Speaker: p340 \t Text files:423 \t Wav files: 423\n",
      "Speaker: p341 \t Text files:409 \t Wav files: 409\n",
      "Speaker: p343 \t Text files:388 \t Wav files: 388\n",
      "Speaker: p345 \t Text files:397 \t Wav files: 397\n",
      "Speaker: p347 \t Text files:423 \t Wav files: 423\n",
      "Speaker: p351 \t Text files:423 \t Wav files: 423\n",
      "Speaker: p360 \t Text files:424 \t Wav files: 424\n",
      "Speaker: p361 \t Text files:423 \t Wav files: 423\n",
      "Speaker: p362 \t Text files:423 \t Wav files: 423\n",
      "Speaker: p363 \t Text files:419 \t Wav files: 419\n",
      "Speaker: p364 \t Text files:301 \t Wav files: 301\n",
      "Speaker: p374 \t Text files:424 \t Wav files: 424\n",
      "Speaker: p376 \t Text files:292 \t Wav files: 292\n"
     ]
    }
   ],
   "source": [
    "for speaker in speakers:\n",
    "    # print(speaker)\n",
    "    text_dir = os.path.join(text_path, speaker)\n",
    "    wav_dir = os.path.join(wav_path, speaker)\n",
    "\n",
    "    nTexts = len(os.listdir(text_dir))\n",
    "    nWavs = len(os.listdir(wav_dir))\n",
    "    assert(nTexts == nWavs)\n",
    "    \n",
    "    print(f'Speaker: {speaker} \\t Text files:{nTexts} \\t Wav files: {nWavs}')\n",
    "    # if nTexts != nWavs:\n",
    "    #     print(f\"{set(max(text_dir, wav_dir, key=len))} - {set(min(text_dir, wav_dir, key=len))}\")\n",
    "\n",
    "    # Analyze/process each sample\n",
    "    for sample in os.listdir(wav_dir): \n",
    "            \n",
    "        # Text analysis of speaker?\n",
    "    \n",
    "    \n",
    "        # Speech Analysis of `speaeker'\n",
    "        wav_file = os.path.join(wav_dir, sample)\n",
    "        audio = AudioSegment.from_file(wav_file) \n",
    "        # print(audio.frame_rate) \n",
    "\n",
    "        # print(\"Asserting sample rate (should be 22050)\")\n",
    "        assert(audio.frame_rate == 22050)\n",
    "\n",
    "        # asserting no. of channels \n",
    "        assert(audio.channels == 1)         \n",
    "    "
   ]
  },
  {
   "cell_type": "code",
   "execution_count": null,
   "metadata": {},
   "outputs": [],
   "source": []
  },
  {
   "cell_type": "code",
   "execution_count": null,
   "metadata": {},
   "outputs": [],
   "source": []
  },
  {
   "cell_type": "markdown",
   "metadata": {},
   "source": [
    "# Creating VCTK_old_mini_22.05k Dataset "
   ]
  },
  {
   "cell_type": "code",
   "execution_count": 29,
   "metadata": {},
   "outputs": [],
   "source": [
    "speakers = ['p225', 'p230', 'p233', 'p234', 'p236', 'p238', 'p248', 'p249', 'p250', 'p253', 'p226', 'p227', 'p232', 'p237', 'p241', 'p243', 'p245', 'p246', 'p247', 'p251'] \n",
    "speakers = sorted(speakers)"
   ]
  },
  {
   "cell_type": "code",
   "execution_count": 26,
   "metadata": {},
   "outputs": [],
   "source": [
    "src_dir = \"/media/arif/New Volume/Etc/data/VCTK/VCTK_old_22.05k\"\n",
    "dest_dir = \"/media/arif/New Volume/Etc/data/VCTK/VCTK_old_mini_22.05k\""
   ]
  },
  {
   "cell_type": "code",
   "execution_count": 27,
   "metadata": {},
   "outputs": [],
   "source": [
    "src_txt_dir = os.path.join(src_dir, \"txt\")  \n",
    "src_wav_dir = os.path.join(src_dir, \"wavs\")\n",
    "dest_txt_dir = os.path.join(dest_dir, \"txt\")\n",
    "dest_wav_dir = os.path.join(dest_dir, \"wavs\")"
   ]
  },
  {
   "cell_type": "code",
   "execution_count": 34,
   "metadata": {},
   "outputs": [],
   "source": [
    "counter = 0 \n",
    "for speaker in speakers: \n",
    "    # print(speaker)\n",
    "    shutil.copytree(os.path.join(src_txt_dir, speaker), os.path.join(dest_txt_dir, speaker))\n",
    "    shutil.copytree(os.path.join(src_wav_dir, speaker), os.path.join(dest_wav_dir, speaker))\n",
    "    \n",
    "    counter += 1 \n",
    "    # if counter == 5: break "
   ]
  },
  {
   "cell_type": "markdown",
   "metadata": {},
   "source": [
    "## VCTK_old_mini_22.05k Sanity Check"
   ]
  },
  {
   "cell_type": "code",
   "execution_count": 35,
   "metadata": {},
   "outputs": [],
   "source": [
    "root_path = \"/media/arif/New Volume/Etc/data/VCTK/VCTK_old_mini_22.05k\"\n",
    "text_path = \"/media/arif/New Volume/Etc/data/VCTK/VCTK_old_mini_22.05k/txt\"\n",
    "wav_path = \"/media/arif/New Volume/Etc/data/VCTK/VCTK_old_mini_22.05k/wavs\"\n",
    "speakers = sorted(os.listdir(os.path.join(root_path, 'txt')))"
   ]
  },
  {
   "cell_type": "code",
   "execution_count": 36,
   "metadata": {},
   "outputs": [
    {
     "data": {
      "text/plain": [
       "20"
      ]
     },
     "execution_count": 36,
     "metadata": {},
     "output_type": "execute_result"
    }
   ],
   "source": [
    "len(speakers)"
   ]
  },
  {
   "cell_type": "code",
   "execution_count": 37,
   "metadata": {},
   "outputs": [
    {
     "name": "stdout",
     "output_type": "stream",
     "text": [
      "Speaker: p225 \t Text files:231 \t Wav files: 231\n",
      "Speaker: p226 \t Text files:356 \t Wav files: 356\n",
      "Speaker: p227 \t Text files:389 \t Wav files: 389\n",
      "Speaker: p230 \t Text files:397 \t Wav files: 397\n",
      "Speaker: p232 \t Text files:412 \t Wav files: 412\n",
      "Speaker: p233 \t Text files:372 \t Wav files: 372\n",
      "Speaker: p234 \t Text files:357 \t Wav files: 357\n",
      "Speaker: p236 \t Text files:492 \t Wav files: 492\n",
      "Speaker: p237 \t Text files:339 \t Wav files: 339\n",
      "Speaker: p238 \t Text files:454 \t Wav files: 454\n",
      "Speaker: p241 \t Text files:353 \t Wav files: 353\n",
      "Speaker: p243 \t Text files:393 \t Wav files: 393\n",
      "Speaker: p245 \t Text files:354 \t Wav files: 354\n",
      "Speaker: p246 \t Text files:358 \t Wav files: 358\n",
      "Speaker: p247 \t Text files:475 \t Wav files: 475\n",
      "Speaker: p248 \t Text files:376 \t Wav files: 376\n",
      "Speaker: p249 \t Text files:335 \t Wav files: 335\n",
      "Speaker: p250 \t Text files:481 \t Wav files: 481\n",
      "Speaker: p251 \t Text files:364 \t Wav files: 364\n",
      "Speaker: p253 \t Text files:375 \t Wav files: 375\n"
     ]
    }
   ],
   "source": [
    "for speaker in speakers:\n",
    "    # print(speaker)\n",
    "    text_dir = os.path.join(text_path, speaker)\n",
    "    wav_dir = os.path.join(wav_path, speaker)\n",
    "\n",
    "    nTexts = len(os.listdir(text_dir))\n",
    "    nWavs = len(os.listdir(wav_dir))\n",
    "    assert(nTexts == nWavs)\n",
    "    \n",
    "    print(f'Speaker: {speaker} \\t Text files:{nTexts} \\t Wav files: {nWavs}')\n",
    "    # if nTexts != nWavs:\n",
    "    #     print(f\"{set(max(text_dir, wav_dir, key=len))} - {set(min(text_dir, wav_dir, key=len))}\")\n",
    "\n",
    "    # Analyze/process each sample\n",
    "    for sample in os.listdir(wav_dir): \n",
    "            \n",
    "        # Text analysis of speaker?\n",
    "    \n",
    "    \n",
    "        # Speech Analysis of `speaeker'\n",
    "        wav_file = os.path.join(wav_dir, sample)\n",
    "        audio = AudioSegment.from_file(wav_file) \n",
    "        # print(audio.frame_rate) \n",
    "\n",
    "        # print(\"Asserting sample rate (should be 22050)\")\n",
    "        assert(audio.frame_rate == 22050)\n",
    "\n",
    "        # asserting no. of channels \n",
    "        assert(audio.channels == 1)         \n",
    "    "
   ]
  },
  {
   "cell_type": "markdown",
   "metadata": {},
   "source": [
    "## Duration CalcuFloation \n",
    "Calculating duration of `VCTK_old_mini_22.05k` dataset. \n",
    "\n",
    "**Summary:**\n",
    "```\n",
    "Total duration: 7 hours 40.36 minutes\n",
    "Maximum duration: 16.00 seconds\n",
    "Minimum duration: 1.24 seconds\n",
    "Average duration: 3.60 seconds\n",
    "```"
   ]
  },
  {
   "cell_type": "code",
   "execution_count": 38,
   "metadata": {},
   "outputs": [
    {
     "name": "stdout",
     "output_type": "stream",
     "text": [
      "Total duration: 7 hours 40.36 minutes\n",
      "Maximum duration: 16.00 seconds\n",
      "Minimum duration: 1.24 seconds\n",
      "Average duration: 3.60 seconds\n"
     ]
    }
   ],
   "source": [
    "wavdir = \"/media/arif/New Volume/Etc/data/VCTK/VCTK_old_mini_22.05k/wavs\"\n",
    "\n",
    "wav_files = glob(f\"{wavdir}/**/*.wav\", recursive=True)\n",
    "\n",
    "wav_duration = {}\n",
    "max_duration = 0\n",
    "min_duration = 1000\n",
    "total_duration = 0\n",
    "\n",
    "for i, file in enumerate(wav_files):\n",
    "    audio = AudioSegment.from_wav(file)\n",
    "\n",
    "    duration = audio.duration_seconds\n",
    "\n",
    "    max_duration = max(max_duration, duration)\n",
    "    min_duration = min(min_duration, duration)\n",
    "    total_duration += duration\n",
    "\n",
    "    duration = int(duration)\n",
    "    if duration in wav_duration:\n",
    "        wav_duration[duration] += 1\n",
    "    else:\n",
    "        wav_duration[duration] = 1\n",
    "\n",
    "    # if i == 5: break\n",
    "\n",
    "avg_duration = total_duration / len(wav_files)\n",
    "total_duration /= 60 # sec. to min.\n",
    "duration_hours = total_duration // 60\n",
    "duration_mins = total_duration - (duration_hours * 60)\n",
    "\n",
    "print(f\"Total duration: {int(duration_hours)} hours {duration_mins:.2f} minutes\")\n",
    "print(f'Maximum duration: {max_duration:.2f} seconds')\n",
    "print(f'Minimum duration: {min_duration:.2f} seconds')\n",
    "print(f'Average duration: {avg_duration:.2f} seconds')"
   ]
  },
  {
   "cell_type": "code",
   "execution_count": null,
   "metadata": {},
   "outputs": [],
   "source": []
  }
 ],
 "metadata": {
  "interpreter": {
   "hash": "a41ce591415c5d74df4e007118beac18b4a2d894d119c29e4de87c00da99b116"
  },
  "kernelspec": {
   "display_name": "Python 3",
   "language": "python",
   "name": "python3"
  },
  "language_info": {
   "codemirror_mode": {
    "name": "ipython",
    "version": 3
   },
   "file_extension": ".py",
   "mimetype": "text/x-python",
   "name": "python",
   "nbconvert_exporter": "python",
   "pygments_lexer": "ipython3",
   "version": "3.9.17"
  },
  "latex_envs": {
   "LaTeX_envs_menu_present": true,
   "autoclose": false,
   "autocomplete": true,
   "bibliofile": "biblio.bib",
   "cite_by": "apalike",
   "current_citInitial": 1,
   "eqLabelWithNumbers": true,
   "eqNumInitial": 1,
   "hotkeys": {
    "equation": "Ctrl-E",
    "itemize": "Ctrl-I"
   },
   "labels_anchors": false,
   "latex_user_defs": false,
   "report_style_numbering": false,
   "user_envs_cfg": false
  },
  "toc": {
   "base_numbering": 1,
   "nav_menu": {},
   "number_sections": true,
   "sideBar": true,
   "skip_h1_title": false,
   "title_cell": "Table of Contents",
   "title_sidebar": "Contents",
   "toc_cell": false,
   "toc_position": {},
   "toc_section_display": true,
   "toc_window_display": false
  },
  "varInspector": {
   "cols": {
    "lenName": 16,
    "lenType": 16,
    "lenVar": 40
   },
   "kernels_config": {
    "python": {
     "delete_cmd_postfix": "",
     "delete_cmd_prefix": "del ",
     "library": "var_list.py",
     "varRefreshCmd": "print(var_dic_list())"
    },
    "r": {
     "delete_cmd_postfix": ") ",
     "delete_cmd_prefix": "rm(",
     "library": "var_list.r",
     "varRefreshCmd": "cat(var_dic_list()) "
    }
   },
   "types_to_exclude": [
    "module",
    "function",
    "builtin_function_or_method",
    "instance",
    "_Feature"
   ],
   "window_display": false
  }
 },
 "nbformat": 4,
 "nbformat_minor": 4
}
