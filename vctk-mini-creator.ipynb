{
 "cells": [
  {
   "cell_type": "code",
   "execution_count": 1,
   "metadata": {
    "ExecuteTime": {
     "end_time": "2023-07-11T17:55:00.685867Z",
     "start_time": "2023-07-11T17:55:00.560287Z"
    }
   },
   "outputs": [
    {
     "name": "stdout",
     "output_type": "stream",
     "text": [
      "Python 3.9.17\n"
     ]
    }
   ],
   "source": [
    "!python --version"
   ]
  },
  {
   "cell_type": "code",
   "execution_count": 2,
   "metadata": {
    "ExecuteTime": {
     "end_time": "2023-07-11T17:55:07.473590Z",
     "start_time": "2023-07-11T17:55:06.281902Z"
    }
   },
   "outputs": [
    {
     "name": "stdout",
     "output_type": "stream",
     "text": [
      "Requirement already satisfied: pydub in /home/arif/anaconda3/envs/coqui/lib/python3.7/site-packages (0.25.1)\n",
      "\u001b[33mWARNING: You are using pip version 22.0.4; however, version 23.1.2 is available.\n",
      "You should consider upgrading via the '/home/arif/anaconda3/envs/coqui/bin/python -m pip install --upgrade pip' command.\u001b[0m\u001b[33m\n",
      "\u001b[0m"
     ]
    }
   ],
   "source": [
    "!pip install pydub"
   ]
  },
  {
   "cell_type": "markdown",
   "metadata": {},
   "source": [
    "## Import Statements"
   ]
  },
  {
   "cell_type": "code",
   "execution_count": 10,
   "metadata": {
    "ExecuteTime": {
     "end_time": "2023-07-11T17:56:15.944554Z",
     "start_time": "2023-07-11T17:56:15.700817Z"
    }
   },
   "outputs": [],
   "source": [
    "%matplotlib inline\n",
    "from pydub import AudioSegment\n",
    "from pydub.playback import play\n",
    "import IPython.display as ipd\n",
    "import os\n",
    "import re\n",
    "import shutil\n",
    "import matplotlib.pyplot as plt\n",
    "from glob import glob\n",
    "from pathlib import Path"
   ]
  },
  {
   "cell_type": "markdown",
   "metadata": {},
   "source": [
    "# Analyzing VCTK Dataset\n",
    "\n",
    "Accoring to `Coqui TTS dataset formatter`, our version is `vctk_old`. \n",
    "\n",
    "URL:\n",
    "    homepages.inf.ed.ac.uk/jyamagis/release/VCTK-Corpus.tar.gz\n",
    "\n",
    "**New `vctk` corpus information:**\n",
    "\n",
    "VCTK dataset v0.92.\n",
    "\n",
    "URL:\n",
    "    https://datashare.ed.ac.uk/bitstream/handle/10283/3443/VCTK-Corpus-0.92.zip\n",
    "\n",
    "This dataset has 2 recordings per speaker that are annotated with ```mic1``` and ```mic2```.\n",
    "It is believed that (😄 ) ```mic1``` files are the same as the previous version of the dataset.\n",
    "\n",
    "mic1:\n",
    "    Audio recorded using an omni-directional microphone (DPA 4035).\n",
    "    Contains very low frequency noises.\n",
    "    This is the same audio released in previous versions of VCTK:\n",
    "    https://doi.org/10.7488/ds/1994\n",
    "\n",
    "mic2:\n",
    "    Audio recorded using a small diaphragm condenser microphone with\n",
    "    very wide bandwidth (Sennheiser MKH 800).\n",
    "    Two speakers, p280 and p315 had technical issues of the audio\n",
    "    recordings using MKH 800."
   ]
  },
  {
   "cell_type": "code",
   "execution_count": 6,
   "metadata": {},
   "outputs": [],
   "source": [
    "# vctk_old formatter from Coqui\n",
    "def vctk_old(root_path, meta_files=None, wavs_path=\"wav48\", ignored_speakers=None):\n",
    "    \"\"\"homepages.inf.ed.ac.uk/jyamagis/release/VCTK-Corpus.tar.gz\"\"\"\n",
    "    items = []\n",
    "    meta_files = glob(f\"{os.path.join(root_path,'txt')}/**/*.txt\", recursive=True)\n",
    "    for meta_file in meta_files:\n",
    "        _, speaker_id, txt_file = os.path.relpath(meta_file, root_path).split(os.sep)\n",
    "        file_id = txt_file.split(\".\")[0]\n",
    "        # ignore speakers\n",
    "        if isinstance(ignored_speakers, list):\n",
    "            if speaker_id in ignored_speakers:\n",
    "                continue\n",
    "        with open(meta_file, \"r\", encoding=\"utf-8\") as file_text:\n",
    "            text = file_text.readlines()[0]\n",
    "        wav_file = os.path.join(root_path, wavs_path, speaker_id, file_id + \".wav\")\n",
    "        items.append(\n",
    "            {\"text\": text, \"audio_file\": wav_file, \"speaker_name\": \"VCTK_old_\" + speaker_id, \"root_path\": root_path}\n",
    "        )\n",
    "    return items"
   ]
  },
  {
   "cell_type": "code",
   "execution_count": 7,
   "metadata": {},
   "outputs": [],
   "source": [
    "root_path=\"/media/arif/New Volume/Etc/data/VCTK/archive/VCTK-Corpus/VCTK-Corpus\""
   ]
  },
  {
   "cell_type": "code",
   "execution_count": 11,
   "metadata": {},
   "outputs": [],
   "source": [
    "items = vctk_old(root_path)"
   ]
  },
  {
   "cell_type": "code",
   "execution_count": 13,
   "metadata": {},
   "outputs": [
    {
     "name": "stdout",
     "output_type": "stream",
     "text": [
      "{'text': 'Please call Stella.\\n', 'audio_file': '/media/arif/New Volume/Etc/data/VCTK/archive/VCTK-Corpus/VCTK-Corpus/wav48/p225/p225_001.wav', 'speaker_name': 'VCTK_old_p225', 'root_path': '/media/arif/New Volume/Etc/data/VCTK/archive/VCTK-Corpus/VCTK-Corpus'}\n",
      "{'text': 'Ask her to bring these things with her from the store.\\n', 'audio_file': '/media/arif/New Volume/Etc/data/VCTK/archive/VCTK-Corpus/VCTK-Corpus/wav48/p225/p225_002.wav', 'speaker_name': 'VCTK_old_p225', 'root_path': '/media/arif/New Volume/Etc/data/VCTK/archive/VCTK-Corpus/VCTK-Corpus'}\n",
      "{'text': 'Six spoons of fresh snow peas, five thick slabs of blue cheese, and maybe a snack for her brother Bob.\\n', 'audio_file': '/media/arif/New Volume/Etc/data/VCTK/archive/VCTK-Corpus/VCTK-Corpus/wav48/p225/p225_003.wav', 'speaker_name': 'VCTK_old_p225', 'root_path': '/media/arif/New Volume/Etc/data/VCTK/archive/VCTK-Corpus/VCTK-Corpus'}\n",
      "{'text': 'We also need a small plastic snake and a big toy frog for the kids.\\n', 'audio_file': '/media/arif/New Volume/Etc/data/VCTK/archive/VCTK-Corpus/VCTK-Corpus/wav48/p225/p225_004.wav', 'speaker_name': 'VCTK_old_p225', 'root_path': '/media/arif/New Volume/Etc/data/VCTK/archive/VCTK-Corpus/VCTK-Corpus'}\n",
      "{'text': 'She can scoop these things into three red bags, and we will go meet her Wednesday at the train station.\\n', 'audio_file': '/media/arif/New Volume/Etc/data/VCTK/archive/VCTK-Corpus/VCTK-Corpus/wav48/p225/p225_005.wav', 'speaker_name': 'VCTK_old_p225', 'root_path': '/media/arif/New Volume/Etc/data/VCTK/archive/VCTK-Corpus/VCTK-Corpus'}\n"
     ]
    }
   ],
   "source": [
    "counter = 0\n",
    "for item in items:\n",
    "    print(item)\n",
    "    counter += 1\n",
    "    if counter == 5: break"
   ]
  },
  {
   "cell_type": "code",
   "execution_count": null,
   "metadata": {},
   "outputs": [],
   "source": []
  },
  {
   "cell_type": "code",
   "execution_count": 3,
   "metadata": {},
   "outputs": [
    {
     "name": "stdout",
     "output_type": "stream",
     "text": [
      "Maximum words in a sentence: 39\n",
      "Minimum words in a sentence: 1\n",
      "Average words per sentence:  17.01\n"
     ]
    }
   ],
   "source": [
    "### X \n",
    "word_freq = {}\n",
    "max_words = 0\n",
    "min_words = 500\n",
    "total_words = 0\n",
    "\n",
    "csvfile = '/media/arif/Resource/Etc/data/LJSpeech-1.1/metadata.csv' # lab\n",
    "csvfile = '/mnt/resource/Etc/data/LJSpeech-1.1/metadata.csv'        # home\n",
    "with open(csvfile) as f:\n",
    "    for i, line in enumerate(f):\n",
    "        text = line.split('|')[2].strip()\n",
    "        text = text.replace('.', ' ').replace(',', ' ').replace(';', ' ').replace('?', ' ').replace('!', ' ').replace('\"', ' ')\n",
    "\n",
    "        n = len(text.split())\n",
    "        if n in word_freq: \n",
    "            word_freq[n] += 1\n",
    "        else:\n",
    "            word_freq[n] = 1\n",
    "        max_words = max(max_words, n)\n",
    "        min_words = min(min_words, n)\n",
    "        total_words += n\n",
    "\n",
    "        #if i == 50: break\n",
    "print(f'Maximum words in a sentence: {max_words}')\n",
    "print(f'Minimum words in a sentence: {min_words}')\n",
    "print(f'Average words per sentence: {total_words / (i+1): .2f}')"
   ]
  },
  {
   "cell_type": "code",
   "execution_count": 5,
   "metadata": {},
   "outputs": [
    {
     "data": {
      "text/plain": [
       "Text(0, 0.5, 'No. of samples')"
      ]
     },
     "execution_count": 5,
     "metadata": {},
     "output_type": "execute_result"
    },
    {
     "data": {
      "image/png": "[encoded data removed]",
      "text/plain": [
       "<Figure size 432x288 with 1 Axes>"
      ]
     },
     "metadata": {
      "needs_background": "light"
     },
     "output_type": "display_data"
    }
   ],
   "source": [
    "### X\n",
    "plt.bar(word_freq.keys(), word_freq.values())\n",
    "plt.xlabel('No. of words in a sentence')\n",
    "plt.ylabel('No. of samples')"
   ]
  },
  {
   "cell_type": "markdown",
   "metadata": {},
   "source": [
    "## Duration Calculation \n",
    "Calculating duration of original `vctk_old` \n",
    "\n",
    "**Summary:**\n",
    "```\n",
    "Total duration: 44 hours 2.36 minutes\n",
    "Maximum duration: 19.28 seconds\n",
    "Minimum duration: 0.60 seconds\n",
    "Average duration: 3.58 seconds\n",
    "```"
   ]
  },
  {
   "cell_type": "code",
   "execution_count": 16,
   "metadata": {},
   "outputs": [
    {
     "name": "stdout",
     "output_type": "stream",
     "text": [
      "Total duration: 44 hours 2.36 minutes\n",
      "Maximum duration: 19.28 seconds\n",
      "Minimum duration: 0.60 seconds\n",
      "Average duration: 3.58 seconds\n"
     ]
    }
   ],
   "source": [
    "wavdir = \"/media/arif/New Volume/Etc/data/VCTK/archive/VCTK-Corpus/VCTK-Corpus/wav48\"\n",
    "\n",
    "wav_files = glob(f\"{wavdir}/**/*.wav\", recursive=True)\n",
    "\n",
    "wav_duration = {}\n",
    "max_duration = 0\n",
    "min_duration = 1000\n",
    "total_duration = 0\n",
    "\n",
    "for i, file in enumerate(wav_files):\n",
    "    audio = AudioSegment.from_wav(file)\n",
    "\n",
    "    duration = audio.duration_seconds\n",
    "\n",
    "    max_duration = max(max_duration, duration)\n",
    "    min_duration = min(min_duration, duration)\n",
    "    total_duration += duration\n",
    "\n",
    "    duration = int(duration)\n",
    "    if duration in wav_duration:\n",
    "        wav_duration[duration] += 1\n",
    "    else:\n",
    "        wav_duration[duration] = 1\n",
    "\n",
    "    # if i == 5: break\n",
    "\n",
    "avg_duration = total_duration / len(wav_files)\n",
    "total_duration /= 60 # sec. to min.\n",
    "duration_hours = total_duration // 60\n",
    "duration_mins = total_duration - (duration_hours * 60)\n",
    "\n",
    "print(f\"Total duration: {int(duration_hours)} hours {duration_mins:.2f} minutes\")\n",
    "print(f'Maximum duration: {max_duration:.2f} seconds')\n",
    "print(f'Minimum duration: {min_duration:.2f} seconds')\n",
    "print(f'Average duration: {avg_duration:.2f} seconds')"
   ]
  },
  {
   "cell_type": "markdown",
   "metadata": {},
   "source": [
    "## Creating LJ-mini corpus\n",
    "\n",
    "* corpus will contain about 8 hours of speech\n",
    "* word length: 3-30"
   ]
  },
  {
   "cell_type": "code",
   "execution_count": 2,
   "metadata": {},
   "outputs": [
    {
     "name": "stdout",
     "output_type": "stream",
     "text": [
      "LJ001-0014\n",
      "LJ001-0152\n",
      "LJ003-0011\n",
      "LJ005-0223\n",
      "LJ007-0060\n",
      "LJ007-0229\n",
      "LJ008-0263\n",
      "LJ009-0053\n",
      "LJ009-0129\n",
      "LJ011-0101\n",
      "LJ011-0154\n",
      "LJ012-0116\n",
      "LJ012-0147\n",
      "LJ014-0079\n",
      "LJ014-0133\n"
     ]
    }
   ],
   "source": [
    "wavdir = '/media/arif/Resource/Etc/data/LJSpeech-1.1/wavs'\n",
    "wavdir = '/mnt/resource/Etc/data/LJSpeech-1.1/wavs'\n",
    "destdir = '/media/arif/Resource/Etc/data/lj-mini/wavs'\n",
    "destdir = '/mnt/resource/Etc/data/lj-mini/wavs'\n",
    "\n",
    "with open('/mnt/resource/Etc/data/LJSpeech-1.1/metadata.csv') as f:\n",
    "    with open('/mnt/resource/Etc/data/lj-mini/mini-metadata.csv', 'w') as outfile:\n",
    "        duration = 0\n",
    "        for i, line in enumerate(f):\n",
    "            idx, txt, normtxt = line.split('|')\n",
    "\n",
    "            normtxt = normtxt.replace('.', ' ').replace(',', ' ').replace(';', ' ').replace('?', ' ').replace('!', ' ').replace('\"', ' ')\n",
    "            nwords = len(normtxt.split())\n",
    "\n",
    "            if nwords < 3 or nwords > 30:\n",
    "                print(idx)\n",
    "                continue\n",
    "\n",
    "            outfile.write(line)\n",
    "            \n",
    "            wavpath = os.path.join(wavdir, idx+'.wav')\n",
    "            shutil.copy(wavpath, destdir)\n",
    "\n",
    "            audio = AudioSegment.from_wav(wavpath)\n",
    "            duration += audio.duration_seconds\n",
    "            if duration >= 28800: # 8 hours\n",
    "                break\n",
    "\n",
    "            #if i == 5: break"
   ]
  },
  {
   "cell_type": "code",
   "execution_count": 13,
   "metadata": {},
   "outputs": [
    {
     "name": "stdout",
     "output_type": "stream",
     "text": [
      "LJ-mini corpus info:\n",
      "Total duration: 8 hours 0.00 minutes\n",
      "Maximum duration: 10.10 seconds\n",
      "Minimum duration: 1.12 seconds\n",
      "Average duration: 6.61 seconds\n"
     ]
    }
   ],
   "source": [
    "ljwavdir = '/media/arif/Resource/Etc/data/lj-mini/wavs'\n",
    "\n",
    "files = os.listdir(ljwavdir)\n",
    "\n",
    "wav_duration = {}\n",
    "max_duration = 0\n",
    "min_duration = 1000\n",
    "total_duration = 0\n",
    "\n",
    "for i, file in enumerate(files):\n",
    "    audio = AudioSegment.from_wav(os.path.join(ljwavdir, file))\n",
    "\n",
    "    duration = audio.duration_seconds\n",
    "\n",
    "    max_duration = max(max_duration, duration)\n",
    "    min_duration = min(min_duration, duration)\n",
    "    total_duration += duration\n",
    "\n",
    "    duration = int(duration)\n",
    "    if duration in wav_duration:\n",
    "        wav_duration[duration] += 1\n",
    "    else:\n",
    "        wav_duration[duration] = 1\n",
    "\n",
    "    #if i == 5: break\n",
    "\n",
    "avg_duration = total_duration / len(files)\n",
    "total_duration /= 60 # sec. to min.\n",
    "duration_hours = total_duration // 60\n",
    "duration_mins = total_duration - (duration_hours * 60)\n",
    "\n",
    "print(\"LJ-mini corpus info:\")\n",
    "print(f\"Total duration: {int(duration_hours)} hours {duration_mins:.2f} minutes\")\n",
    "print(f'Maximum duration: {max_duration:.2f} seconds')\n",
    "print(f'Minimum duration: {min_duration:.2f} seconds')\n",
    "print(f'Average duration: {avg_duration:.2f} seconds')"
   ]
  },
  {
   "cell_type": "code",
   "execution_count": null,
   "metadata": {},
   "outputs": [],
   "source": []
  }
 ],
 "metadata": {
  "interpreter": {
   "hash": "a41ce591415c5d74df4e007118beac18b4a2d894d119c29e4de87c00da99b116"
  },
  "kernelspec": {
   "display_name": "Python 3",
   "language": "python",
   "name": "python3"
  },
  "language_info": {
   "codemirror_mode": {
    "name": "ipython",
    "version": 3
   },
   "file_extension": ".py",
   "mimetype": "text/x-python",
   "name": "python",
   "nbconvert_exporter": "python",
   "pygments_lexer": "ipython3",
   "version": "3.9.17"
  },
  "latex_envs": {
   "LaTeX_envs_menu_present": true,
   "autoclose": false,
   "autocomplete": true,
   "bibliofile": "biblio.bib",
   "cite_by": "apalike",
   "current_citInitial": 1,
   "eqLabelWithNumbers": true,
   "eqNumInitial": 1,
   "hotkeys": {
    "equation": "Ctrl-E",
    "itemize": "Ctrl-I"
   },
   "labels_anchors": false,
   "latex_user_defs": false,
   "report_style_numbering": false,
   "user_envs_cfg": false
  },
  "toc": {
   "base_numbering": 1,
   "nav_menu": {},
   "number_sections": true,
   "sideBar": true,
   "skip_h1_title": false,
   "title_cell": "Table of Contents",
   "title_sidebar": "Contents",
   "toc_cell": false,
   "toc_position": {},
   "toc_section_display": true,
   "toc_window_display": false
  },
  "varInspector": {
   "cols": {
    "lenName": 16,
    "lenType": 16,
    "lenVar": 40
   },
   "kernels_config": {
    "python": {
     "delete_cmd_postfix": "",
     "delete_cmd_prefix": "del ",
     "library": "var_list.py",
     "varRefreshCmd": "print(var_dic_list())"
    },
    "r": {
     "delete_cmd_postfix": ") ",
     "delete_cmd_prefix": "rm(",
     "library": "var_list.r",
     "varRefreshCmd": "cat(var_dic_list()) "
    }
   },
   "types_to_exclude": [
    "module",
    "function",
    "builtin_function_or_method",
    "instance",
    "_Feature"
   ],
   "window_display": false
  }
 },
 "nbformat": 4,
 "nbformat_minor": 4
}
