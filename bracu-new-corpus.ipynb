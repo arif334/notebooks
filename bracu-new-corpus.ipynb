{
 "cells": [
  {
   "cell_type": "code",
   "execution_count": 1,
   "metadata": {},
   "outputs": [
    {
     "name": "stdout",
     "output_type": "stream",
     "text": [
      "Python 3.8.3\n"
     ]
    }
   ],
   "source": [
    "!python --version"
   ]
  },
  {
   "cell_type": "markdown",
   "metadata": {},
   "source": [
    "## Import Statements"
   ]
  },
  {
   "cell_type": "code",
   "execution_count": 7,
   "metadata": {},
   "outputs": [],
   "source": [
    "%matplotlib inline\n",
    "from pydub import AudioSegment\n",
    "from pydub.playback import play\n",
    "import IPython.display as ipd\n",
    "import os\n",
    "import re\n",
    "import matplotlib.pyplot as plt\n",
    "import numpy as np"
   ]
  },
  {
   "cell_type": "markdown",
   "metadata": {},
   "source": [
    "## WAV Duration"
   ]
  },
  {
   "cell_type": "code",
   "execution_count": 2,
   "metadata": {},
   "outputs": [],
   "source": [
    "wavdir = \"/media/arif/Resource/Etc/data/alamgir12/wavs\""
   ]
  },
  {
   "cell_type": "code",
   "execution_count": 3,
   "metadata": {},
   "outputs": [
    {
     "data": {
      "text/plain": [
       "10701"
      ]
     },
     "execution_count": 3,
     "metadata": {},
     "output_type": "execute_result"
    }
   ],
   "source": [
    "wav_files = os.listdir(wavdir)\n",
    "len(wav_files)"
   ]
  },
  {
   "cell_type": "code",
   "execution_count": 22,
   "metadata": {},
   "outputs": [],
   "source": [
    "dest_dir = '/mnt/resource/Tutorial/PhD (Offline)/Resources/Sound Corpus/BracU Speech Data/wavs_long'"
   ]
  },
  {
   "cell_type": "code",
   "execution_count": 23,
   "metadata": {},
   "outputs": [],
   "source": [
    "for i, file in enumerate(wav_files):\n",
    "    src_file = os.path.join(wavdir, file)\n",
    "    audio = AudioSegment.from_wav(src_file)\n",
    "\n",
    "    dur = int(audio.duration_seconds)\n",
    "    \n",
    "    if dur > 17:\n",
    "        os.rename(src_file, os.path.join(dest_dir, file))\n",
    "\n",
    "    #if i == 2: break"
   ]
  },
  {
   "cell_type": "code",
   "execution_count": 21,
   "metadata": {},
   "outputs": [
    {
     "name": "stdout",
     "output_type": "stream",
     "text": [
      "18: 14\n",
      "19: 7\n",
      "20: 10\n",
      "21: 9\n",
      "22: 5\n",
      "23: 8\n",
      "24: 9\n",
      "25: 8\n",
      "26: 2\n",
      "27: 3\n",
      "28: 3\n",
      "29: 6\n",
      "30: 1\n",
      "31: 5\n",
      "32: 4\n",
      "35: 1\n",
      "36: 1\n",
      "37: 2\n",
      "40: 1\n",
      "42: 1\n",
      "64: 1\n",
      "Total long files: 101\n"
     ]
    }
   ],
   "source": [
    "long_audio = 0\n",
    "for i in range(18, 70):\n",
    "    if i in durations:\n",
    "        print(f'{i}: {durations[i]}')\n",
    "\n",
    "        long_audio += durations[i]\n",
    "\n",
    "print(f'Total long files: {long_audio}')"
   ]
  },
  {
   "cell_type": "code",
   "execution_count": 4,
   "metadata": {},
   "outputs": [],
   "source": [
    "durations = [0] * 20\n",
    "for i, file in enumerate(wav_files):\n",
    "    src_file = os.path.join(wavdir, file)\n",
    "    audio = AudioSegment.from_wav(src_file)\n",
    "\n",
    "    dur = int(audio.duration_seconds)\n",
    "    durations[dur] += 1\n",
    "   \n",
    "\n",
    "    #if i == 2: break"
   ]
  },
  {
   "cell_type": "code",
   "execution_count": 6,
   "metadata": {},
   "outputs": [
    {
     "data": {
      "text/plain": [
       "<BarContainer object of 20 artists>"
      ]
     },
     "execution_count": 6,
     "metadata": {},
     "output_type": "execute_result"
    },
    {
     "data": {
      "image/png": "[encoded data removed]",
      "text/plain": [
       "<Figure size 432x288 with 1 Axes>"
      ]
     },
     "metadata": {
      "needs_background": "light"
     },
     "output_type": "display_data"
    }
   ],
   "source": [
    "plt.bar(range(len(durations)), durations)"
   ]
  },
  {
   "cell_type": "code",
   "execution_count": null,
   "metadata": {},
   "outputs": [],
   "source": []
  },
  {
   "cell_type": "markdown",
   "metadata": {},
   "source": [
    "## Processing New Audios"
   ]
  },
  {
   "cell_type": "code",
   "execution_count": 8,
   "metadata": {},
   "outputs": [],
   "source": [
    "def detect_leading_silence(sound, silence_threshold=-50.0, chunk_size=10):\n",
    "    '''\n",
    "    sound is a pydub.AudioSegment\n",
    "    silence_threshold in dB\n",
    "    chunk_size in ms\n",
    "\n",
    "    iterate over chunks until you find the first one with sound\n",
    "    '''\n",
    "    trim_ms = 0 # ms\n",
    "\n",
    "    assert (chunk_size > 0) # to avoid infinite loop\n",
    "    while sound[trim_ms:trim_ms+chunk_size].dBFS < silence_threshold and trim_ms < len(sound):\n",
    "        trim_ms += chunk_size\n",
    "\n",
    "    if trim_ms > chunk_size: trim_ms -= chunk_size\n",
    "    if trim_ms > chunk_size: trim_ms -= chunk_size\n",
    "    return trim_ms"
   ]
  },
  {
   "cell_type": "code",
   "execution_count": 9,
   "metadata": {},
   "outputs": [
    {
     "name": "stdout",
     "output_type": "stream",
     "text": [
      "208 files updated.\n"
     ]
    }
   ],
   "source": [
    "wavdir = '/mnt/resource/Tutorial/PhD (Offline)/Resources/Sound Corpus/BracU Speech Data/wavs_long'\n",
    "dest_dir = '/mnt/resource/Tutorial/PhD (Offline)/Resources/Sound Corpus/BracU Speech Data/wavs_clipped_mono_normalized_22.05k'\n",
    "\n",
    "files = os.listdir(wavdir)\n",
    "\n",
    "for total, file in enumerate(files):\n",
    "    #if total < 1100: continue\n",
    "    #if total == 3: break\n",
    "        \n",
    "    filename = os.path.join(wavdir,file)\n",
    "    \n",
    "    clip = AudioSegment.from_file(filename)\n",
    "    \n",
    "    ## Amplitude Normalization Not Needed\n",
    "\n",
    "    ## Sterio to Mono\n",
    "    if clip.channels == 2:\n",
    "        clip.set_channels(1)\n",
    "        #print(filename)\n",
    "\n",
    "    ## Silence Remover\n",
    "    start_trim = detect_leading_silence(clip)\n",
    "    end_trim = detect_leading_silence(clip.reverse())\n",
    "\n",
    "    duration = len(clip)    \n",
    "    trimmed_clip = clip[start_trim:duration-end_trim]\n",
    "\n",
    "    #play(clip)\n",
    "    \n",
    "    clip.export(os.path.join(dest_dir, file), format=\"wav\")\n",
    "    \n",
    "    \n",
    "    \n",
    "print(f'{total+1} files updated.')"
   ]
  },
  {
   "cell_type": "markdown",
   "metadata": {},
   "source": [
    "## Removing Small Files"
   ]
  },
  {
   "cell_type": "code",
   "execution_count": 12,
   "metadata": {},
   "outputs": [
    {
     "data": {
      "text/plain": [
       "10702"
      ]
     },
     "execution_count": 12,
     "metadata": {},
     "output_type": "execute_result"
    }
   ],
   "source": [
    "names = []\n",
    "with open('/mnt/resource/Etc/Notebooks/notebooks/metadata_normalized.csv') as f:\n",
    "    for line in f:\n",
    "        names.append(line.split('|')[0].strip())\n",
    "\n",
    "len(names)"
   ]
  },
  {
   "cell_type": "code",
   "execution_count": 20,
   "metadata": {},
   "outputs": [
    {
     "name": "stdout",
     "output_type": "stream",
     "text": [
      "Total 301 small files to be deleted.\n"
     ]
    }
   ],
   "source": [
    "wavdir = '/mnt/resource/Tutorial/PhD (Offline)/Resources/Sound Corpus/BracU Speech Data/wavs_clipped_mono_normalized_22.05k'\n",
    "\n",
    "files = os.listdir(wavdir)\n",
    "\n",
    "total_small_files = 0\n",
    "for file in files:\n",
    "    file = file[:-4]\n",
    "    if file not in names:\n",
    "        total_small_files += 1\n",
    "        os.remove(os.path.join(wavdir, file + '.wav'))\n",
    "\n",
    "print(f'Total {total_small_files} small files to be deleted.')"
   ]
  },
  {
   "cell_type": "markdown",
   "metadata": {},
   "source": [
    "## Sanity Check"
   ]
  },
  {
   "cell_type": "code",
   "execution_count": 25,
   "metadata": {},
   "outputs": [
    {
     "name": "stdout",
     "output_type": "stream",
     "text": [
      "10701\n",
      "10701\n"
     ]
    },
    {
     "data": {
      "text/plain": [
       "set()"
      ]
     },
     "execution_count": 25,
     "metadata": {},
     "output_type": "execute_result"
    }
   ],
   "source": [
    "names = []\n",
    "with open('/mnt/resource/Etc/Notebooks/notebooks/metadata_normalized.csv', encoding='utf-8-sig') as f:\n",
    "    for line in f:\n",
    "        names.append(line.split('|')[0].strip() + '.wav')\n",
    "\n",
    "print(len(names))\n",
    "\n",
    "wavdir = '/mnt/resource/Tutorial/PhD (Offline)/Resources/Sound Corpus/BracU Speech Data/wavs_clipped_mono_normalized_22.05k'\n",
    "\n",
    "files = os.listdir(wavdir)\n",
    "\n",
    "print(len(files))\n",
    "\n",
    "set(names) - set(files)"
   ]
  },
  {
   "cell_type": "markdown",
   "metadata": {},
   "source": [
    "## Statistics"
   ]
  },
  {
   "cell_type": "code",
   "execution_count": 49,
   "metadata": {},
   "outputs": [
    {
     "name": "stdout",
     "output_type": "stream",
     "text": [
      "Total sentences: 10701\n",
      "Total words: 102388\n",
      "Total unique words: 18285\n",
      "Average words per sentence:  9.6\n",
      "Maximum words in a sentence: 38\n",
      "Minimum words in a sentence: 1\n"
     ]
    },
    {
     "data": {
      "image/png": "[encoded data removed]",
      "text/plain": [
       "<Figure size 432x288 with 1 Axes>"
      ]
     },
     "metadata": {
      "needs_background": "light"
     },
     "output_type": "display_data"
    }
   ],
   "source": [
    "total_files = 0\n",
    "\n",
    "texts = []\n",
    "with open('/mnt/resource/Etc/Notebooks/notebooks/metadata_normalized.csv', encoding='utf-8-sig') as f:\n",
    "    for line in f:\n",
    "        #print(line)\n",
    "        texts.append(line.split('|')[2].strip())\n",
    "\n",
    "total_words = 0\n",
    "max_words = 0\n",
    "min_words = 100\n",
    "avg_words = 0\n",
    "text_lengths = dict()\n",
    "unique_words = set()\n",
    "for i, text in enumerate(texts):\n",
    "    words = text.split()\n",
    "    wordset = set()\n",
    "    for word in words:\n",
    "        if word is None: continue\n",
    "        word = word.replace(' ', '').replace(':', '').replace(\"'\", '').replace('\"', '').replace('(', '').replace(')', '').replace(',', '').replace(';', '').replace('।', '').replace('?', '').replace('[', '').replace(']', '').replace('!', '')\n",
    "        #word = re.sub(r\"[ :'\\\"(),;।?\\[\\]]\", '', word)\n",
    "        wordset.add(word)\n",
    "        unique_words.add(word)\n",
    "\n",
    "    n_words = len(wordset)\n",
    "    total_words += n_words\n",
    "    max_words = max(max_words, n_words)\n",
    "    min_words = min(min_words, n_words)\n",
    "    if n_words in text_lengths:\n",
    "        text_lengths[n_words] += 1\n",
    "    else:\n",
    "        text_lengths[n_words] = 1\n",
    "\n",
    "    #print(text)\n",
    "    #print(words)\n",
    "    #if i == 5: break\n",
    "\n",
    "print(f'Total sentences: {len(texts)}')\n",
    "print(f'Total words: {total_words}')\n",
    "print(f'Total unique words: {len(unique_words)}')\n",
    "print(f'Average words per sentence: {total_words / len(texts): .2}')\n",
    "print(f'Maximum words in a sentence: {max_words}')\n",
    "print(f'Minimum words in a sentence: {min_words}')\n",
    "\n",
    "fig = plt.figure()\n",
    "plt.scatter(text_lengths.keys(), text_lengths.values())\n",
    "plt.title('Words distribution statistics')\n",
    "plt.xlabel('No. of words')\n",
    "plt.ylabel('Frequency of samples')\n"
   ]
  },
  {
   "cell_type": "code",
   "execution_count": 13,
   "metadata": {},
   "outputs": [
    {
     "name": "stdout",
     "output_type": "stream",
     "text": [
      "Total duration: 11 hours 5.9e+01 minutes\n",
      "Maximum duration: 19.32 seconds\n",
      "Minimum duration: 0.27 seconds\n",
      "Average duration: 4.03 seconds\n"
     ]
    }
   ],
   "source": [
    "wavdir = '/media/arif/Resource/Etc/data/alamgir12/wavs'\n",
    "\n",
    "files = sorted(os.listdir(wavdir))\n",
    "\n",
    "texts = []\n",
    "with open('/media/arif/Resource/Etc/data/alamgir12/metadata.csv', encoding='utf-8-sig') as f:\n",
    "    for line in f:\n",
    "        idx, _, nrm_txt = line.split('|')\n",
    "        texts.append((idx, nrm_txt.strip()))\n",
    "texts = sorted(texts)\n",
    "\n",
    "total_duration = 0\n",
    "max_duration = 0\n",
    "min_duration = 100\n",
    "avg_duration = 0\n",
    "words_duration = []\n",
    "\n",
    "for i, file in enumerate(files):\n",
    "    audio = AudioSegment.from_wav(os.path.join(wavdir, file))\n",
    "\n",
    "    total_duration += audio.duration_seconds\n",
    "    max_duration = max(max_duration, audio.duration_seconds)\n",
    "    min_duration = min(min_duration, audio.duration_seconds)\n",
    "\n",
    "    words = texts[i][1].split()\n",
    "    wordset = set()\n",
    "    for word in words:\n",
    "        if word is None: continue\n",
    "        word = word.replace(' ', '').replace(':', '').replace(\"'\", '').replace('\"', '').replace('(', '').replace(')', '').replace(',', '').replace(';', '').replace('।', '').replace('?', '').replace('[', '').replace(']', '').replace('!', '')\n",
    "        wordset.add(word)\n",
    "\n",
    "    words_duration.append((len(wordset), audio.duration_seconds))\n",
    "\n",
    "avg_duration = total_duration / len(files)\n",
    "total_duration /= 60 # sec. to min.\n",
    "duration_hours = total_duration // 60\n",
    "duration_mins = total_duration - (duration_hours * 60)\n",
    "\n",
    "print(f\"Total duration: {int(duration_hours)} hours {duration_mins:.2f} minutes\")\n",
    "print(f'Maximum duration: {max_duration:.2f} seconds')\n",
    "print(f'Minimum duration: {min_duration:.2f} seconds')\n",
    "print(f'Average duration: {avg_duration:.2f} seconds')"
   ]
  },
  {
   "cell_type": "code",
   "execution_count": 14,
   "metadata": {},
   "outputs": [
    {
     "data": {
      "text/plain": [
       "Text(0, 0.5, 'Duration of samples')"
      ]
     },
     "execution_count": 14,
     "metadata": {},
     "output_type": "execute_result"
    },
    {
     "data": {
      "image/png": "[encoded data removed]",
      "text/plain": [
       "<Figure size 432x288 with 1 Axes>"
      ]
     },
     "metadata": {
      "needs_background": "light"
     },
     "output_type": "display_data"
    }
   ],
   "source": [
    "x, y = zip(*words_duration)\n",
    "plt.scatter(x, y)\n",
    "plt.title('Text length vs. Duration')\n",
    "plt.xlabel('No. of words')\n",
    "plt.ylabel('Duration of samples')"
   ]
  },
  {
   "cell_type": "markdown",
   "metadata": {},
   "source": [
    "## Text Length vs Duration"
   ]
  },
  {
   "cell_type": "code",
   "execution_count": 8,
   "metadata": {},
   "outputs": [],
   "source": [
    "def get_len_v_duration_info(wavdir, textfile):\n",
    "\n",
    "    files = sorted(os.listdir(wavdir))\n",
    "\n",
    "    texts = []\n",
    "    with open(textfile, encoding='utf-8-sig') as f:\n",
    "        for line in f:\n",
    "            idx, _, nrm_txt = line.split('|')\n",
    "            texts.append((idx, nrm_txt.strip()))\n",
    "    texts = sorted(texts)\n",
    "\n",
    "    total_duration = 0\n",
    "    durations = []\n",
    "\n",
    "    for i, file in enumerate(files):\n",
    "        audio = AudioSegment.from_wav(os.path.join(wavdir, file))\n",
    "        textlen = len(texts[i][1])\n",
    "        durations.append((textlen, audio.duration_seconds))\n",
    "\n",
    "    return np.array(durations).T"
   ]
  },
  {
   "cell_type": "code",
   "execution_count": 19,
   "metadata": {},
   "outputs": [
    {
     "name": "stdout",
     "output_type": "stream",
     "text": [
      "277.0 3.0\n"
     ]
    }
   ],
   "source": [
    "# alamgir12\n",
    "wavdir = '/media/arif/Resource/Etc/data/alamgir12/wavs'\n",
    "textfile = '/media/arif/Resource/Etc/data/alamgir12/metadata.csv'\n",
    "\n",
    "al12_durations = get_len_v_duration_info(wavdir, textfile)\n",
    "\n",
    "x, y = al12_durations\n",
    "print(max(x), min(x))"
   ]
  },
  {
   "cell_type": "code",
   "execution_count": 20,
   "metadata": {},
   "outputs": [
    {
     "data": {
      "text/plain": [
       "Text(0, 0.5, 'Duration of samples')"
      ]
     },
     "execution_count": 20,
     "metadata": {},
     "output_type": "execute_result"
    },
    {
     "data": {
      "image/png": "[encoded data removed]",
      "text/plain": [
       "<Figure size 432x288 with 1 Axes>"
      ]
     },
     "metadata": {
      "needs_background": "light"
     },
     "output_type": "display_data"
    }
   ],
   "source": [
    "plt.scatter(x, y)\n",
    "plt.title('Text length vs. Duration')\n",
    "plt.xlabel('No. of characters')\n",
    "plt.ylabel('Duration of samples')"
   ]
  },
  {
   "cell_type": "code",
   "execution_count": 16,
   "metadata": {},
   "outputs": [
    {
     "name": "stdout",
     "output_type": "stream",
     "text": [
      "9.0 179.0\n"
     ]
    }
   ],
   "source": [
    "#adrita18\n",
    "wavdir = '/media/arif/Resource/Etc/data/adrita18/wavs'\n",
    "textfile = '/media/arif/Resource/Etc/data/adrita18/metadata.csv'\n",
    "durations = get_len_v_duration_info(wavdir, textfile)\n",
    "x, y = durations\n",
    "print(min(x), max(x))"
   ]
  },
  {
   "cell_type": "code",
   "execution_count": 18,
   "metadata": {},
   "outputs": [],
   "source": [
    "ad18_durations = durations"
   ]
  },
  {
   "cell_type": "code",
   "execution_count": 17,
   "metadata": {},
   "outputs": [
    {
     "data": {
      "text/plain": [
       "Text(0, 0.5, 'Duration of samples')"
      ]
     },
     "execution_count": 17,
     "metadata": {},
     "output_type": "execute_result"
    },
    {
     "data": {
      "image/png": "[encoded data removed]",
      "text/plain": [
       "<Figure size 432x288 with 1 Axes>"
      ]
     },
     "metadata": {
      "needs_background": "light"
     },
     "output_type": "display_data"
    }
   ],
   "source": [
    "plt.scatter(x, y)\n",
    "plt.title('Text length vs. Duration')\n",
    "plt.xlabel('No. of characters')\n",
    "plt.ylabel('Duration of samples')"
   ]
  },
  {
   "cell_type": "code",
   "execution_count": 21,
   "metadata": {},
   "outputs": [
    {
     "name": "stdout",
     "output_type": "stream",
     "text": [
      "9.0 181.0\n"
     ]
    }
   ],
   "source": [
    "# kanak30\n",
    "wavdir = '/media/arif/Resource/Etc/data/kanak30/wavs'\n",
    "textfile = '/media/arif/Resource/Etc/data/kanak30/metadata.csv'\n",
    "kn30_durations = get_len_v_duration_info(wavdir, textfile)\n",
    "x, y = kn30_durations\n",
    "print(min(x), max(x))"
   ]
  },
  {
   "cell_type": "code",
   "execution_count": 22,
   "metadata": {},
   "outputs": [
    {
     "data": {
      "text/plain": [
       "Text(0, 0.5, 'Duration of samples')"
      ]
     },
     "execution_count": 22,
     "metadata": {},
     "output_type": "execute_result"
    },
    {
     "data": {
      "image/png": "[encoded data removed]",
      "text/plain": [
       "<Figure size 432x288 with 1 Axes>"
      ]
     },
     "metadata": {
      "needs_background": "light"
     },
     "output_type": "display_data"
    }
   ],
   "source": [
    "plt.scatter(x, y)\n",
    "plt.title('Text length vs. Duration')\n",
    "plt.xlabel('No. of characters')\n",
    "plt.ylabel('Duration of samples')"
   ]
  },
  {
   "cell_type": "code",
   "execution_count": 44,
   "metadata": {},
   "outputs": [
    {
     "data": {
      "image/png": "[encoded data removed]",
      "text/plain": [
       "<Figure size 1440x360 with 3 Axes>"
      ]
     },
     "metadata": {
      "needs_background": "light"
     },
     "output_type": "display_data"
    }
   ],
   "source": [
    "fig, ax = plt.subplots(1,3, sharex=True, sharey=False, figsize=(20,5))\n",
    "\n",
    "fig.text(0.5, -0.01, 'Length of Text (characters)', ha='center')\n",
    "fig.text(0.09, 0.5, 'Duration of Samples', va='center', rotation='vertical')\n",
    "plt.xticks(np.arange(0, 281, 40))\n",
    "plt.yticks(np.arange(0, 20, 4))\n",
    "\n",
    "x, y = al12_durations\n",
    "ax[0].scatter(x, y)\n",
    "ax[0].title.set_text('Dataset: M1')\n",
    "\n",
    "x, y = ad18_durations\n",
    "ax[1].scatter(x, y)\n",
    "ax[1].set_title('Dataset: F1')\n",
    "\n",
    "x, y = kn30_durations\n",
    "ax[2].scatter(x, y)\n",
    "ax[2].set_title('Dataset: M2')\n",
    "\n",
    "plt.subplots_adjust(wspace=0.1)"
   ]
  },
  {
   "cell_type": "code",
   "execution_count": null,
   "metadata": {},
   "outputs": [],
   "source": []
  }
 ],
 "metadata": {
  "interpreter": {
   "hash": "d70e2d321279222f1eafaf81c9747d238e011e5ae49bb51776f0b8d2bfcb65d2"
  },
  "kernelspec": {
   "display_name": "Python 3 (ipykernel)",
   "language": "python",
   "name": "python3"
  },
  "language_info": {
   "codemirror_mode": {
    "name": "ipython",
    "version": 3
   },
   "file_extension": ".py",
   "mimetype": "text/x-python",
   "name": "python",
   "nbconvert_exporter": "python",
   "pygments_lexer": "ipython3",
   "version": "3.8.12"
  },
  "toc": {
   "base_numbering": 1,
   "nav_menu": {},
   "number_sections": true,
   "sideBar": true,
   "skip_h1_title": false,
   "title_cell": "Table of Contents",
   "title_sidebar": "Contents",
   "toc_cell": false,
   "toc_position": {},
   "toc_section_display": true,
   "toc_window_display": true
  }
 },
 "nbformat": 4,
 "nbformat_minor": 2
}
